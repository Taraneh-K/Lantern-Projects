{
 "cells": [
  {
   "cell_type": "markdown",
   "metadata": {},
   "source": [
    "# Analysis Outline:\n",
    "\n",
    "In this project Corpus text file is analyzed using Random Forest. Preprocessing of text data involves transforming raw data into an understandable format for NLP models. \n",
    "1. Data cleaning and changing all the text content to lower case.\n",
    "2. Tokenization to  break a stream of text into words, phrases, symbols, or other meaningful elements called tokens. The list of tokens becomes input for further processing.\n",
    "3. Removing Punctuation and Stopwords\n",
    "4. Word Lemmatization to reduce the inflectional forms of each word into a common base or root.\n",
    "5. Word Vectorization using word count and TFIDF to turn a collection of text documents into numerical feature vectors\n",
    "6. Feature Engineering\n",
    "7. Adding new features to features\n",
    "8. Splitting data into Train and Test datasets\n",
    "9. Encoding labels to transform Categorical data of string type in the data set into numerical values which the model can understand.\n",
    "10. Fitting Random Forest algorithm and optimizing the hyper parameters"
   ]
  },
  {
   "cell_type": "code",
   "execution_count": 3,
   "metadata": {
    "scrolled": false
   },
   "outputs": [],
   "source": [
    "import pandas as pd\n",
    "import numpy as np\n",
    "import re\n",
    "import string\n",
    "\n",
    "import nltk\n",
    "from nltk.tokenize import word_tokenize\n",
    "from nltk import pos_tag\n",
    "from nltk.corpus import stopwords\n",
    "from nltk.stem import WordNetLemmatizer\n",
    "from nltk.corpus import wordnet as wn\n",
    "\n",
    "from sklearn.preprocessing import LabelEncoder\n",
    "from sklearn.preprocessing import StandardScaler\n",
    "from sklearn.feature_extraction.text import TfidfVectorizer\n",
    "from sklearn.feature_extraction.text import TfidfTransformer\n",
    "from sklearn.feature_extraction.text import CountVectorizer\n",
    "from sklearn import model_selection, naive_bayes, svm\n",
    "\n",
    "from sklearn.metrics import accuracy_score\n",
    "from sklearn.metrics import precision_recall_fscore_support as score\n",
    "from sklearn.pipeline import Pipeline\n",
    "from sklearn.model_selection import GridSearchCV\n",
    "from sklearn.model_selection import learning_curve\n",
    "from sklearn.model_selection import KFold, cross_val_score\n",
    "from sklearn.ensemble import RandomForestClassifier\n",
    "\n",
    "import tensorflow as tf\n",
    "from tensorflow.keras.preprocessing.text import Tokenizer\n",
    "from tensorflow.keras.preprocessing.sequence import pad_sequences\n",
    "\n",
    "from keras import regularizers\n",
    "from keras.layers import Dense, Dropout\n",
    "from keras.wrappers.scikit_learn import KerasClassifier\n",
    "\n",
    "import matplotlib.pyplot as plt\n",
    "\n",
    "from collections import defaultdict\n"
   ]
  },
  {
   "cell_type": "code",
   "execution_count": 4,
   "metadata": {},
   "outputs": [
    {
     "name": "stdout",
     "output_type": "stream",
     "text": [
      "2.0.0\n"
     ]
    }
   ],
   "source": [
    "print(tf.__version__)"
   ]
  },
  {
   "cell_type": "code",
   "execution_count": 4,
   "metadata": {},
   "outputs": [],
   "source": [
    "np.random.seed(500)"
   ]
  },
  {
   "cell_type": "code",
   "execution_count": 5,
   "metadata": {},
   "outputs": [],
   "source": [
    "Corpus = pd.read_csv(\"corpus.csv\",encoding='latin-1')"
   ]
  },
  {
   "cell_type": "code",
   "execution_count": 6,
   "metadata": {
    "scrolled": true
   },
   "outputs": [
    {
     "data": {
      "text/plain": [
       "text     0\n",
       "label    0\n",
       "dtype: int64"
      ]
     },
     "execution_count": 6,
     "metadata": {},
     "output_type": "execute_result"
    }
   ],
   "source": [
    "#Checking if there is any blank rows\n",
    "Corpus.isna().sum()"
   ]
  },
  {
   "cell_type": "code",
   "execution_count": 7,
   "metadata": {},
   "outputs": [
    {
     "data": {
      "text/plain": [
       "2"
      ]
     },
     "execution_count": 7,
     "metadata": {},
     "output_type": "execute_result"
    }
   ],
   "source": [
    "Corpus.label.nunique()"
   ]
  },
  {
   "cell_type": "code",
   "execution_count": 8,
   "metadata": {},
   "outputs": [
    {
     "data": {
      "text/plain": [
       "text     object\n",
       "label    object\n",
       "dtype: object"
      ]
     },
     "execution_count": 8,
     "metadata": {},
     "output_type": "execute_result"
    }
   ],
   "source": [
    "Corpus.dtypes"
   ]
  },
  {
   "cell_type": "code",
   "execution_count": 10,
   "metadata": {
    "scrolled": true
   },
   "outputs": [
    {
     "data": {
      "text/plain": [
       "<matplotlib.axes._subplots.AxesSubplot at 0x1c4bc6d82b0>"
      ]
     },
     "execution_count": 10,
     "metadata": {},
     "output_type": "execute_result"
    },
    {
     "data": {
      "image/png": "[encoded data removed]",
      "text/plain": [
       "<Figure size 1440x720 with 1 Axes>"
      ]
     },
     "metadata": {
      "needs_background": "light"
     },
     "output_type": "display_data"
    }
   ],
   "source": [
    "Corpus.groupby('label').text.count().plot(kind='bar',stacked=True, figsize=(20,10))"
   ]
  },
  {
   "cell_type": "markdown",
   "metadata": {},
   "source": [
    "Based on the graph above, our data set is very balanced."
   ]
  },
  {
   "cell_type": "code",
   "execution_count": 9,
   "metadata": {},
   "outputs": [],
   "source": [
    "#Change all the text to lower case\n",
    "Corpus = Corpus.applymap(lambda s:s.lower())"
   ]
  },
  {
   "cell_type": "code",
   "execution_count": 10,
   "metadata": {},
   "outputs": [],
   "source": [
    "#Tokenization : In this each entry in the corpus will be broken into set of words\n",
    "Corpus['tokenized_text']= [word_tokenize(entry) for entry in Corpus['text']]"
   ]
  },
  {
   "cell_type": "code",
   "execution_count": 11,
   "metadata": {},
   "outputs": [],
   "source": [
    "#Remove Puctuation\n",
    "def remove_punct (text):\n",
    "    text_nopunct = [char for char in text if char.isalpha()]\n",
    "    return text_nopunct\n",
    "Corpus['no_punct'] = Corpus['tokenized_text'].apply(lambda x : remove_punct(x))"
   ]
  },
  {
   "cell_type": "code",
   "execution_count": 12,
   "metadata": {},
   "outputs": [
    {
     "data": {
      "text/html": [
       "<div>\n",
       "<style scoped>\n",
       "    .dataframe tbody tr th:only-of-type {\n",
       "        vertical-align: middle;\n",
       "    }\n",
       "\n",
       "    .dataframe tbody tr th {\n",
       "        vertical-align: top;\n",
       "    }\n",
       "\n",
       "    .dataframe thead th {\n",
       "        text-align: right;\n",
       "    }\n",
       "</style>\n",
       "<table border=\"1\" class=\"dataframe\">\n",
       "  <thead>\n",
       "    <tr style=\"text-align: right;\">\n",
       "      <th></th>\n",
       "      <th>text</th>\n",
       "      <th>label</th>\n",
       "      <th>tokenized_text</th>\n",
       "      <th>no_punct</th>\n",
       "    </tr>\n",
       "  </thead>\n",
       "  <tbody>\n",
       "    <tr>\n",
       "      <th>0</th>\n",
       "      <td>stuning even for the non-gamer: this sound tr...</td>\n",
       "      <td>__label__2</td>\n",
       "      <td>[stuning, even, for, the, non-gamer, :, this, ...</td>\n",
       "      <td>[stuning, even, for, the, this, sound, track, ...</td>\n",
       "    </tr>\n",
       "    <tr>\n",
       "      <th>1</th>\n",
       "      <td>the best soundtrack ever to anything.: i'm re...</td>\n",
       "      <td>__label__2</td>\n",
       "      <td>[the, best, soundtrack, ever, to, anything, .,...</td>\n",
       "      <td>[the, best, soundtrack, ever, to, anything, i,...</td>\n",
       "    </tr>\n",
       "    <tr>\n",
       "      <th>2</th>\n",
       "      <td>amazing!: this soundtrack is my favorite musi...</td>\n",
       "      <td>__label__2</td>\n",
       "      <td>[amazing, !, :, this, soundtrack, is, my, favo...</td>\n",
       "      <td>[amazing, this, soundtrack, is, my, favorite, ...</td>\n",
       "    </tr>\n",
       "    <tr>\n",
       "      <th>3</th>\n",
       "      <td>excellent soundtrack: i truly like this sound...</td>\n",
       "      <td>__label__2</td>\n",
       "      <td>[excellent, soundtrack, :, i, truly, like, thi...</td>\n",
       "      <td>[excellent, soundtrack, i, truly, like, this, ...</td>\n",
       "    </tr>\n",
       "    <tr>\n",
       "      <th>4</th>\n",
       "      <td>remember, pull your jaw off the floor after h...</td>\n",
       "      <td>__label__2</td>\n",
       "      <td>[remember, ,, pull, your, jaw, off, the, floor...</td>\n",
       "      <td>[remember, pull, your, jaw, off, the, floor, a...</td>\n",
       "    </tr>\n",
       "  </tbody>\n",
       "</table>\n",
       "</div>"
      ],
      "text/plain": [
       "                                                text        label  \\\n",
       "0   stuning even for the non-gamer: this sound tr...  __label__2    \n",
       "1   the best soundtrack ever to anything.: i'm re...  __label__2    \n",
       "2   amazing!: this soundtrack is my favorite musi...  __label__2    \n",
       "3   excellent soundtrack: i truly like this sound...  __label__2    \n",
       "4   remember, pull your jaw off the floor after h...  __label__2    \n",
       "\n",
       "                                      tokenized_text  \\\n",
       "0  [stuning, even, for, the, non-gamer, :, this, ...   \n",
       "1  [the, best, soundtrack, ever, to, anything, .,...   \n",
       "2  [amazing, !, :, this, soundtrack, is, my, favo...   \n",
       "3  [excellent, soundtrack, :, i, truly, like, thi...   \n",
       "4  [remember, ,, pull, your, jaw, off, the, floor...   \n",
       "\n",
       "                                            no_punct  \n",
       "0  [stuning, even, for, the, this, sound, track, ...  \n",
       "1  [the, best, soundtrack, ever, to, anything, i,...  \n",
       "2  [amazing, this, soundtrack, is, my, favorite, ...  \n",
       "3  [excellent, soundtrack, i, truly, like, this, ...  \n",
       "4  [remember, pull, your, jaw, off, the, floor, a...  "
      ]
     },
     "execution_count": 12,
     "metadata": {},
     "output_type": "execute_result"
    }
   ],
   "source": [
    "Corpus.head()"
   ]
  },
  {
   "cell_type": "code",
   "execution_count": 13,
   "metadata": {},
   "outputs": [],
   "source": [
    "# Remove Stop Words\n",
    "stopword = nltk.corpus.stopwords.words('english')\n",
    "def remove_stopwords (words_list):\n",
    "    text = [word for word in words_list if word not in stopword]\n",
    "    return text\n",
    "Corpus['text_nostop'] = Corpus ['no_punct'].apply(lambda x: remove_stopwords (x))"
   ]
  },
  {
   "cell_type": "code",
   "execution_count": 14,
   "metadata": {},
   "outputs": [
    {
     "data": {
      "text/html": [
       "<div>\n",
       "<style scoped>\n",
       "    .dataframe tbody tr th:only-of-type {\n",
       "        vertical-align: middle;\n",
       "    }\n",
       "\n",
       "    .dataframe tbody tr th {\n",
       "        vertical-align: top;\n",
       "    }\n",
       "\n",
       "    .dataframe thead th {\n",
       "        text-align: right;\n",
       "    }\n",
       "</style>\n",
       "<table border=\"1\" class=\"dataframe\">\n",
       "  <thead>\n",
       "    <tr style=\"text-align: right;\">\n",
       "      <th></th>\n",
       "      <th>text</th>\n",
       "      <th>label</th>\n",
       "      <th>tokenized_text</th>\n",
       "      <th>no_punct</th>\n",
       "      <th>text_nostop</th>\n",
       "    </tr>\n",
       "  </thead>\n",
       "  <tbody>\n",
       "    <tr>\n",
       "      <th>0</th>\n",
       "      <td>stuning even for the non-gamer: this sound tr...</td>\n",
       "      <td>__label__2</td>\n",
       "      <td>[stuning, even, for, the, non-gamer, :, this, ...</td>\n",
       "      <td>[stuning, even, for, the, this, sound, track, ...</td>\n",
       "      <td>[stuning, even, sound, track, beautiful, paint...</td>\n",
       "    </tr>\n",
       "    <tr>\n",
       "      <th>1</th>\n",
       "      <td>the best soundtrack ever to anything.: i'm re...</td>\n",
       "      <td>__label__2</td>\n",
       "      <td>[the, best, soundtrack, ever, to, anything, .,...</td>\n",
       "      <td>[the, best, soundtrack, ever, to, anything, i,...</td>\n",
       "      <td>[best, soundtrack, ever, anything, reading, lo...</td>\n",
       "    </tr>\n",
       "    <tr>\n",
       "      <th>2</th>\n",
       "      <td>amazing!: this soundtrack is my favorite musi...</td>\n",
       "      <td>__label__2</td>\n",
       "      <td>[amazing, !, :, this, soundtrack, is, my, favo...</td>\n",
       "      <td>[amazing, this, soundtrack, is, my, favorite, ...</td>\n",
       "      <td>[amazing, soundtrack, favorite, music, time, h...</td>\n",
       "    </tr>\n",
       "    <tr>\n",
       "      <th>3</th>\n",
       "      <td>excellent soundtrack: i truly like this sound...</td>\n",
       "      <td>__label__2</td>\n",
       "      <td>[excellent, soundtrack, :, i, truly, like, thi...</td>\n",
       "      <td>[excellent, soundtrack, i, truly, like, this, ...</td>\n",
       "      <td>[excellent, soundtrack, truly, like, soundtrac...</td>\n",
       "    </tr>\n",
       "    <tr>\n",
       "      <th>4</th>\n",
       "      <td>remember, pull your jaw off the floor after h...</td>\n",
       "      <td>__label__2</td>\n",
       "      <td>[remember, ,, pull, your, jaw, off, the, floor...</td>\n",
       "      <td>[remember, pull, your, jaw, off, the, floor, a...</td>\n",
       "      <td>[remember, pull, jaw, floor, hearing, played, ...</td>\n",
       "    </tr>\n",
       "  </tbody>\n",
       "</table>\n",
       "</div>"
      ],
      "text/plain": [
       "                                                text        label  \\\n",
       "0   stuning even for the non-gamer: this sound tr...  __label__2    \n",
       "1   the best soundtrack ever to anything.: i'm re...  __label__2    \n",
       "2   amazing!: this soundtrack is my favorite musi...  __label__2    \n",
       "3   excellent soundtrack: i truly like this sound...  __label__2    \n",
       "4   remember, pull your jaw off the floor after h...  __label__2    \n",
       "\n",
       "                                      tokenized_text  \\\n",
       "0  [stuning, even, for, the, non-gamer, :, this, ...   \n",
       "1  [the, best, soundtrack, ever, to, anything, .,...   \n",
       "2  [amazing, !, :, this, soundtrack, is, my, favo...   \n",
       "3  [excellent, soundtrack, :, i, truly, like, thi...   \n",
       "4  [remember, ,, pull, your, jaw, off, the, floor...   \n",
       "\n",
       "                                            no_punct  \\\n",
       "0  [stuning, even, for, the, this, sound, track, ...   \n",
       "1  [the, best, soundtrack, ever, to, anything, i,...   \n",
       "2  [amazing, this, soundtrack, is, my, favorite, ...   \n",
       "3  [excellent, soundtrack, i, truly, like, this, ...   \n",
       "4  [remember, pull, your, jaw, off, the, floor, a...   \n",
       "\n",
       "                                         text_nostop  \n",
       "0  [stuning, even, sound, track, beautiful, paint...  \n",
       "1  [best, soundtrack, ever, anything, reading, lo...  \n",
       "2  [amazing, soundtrack, favorite, music, time, h...  \n",
       "3  [excellent, soundtrack, truly, like, soundtrac...  \n",
       "4  [remember, pull, jaw, floor, hearing, played, ...  "
      ]
     },
     "execution_count": 14,
     "metadata": {},
     "output_type": "execute_result"
    }
   ],
   "source": [
    "Corpus.head()"
   ]
  },
  {
   "cell_type": "code",
   "execution_count": 15,
   "metadata": {},
   "outputs": [],
   "source": [
    "#Lemmatizing \n",
    "wn = nltk.WordNetLemmatizer()\n",
    "def lemmatizing (tockenized_text):\n",
    "    text = [wn.lemmatize(word) for word in tockenized_text]\n",
    "    return text\n",
    "Corpus['text_lemmatized'] = Corpus['text_nostop'].apply(lambda x: lemmatizing(x))"
   ]
  },
  {
   "cell_type": "code",
   "execution_count": 16,
   "metadata": {
    "scrolled": true
   },
   "outputs": [
    {
     "data": {
      "text/html": [
       "<div>\n",
       "<style scoped>\n",
       "    .dataframe tbody tr th:only-of-type {\n",
       "        vertical-align: middle;\n",
       "    }\n",
       "\n",
       "    .dataframe tbody tr th {\n",
       "        vertical-align: top;\n",
       "    }\n",
       "\n",
       "    .dataframe thead th {\n",
       "        text-align: right;\n",
       "    }\n",
       "</style>\n",
       "<table border=\"1\" class=\"dataframe\">\n",
       "  <thead>\n",
       "    <tr style=\"text-align: right;\">\n",
       "      <th></th>\n",
       "      <th>text</th>\n",
       "      <th>label</th>\n",
       "      <th>tokenized_text</th>\n",
       "      <th>no_punct</th>\n",
       "      <th>text_nostop</th>\n",
       "      <th>text_lemmatized</th>\n",
       "    </tr>\n",
       "  </thead>\n",
       "  <tbody>\n",
       "    <tr>\n",
       "      <th>0</th>\n",
       "      <td>stuning even for the non-gamer: this sound track was beautiful! it paints the senery in your mi...</td>\n",
       "      <td>__label__2</td>\n",
       "      <td>[stuning, even, for, the, non-gamer, :, this, sound, track, was, beautiful, !, it, paints, the, ...</td>\n",
       "      <td>[stuning, even, for, the, this, sound, track, was, beautiful, it, paints, the, senery, in, your,...</td>\n",
       "      <td>[stuning, even, sound, track, beautiful, paints, senery, mind, well, would, recomend, even, peop...</td>\n",
       "      <td>[stuning, even, sound, track, beautiful, paint, senery, mind, well, would, recomend, even, peopl...</td>\n",
       "    </tr>\n",
       "    <tr>\n",
       "      <th>1</th>\n",
       "      <td>the best soundtrack ever to anything.: i'm reading a lot of reviews saying that this is the bes...</td>\n",
       "      <td>__label__2</td>\n",
       "      <td>[the, best, soundtrack, ever, to, anything, ., :, i, 'm, reading, a, lot, of, reviews, saying, t...</td>\n",
       "      <td>[the, best, soundtrack, ever, to, anything, i, reading, a, lot, of, reviews, saying, that, this,...</td>\n",
       "      <td>[best, soundtrack, ever, anything, reading, lot, reviews, saying, best, soundtrack, figured, wri...</td>\n",
       "      <td>[best, soundtrack, ever, anything, reading, lot, review, saying, best, soundtrack, figured, writ...</td>\n",
       "    </tr>\n",
       "    <tr>\n",
       "      <th>2</th>\n",
       "      <td>amazing!: this soundtrack is my favorite music of all time, hands down. the intense sadness of ...</td>\n",
       "      <td>__label__2</td>\n",
       "      <td>[amazing, !, :, this, soundtrack, is, my, favorite, music, of, all, time, ,, hands, down, ., the...</td>\n",
       "      <td>[amazing, this, soundtrack, is, my, favorite, music, of, all, time, hands, down, the, intense, s...</td>\n",
       "      <td>[amazing, soundtrack, favorite, music, time, hands, intense, sadness, prisoners, fate, means, pl...</td>\n",
       "      <td>[amazing, soundtrack, favorite, music, time, hand, intense, sadness, prisoner, fate, mean, playe...</td>\n",
       "    </tr>\n",
       "    <tr>\n",
       "      <th>3</th>\n",
       "      <td>excellent soundtrack: i truly like this soundtrack and i enjoy video game music. i have played ...</td>\n",
       "      <td>__label__2</td>\n",
       "      <td>[excellent, soundtrack, :, i, truly, like, this, soundtrack, and, i, enjoy, video, game, music, ...</td>\n",
       "      <td>[excellent, soundtrack, i, truly, like, this, soundtrack, and, i, enjoy, video, game, music, i, ...</td>\n",
       "      <td>[excellent, soundtrack, truly, like, soundtrack, enjoy, video, game, music, played, game, music,...</td>\n",
       "      <td>[excellent, soundtrack, truly, like, soundtrack, enjoy, video, game, music, played, game, music,...</td>\n",
       "    </tr>\n",
       "    <tr>\n",
       "      <th>4</th>\n",
       "      <td>remember, pull your jaw off the floor after hearing it: if you've played the game, you know how...</td>\n",
       "      <td>__label__2</td>\n",
       "      <td>[remember, ,, pull, your, jaw, off, the, floor, after, hearing, it, :, if, you, 've, played, the...</td>\n",
       "      <td>[remember, pull, your, jaw, off, the, floor, after, hearing, it, if, you, played, the, game, you...</td>\n",
       "      <td>[remember, pull, jaw, floor, hearing, played, game, know, divine, music, every, single, song, te...</td>\n",
       "      <td>[remember, pull, jaw, floor, hearing, played, game, know, divine, music, every, single, song, te...</td>\n",
       "    </tr>\n",
       "  </tbody>\n",
       "</table>\n",
       "</div>"
      ],
      "text/plain": [
       "                                                                                                  text  \\\n",
       "0   stuning even for the non-gamer: this sound track was beautiful! it paints the senery in your mi...   \n",
       "1   the best soundtrack ever to anything.: i'm reading a lot of reviews saying that this is the bes...   \n",
       "2   amazing!: this soundtrack is my favorite music of all time, hands down. the intense sadness of ...   \n",
       "3   excellent soundtrack: i truly like this soundtrack and i enjoy video game music. i have played ...   \n",
       "4   remember, pull your jaw off the floor after hearing it: if you've played the game, you know how...   \n",
       "\n",
       "         label  \\\n",
       "0  __label__2    \n",
       "1  __label__2    \n",
       "2  __label__2    \n",
       "3  __label__2    \n",
       "4  __label__2    \n",
       "\n",
       "                                                                                        tokenized_text  \\\n",
       "0  [stuning, even, for, the, non-gamer, :, this, sound, track, was, beautiful, !, it, paints, the, ...   \n",
       "1  [the, best, soundtrack, ever, to, anything, ., :, i, 'm, reading, a, lot, of, reviews, saying, t...   \n",
       "2  [amazing, !, :, this, soundtrack, is, my, favorite, music, of, all, time, ,, hands, down, ., the...   \n",
       "3  [excellent, soundtrack, :, i, truly, like, this, soundtrack, and, i, enjoy, video, game, music, ...   \n",
       "4  [remember, ,, pull, your, jaw, off, the, floor, after, hearing, it, :, if, you, 've, played, the...   \n",
       "\n",
       "                                                                                              no_punct  \\\n",
       "0  [stuning, even, for, the, this, sound, track, was, beautiful, it, paints, the, senery, in, your,...   \n",
       "1  [the, best, soundtrack, ever, to, anything, i, reading, a, lot, of, reviews, saying, that, this,...   \n",
       "2  [amazing, this, soundtrack, is, my, favorite, music, of, all, time, hands, down, the, intense, s...   \n",
       "3  [excellent, soundtrack, i, truly, like, this, soundtrack, and, i, enjoy, video, game, music, i, ...   \n",
       "4  [remember, pull, your, jaw, off, the, floor, after, hearing, it, if, you, played, the, game, you...   \n",
       "\n",
       "                                                                                           text_nostop  \\\n",
       "0  [stuning, even, sound, track, beautiful, paints, senery, mind, well, would, recomend, even, peop...   \n",
       "1  [best, soundtrack, ever, anything, reading, lot, reviews, saying, best, soundtrack, figured, wri...   \n",
       "2  [amazing, soundtrack, favorite, music, time, hands, intense, sadness, prisoners, fate, means, pl...   \n",
       "3  [excellent, soundtrack, truly, like, soundtrack, enjoy, video, game, music, played, game, music,...   \n",
       "4  [remember, pull, jaw, floor, hearing, played, game, know, divine, music, every, single, song, te...   \n",
       "\n",
       "                                                                                       text_lemmatized  \n",
       "0  [stuning, even, sound, track, beautiful, paint, senery, mind, well, would, recomend, even, peopl...  \n",
       "1  [best, soundtrack, ever, anything, reading, lot, review, saying, best, soundtrack, figured, writ...  \n",
       "2  [amazing, soundtrack, favorite, music, time, hand, intense, sadness, prisoner, fate, mean, playe...  \n",
       "3  [excellent, soundtrack, truly, like, soundtrack, enjoy, video, game, music, played, game, music,...  \n",
       "4  [remember, pull, jaw, floor, hearing, played, game, know, divine, music, every, single, song, te...  "
      ]
     },
     "execution_count": 16,
     "metadata": {},
     "output_type": "execute_result"
    }
   ],
   "source": [
    "pd.set_option('display.max_colwidth',100)\n",
    "Corpus.head()"
   ]
  },
  {
   "cell_type": "code",
   "execution_count": 19,
   "metadata": {},
   "outputs": [
    {
     "data": {
      "text/plain": [
       "'goose'"
      ]
     },
     "execution_count": 19,
     "metadata": {},
     "output_type": "execute_result"
    }
   ],
   "source": [
    "wn.lemmatize('geese')"
   ]
  },
  {
   "cell_type": "code",
   "execution_count": 17,
   "metadata": {
    "scrolled": true
   },
   "outputs": [],
   "source": [
    "# Vectorization using Count Vectorization\n",
    "count_vect = CountVectorizer(analyzer=lemmatizing)\n",
    "X_counts = count_vect.fit_transform(Corpus['text_lemmatized'])"
   ]
  },
  {
   "cell_type": "code",
   "execution_count": 21,
   "metadata": {
    "scrolled": true
   },
   "outputs": [],
   "source": [
    "#Vectorizers output Sparse Matrix. To view zero values as well:\n",
    "X_counts_df = pd.DataFrame(X_counts.toarray())\n",
    "X_counts_df.columns = count_vect.get_feature_names()"
   ]
  },
  {
   "cell_type": "code",
   "execution_count": 22,
   "metadata": {},
   "outputs": [],
   "source": [
    "# Vectorization using TFIDF\n",
    "tfidf_vect = TfidfVectorizer(analyzer=lemmatizing)\n",
    "X_tfidf = tfidf_vect.fit_transform(Corpus['text_lemmatized'])\n",
    "X_tfidf_df = pd.DataFrame(X_tfidf.toarray())\n",
    "X_tfidf_df.columns = tfidf_vect.get_feature_names()"
   ]
  },
  {
   "cell_type": "markdown",
   "metadata": {},
   "source": [
    "# Feature Engineering"
   ]
  },
  {
   "cell_type": "markdown",
   "metadata": {},
   "source": [
    "Hypotheses:\n",
    "1. Percentage of punctuation used in a text\n",
    "2. text length\n",
    "3. Percentage of repeated alphabets in each word of each text\n",
    "4. Max length of words in each text"
   ]
  },
  {
   "cell_type": "code",
   "execution_count": 18,
   "metadata": {},
   "outputs": [],
   "source": [
    "def count_punct (text):\n",
    "    count = sum([1 for char in text if char in string.punctuation])\n",
    "    return round(count/(len(text)-text.count(\" \")),3)*100"
   ]
  },
  {
   "cell_type": "code",
   "execution_count": 19,
   "metadata": {},
   "outputs": [],
   "source": [
    "#1. Percentage of punctuation used in a text\n",
    "Corpus['punct%'] = Corpus ['text'].apply(lambda x: count_punct(x))"
   ]
  },
  {
   "cell_type": "code",
   "execution_count": 20,
   "metadata": {},
   "outputs": [],
   "source": [
    "#2. text length\n",
    "Corpus ['body_len'] = Corpus['text'].apply(lambda x: len(x)-x.count(\" \"))"
   ]
  },
  {
   "cell_type": "code",
   "execution_count": 21,
   "metadata": {},
   "outputs": [],
   "source": [
    "#3. Percentage of repeated alphabets in each word of each text\n",
    "def repeated_ratio(text):\n",
    "    count = sum(1 for char in text if text.count(char) == 1)\n",
    "    return round (count/(len(text)-text.count(\" \")),3)*100\n",
    "Corpus['repeated%'] = Corpus['text_lemmatized'].apply(lambda x: repeated_ratio(x))"
   ]
  },
  {
   "cell_type": "code",
   "execution_count": 22,
   "metadata": {},
   "outputs": [],
   "source": [
    "#4. Max length of words in each text\n",
    "def max_length(text):\n",
    "    length = max(len(char) for char in text)\n",
    "    return length\n",
    "Corpus['max_word_length'] = Corpus['text_lemmatized'].apply(lambda x: max_length(x))"
   ]
  },
  {
   "cell_type": "code",
   "execution_count": 23,
   "metadata": {},
   "outputs": [
    {
     "data": {
      "text/plain": [
       "array(['__label__2 ', '__label__1 '], dtype=object)"
      ]
     },
     "execution_count": 23,
     "metadata": {},
     "output_type": "execute_result"
    }
   ],
   "source": [
    "Corpus.label.unique()"
   ]
  },
  {
   "cell_type": "code",
   "execution_count": 29,
   "metadata": {
    "scrolled": true
   },
   "outputs": [
    {
     "data": {
      "image/png": "[encoded data removed]",
      "text/plain": [
       "<Figure size 432x288 with 1 Axes>"
      ]
     },
     "metadata": {
      "needs_background": "light"
     },
     "output_type": "display_data"
    }
   ],
   "source": [
    "from matplotlib import pyplot\n",
    "bins = np.linspace(0,200,40)\n",
    "pyplot.hist(Corpus[Corpus['label']=='__label__1 ']['body_len'], bins, alpha=0.5, density=True, label='label_1')\n",
    "pyplot.hist(Corpus[Corpus['label']=='__label__2 ']['body_len'], bins, alpha=0.5, density=True, label='label_2')\n",
    "pyplot.legend(loc='upper left')\n",
    "pyplot.show()"
   ]
  },
  {
   "cell_type": "code",
   "execution_count": 31,
   "metadata": {
    "scrolled": true
   },
   "outputs": [
    {
     "data": {
      "image/png": "[encoded data removed]",
      "text/plain": [
       "<Figure size 432x288 with 1 Axes>"
      ]
     },
     "metadata": {
      "needs_background": "light"
     },
     "output_type": "display_data"
    }
   ],
   "source": [
    "bins = np.linspace(0,20,5)\n",
    "pyplot.hist(Corpus[Corpus['label']=='__label__1 ']['punct%'], bins, alpha=0.5, density=True, label='label_1')\n",
    "pyplot.hist(Corpus[Corpus['label']=='__label__2 ']['punct%'], bins, alpha=0.5, density=True, label='label_2')\n",
    "pyplot.legend(loc='upper left')\n",
    "pyplot.show()"
   ]
  },
  {
   "cell_type": "code",
   "execution_count": 97,
   "metadata": {},
   "outputs": [
    {
     "data": {
      "image/png": "[encoded data removed]",
      "text/plain": [
       "<Figure size 432x288 with 1 Axes>"
      ]
     },
     "metadata": {
      "needs_background": "light"
     },
     "output_type": "display_data"
    }
   ],
   "source": [
    "bins = np.linspace(0,200,40)\n",
    "pyplot.hist(Corpus[Corpus['label']=='__label__1 ']['repeated%'], bins, alpha=0.5, density=True, label='label_1')\n",
    "pyplot.hist(Corpus[Corpus['label']=='__label__2 ']['repeated%'], bins, alpha=0.5, density=True, label='label_2')\n",
    "pyplot.legend(loc='upper left')\n",
    "pyplot.show()"
   ]
  },
  {
   "cell_type": "code",
   "execution_count": 98,
   "metadata": {
    "scrolled": true
   },
   "outputs": [
    {
     "data": {
      "image/png": "[encoded data removed]",
      "text/plain": [
       "<Figure size 432x288 with 1 Axes>"
      ]
     },
     "metadata": {
      "needs_background": "light"
     },
     "output_type": "display_data"
    }
   ],
   "source": [
    "bins = np.linspace(0,20,5)\n",
    "pyplot.hist(Corpus[Corpus['label']=='__label__1 ']['max_word_length'], bins, alpha=0.5, density=True, label='label_1')\n",
    "pyplot.hist(Corpus[Corpus['label']=='__label__2 ']['max_word_length'], bins, alpha=0.5, density=True, label='label_2')\n",
    "pyplot.legend(loc='upper left')\n",
    "pyplot.show()"
   ]
  },
  {
   "cell_type": "markdown",
   "metadata": {},
   "source": [
    "Among the above feature, none of them have clearly separated label_1 and label_2. However, body length is able to separate the labels better than other features. We can see that label_1 tends to have longer length and label_2 tends to have shorter length. In following, I will just add these features to the model and test their importance."
   ]
  },
  {
   "cell_type": "markdown",
   "metadata": {},
   "source": [
    "## Adding new features to our dataset (TFIDF vectorized features)"
   ]
  },
  {
   "cell_type": "code",
   "execution_count": 30,
   "metadata": {},
   "outputs": [],
   "source": [
    "X_features = pd.concat([Corpus['body_len'], Corpus['punct%'], Corpus['repeated%'],Corpus['max_word_length'], pd.DataFrame(X_tfidf.toarray())],axis=1)"
   ]
  },
  {
   "cell_type": "code",
   "execution_count": 29,
   "metadata": {
    "scrolled": true
   },
   "outputs": [
    {
     "data": {
      "text/html": [
       "<div>\n",
       "<style scoped>\n",
       "    .dataframe tbody tr th:only-of-type {\n",
       "        vertical-align: middle;\n",
       "    }\n",
       "\n",
       "    .dataframe tbody tr th {\n",
       "        vertical-align: top;\n",
       "    }\n",
       "\n",
       "    .dataframe thead th {\n",
       "        text-align: right;\n",
       "    }\n",
       "</style>\n",
       "<table border=\"1\" class=\"dataframe\">\n",
       "  <thead>\n",
       "    <tr style=\"text-align: right;\">\n",
       "      <th></th>\n",
       "      <th>body_len</th>\n",
       "      <th>punct%</th>\n",
       "      <th>repeated%</th>\n",
       "      <th>max_word_length</th>\n",
       "      <th>0</th>\n",
       "      <th>1</th>\n",
       "      <th>2</th>\n",
       "      <th>3</th>\n",
       "      <th>4</th>\n",
       "      <th>5</th>\n",
       "      <th>...</th>\n",
       "      <th>26576</th>\n",
       "      <th>26577</th>\n",
       "      <th>26578</th>\n",
       "      <th>26579</th>\n",
       "      <th>26580</th>\n",
       "      <th>26581</th>\n",
       "      <th>26582</th>\n",
       "      <th>26583</th>\n",
       "      <th>26584</th>\n",
       "      <th>26585</th>\n",
       "    </tr>\n",
       "  </thead>\n",
       "  <tbody>\n",
       "    <tr>\n",
       "      <th>0</th>\n",
       "      <td>348</td>\n",
       "      <td>2.9</td>\n",
       "      <td>73.8</td>\n",
       "      <td>11</td>\n",
       "      <td>0.0</td>\n",
       "      <td>0.0</td>\n",
       "      <td>0.0</td>\n",
       "      <td>0.0</td>\n",
       "      <td>0.0</td>\n",
       "      <td>0.0</td>\n",
       "      <td>...</td>\n",
       "      <td>0.0</td>\n",
       "      <td>0.0</td>\n",
       "      <td>0.0</td>\n",
       "      <td>0.0</td>\n",
       "      <td>0.0</td>\n",
       "      <td>0.0</td>\n",
       "      <td>0.0</td>\n",
       "      <td>0.0</td>\n",
       "      <td>0.0</td>\n",
       "      <td>0.0</td>\n",
       "    </tr>\n",
       "    <tr>\n",
       "      <th>1</th>\n",
       "      <td>413</td>\n",
       "      <td>3.4</td>\n",
       "      <td>86.4</td>\n",
       "      <td>11</td>\n",
       "      <td>0.0</td>\n",
       "      <td>0.0</td>\n",
       "      <td>0.0</td>\n",
       "      <td>0.0</td>\n",
       "      <td>0.0</td>\n",
       "      <td>0.0</td>\n",
       "      <td>...</td>\n",
       "      <td>0.0</td>\n",
       "      <td>0.0</td>\n",
       "      <td>0.0</td>\n",
       "      <td>0.0</td>\n",
       "      <td>0.0</td>\n",
       "      <td>0.0</td>\n",
       "      <td>0.0</td>\n",
       "      <td>0.0</td>\n",
       "      <td>0.0</td>\n",
       "      <td>0.0</td>\n",
       "    </tr>\n",
       "    <tr>\n",
       "      <th>2</th>\n",
       "      <td>632</td>\n",
       "      <td>6.3</td>\n",
       "      <td>73.1</td>\n",
       "      <td>14</td>\n",
       "      <td>0.0</td>\n",
       "      <td>0.0</td>\n",
       "      <td>0.0</td>\n",
       "      <td>0.0</td>\n",
       "      <td>0.0</td>\n",
       "      <td>0.0</td>\n",
       "      <td>...</td>\n",
       "      <td>0.0</td>\n",
       "      <td>0.0</td>\n",
       "      <td>0.0</td>\n",
       "      <td>0.0</td>\n",
       "      <td>0.0</td>\n",
       "      <td>0.0</td>\n",
       "      <td>0.0</td>\n",
       "      <td>0.0</td>\n",
       "      <td>0.0</td>\n",
       "      <td>0.0</td>\n",
       "    </tr>\n",
       "    <tr>\n",
       "      <th>3</th>\n",
       "      <td>626</td>\n",
       "      <td>5.3</td>\n",
       "      <td>58.8</td>\n",
       "      <td>14</td>\n",
       "      <td>0.0</td>\n",
       "      <td>0.0</td>\n",
       "      <td>0.0</td>\n",
       "      <td>0.0</td>\n",
       "      <td>0.0</td>\n",
       "      <td>0.0</td>\n",
       "      <td>...</td>\n",
       "      <td>0.0</td>\n",
       "      <td>0.0</td>\n",
       "      <td>0.0</td>\n",
       "      <td>0.0</td>\n",
       "      <td>0.0</td>\n",
       "      <td>0.0</td>\n",
       "      <td>0.0</td>\n",
       "      <td>0.0</td>\n",
       "      <td>0.0</td>\n",
       "      <td>0.0</td>\n",
       "    </tr>\n",
       "    <tr>\n",
       "      <th>4</th>\n",
       "      <td>395</td>\n",
       "      <td>5.6</td>\n",
       "      <td>82.6</td>\n",
       "      <td>11</td>\n",
       "      <td>0.0</td>\n",
       "      <td>0.0</td>\n",
       "      <td>0.0</td>\n",
       "      <td>0.0</td>\n",
       "      <td>0.0</td>\n",
       "      <td>0.0</td>\n",
       "      <td>...</td>\n",
       "      <td>0.0</td>\n",
       "      <td>0.0</td>\n",
       "      <td>0.0</td>\n",
       "      <td>0.0</td>\n",
       "      <td>0.0</td>\n",
       "      <td>0.0</td>\n",
       "      <td>0.0</td>\n",
       "      <td>0.0</td>\n",
       "      <td>0.0</td>\n",
       "      <td>0.0</td>\n",
       "    </tr>\n",
       "  </tbody>\n",
       "</table>\n",
       "<p>5 rows × 26590 columns</p>\n",
       "</div>"
      ],
      "text/plain": [
       "   body_len  punct%  repeated%  max_word_length    0    1    2    3    4    5  \\\n",
       "0       348     2.9       73.8               11  0.0  0.0  0.0  0.0  0.0  0.0   \n",
       "1       413     3.4       86.4               11  0.0  0.0  0.0  0.0  0.0  0.0   \n",
       "2       632     6.3       73.1               14  0.0  0.0  0.0  0.0  0.0  0.0   \n",
       "3       626     5.3       58.8               14  0.0  0.0  0.0  0.0  0.0  0.0   \n",
       "4       395     5.6       82.6               11  0.0  0.0  0.0  0.0  0.0  0.0   \n",
       "\n",
       "   ...  26576  26577  26578  26579  26580  26581  26582  26583  26584  26585  \n",
       "0  ...    0.0    0.0    0.0    0.0    0.0    0.0    0.0    0.0    0.0    0.0  \n",
       "1  ...    0.0    0.0    0.0    0.0    0.0    0.0    0.0    0.0    0.0    0.0  \n",
       "2  ...    0.0    0.0    0.0    0.0    0.0    0.0    0.0    0.0    0.0    0.0  \n",
       "3  ...    0.0    0.0    0.0    0.0    0.0    0.0    0.0    0.0    0.0    0.0  \n",
       "4  ...    0.0    0.0    0.0    0.0    0.0    0.0    0.0    0.0    0.0    0.0  \n",
       "\n",
       "[5 rows x 26590 columns]"
      ]
     },
     "execution_count": 29,
     "metadata": {},
     "output_type": "execute_result"
    }
   ],
   "source": [
    "X_features.head()"
   ]
  },
  {
   "cell_type": "markdown",
   "metadata": {},
   "source": [
    "## Prepare Test and Train Datasets"
   ]
  },
  {
   "cell_type": "code",
   "execution_count": 31,
   "metadata": {},
   "outputs": [],
   "source": [
    "Train_X, Test_X, Train_Y, Test_Y = model_selection.train_test_split(X_features,Corpus['label'],test_size=0.3)"
   ]
  },
  {
   "cell_type": "markdown",
   "metadata": {},
   "source": [
    "# Encoding\n",
    "Label encode the target variable — This is done to transform Categorical data of string type in the data set into numerical values which the model can understand."
   ]
  },
  {
   "cell_type": "code",
   "execution_count": 32,
   "metadata": {},
   "outputs": [],
   "source": [
    "Encoder = LabelEncoder()\n",
    "Train_Y = Encoder.fit_transform(Train_Y)\n",
    "Test_Y = Encoder.fit_transform(Test_Y)"
   ]
  },
  {
   "cell_type": "markdown",
   "metadata": {},
   "source": [
    "# Fitting Random Forest "
   ]
  },
  {
   "cell_type": "code",
   "execution_count": 33,
   "metadata": {},
   "outputs": [
    {
     "data": {
      "text/plain": [
       "[(0.03285566590460781, 10270),\n",
       " (0.025980478305212815, 25707),\n",
       " (0.019338568833065492, 13947),\n",
       " (0.018104950162676242, 15170),\n",
       " (0.01632316859289032, 26254),\n",
       " (0.013934294541218506, 2693),\n",
       " (0.009128985790861695, 8110),\n",
       " (0.00808905597891536, 6518),\n",
       " (0.0077539168992256866, 20462),\n",
       " (0.007576664783608616, 11230)]"
      ]
     },
     "execution_count": 33,
     "metadata": {},
     "output_type": "execute_result"
    }
   ],
   "source": [
    "rf = RandomForestClassifier(n_estimators=50, max_depth=20, n_jobs=-1)\n",
    "rf_model = rf.fit(Train_X, Train_Y)\n",
    "sorted(zip(rf_model.feature_importances_,X_features.columns),reverse=True)[0:10]"
   ]
  },
  {
   "cell_type": "code",
   "execution_count": 34,
   "metadata": {},
   "outputs": [
    {
     "data": {
      "text/html": [
       "<div>\n",
       "<style scoped>\n",
       "    .dataframe tbody tr th:only-of-type {\n",
       "        vertical-align: middle;\n",
       "    }\n",
       "\n",
       "    .dataframe tbody tr th {\n",
       "        vertical-align: top;\n",
       "    }\n",
       "\n",
       "    .dataframe thead th {\n",
       "        text-align: right;\n",
       "    }\n",
       "</style>\n",
       "<table border=\"1\" class=\"dataframe\">\n",
       "  <thead>\n",
       "    <tr style=\"text-align: right;\">\n",
       "      <th></th>\n",
       "      <th>mean_fit_time</th>\n",
       "      <th>std_fit_time</th>\n",
       "      <th>mean_score_time</th>\n",
       "      <th>std_score_time</th>\n",
       "      <th>param_max_depth</th>\n",
       "      <th>param_n_estimators</th>\n",
       "      <th>params</th>\n",
       "      <th>split0_test_score</th>\n",
       "      <th>split1_test_score</th>\n",
       "      <th>split2_test_score</th>\n",
       "      <th>split3_test_score</th>\n",
       "      <th>split4_test_score</th>\n",
       "      <th>mean_test_score</th>\n",
       "      <th>std_test_score</th>\n",
       "      <th>rank_test_score</th>\n",
       "    </tr>\n",
       "  </thead>\n",
       "  <tbody>\n",
       "    <tr>\n",
       "      <th>11</th>\n",
       "      <td>340.392715</td>\n",
       "      <td>32.045014</td>\n",
       "      <td>1.859203</td>\n",
       "      <td>0.234246</td>\n",
       "      <td>None</td>\n",
       "      <td>300</td>\n",
       "      <td>{'max_depth': None, 'n_estimators': 300}</td>\n",
       "      <td>0.8425</td>\n",
       "      <td>0.8070</td>\n",
       "      <td>0.8240</td>\n",
       "      <td>0.8160</td>\n",
       "      <td>0.8310</td>\n",
       "      <td>0.8241</td>\n",
       "      <td>0.012200</td>\n",
       "      <td>1</td>\n",
       "    </tr>\n",
       "    <tr>\n",
       "      <th>8</th>\n",
       "      <td>258.386798</td>\n",
       "      <td>2.466896</td>\n",
       "      <td>1.710200</td>\n",
       "      <td>0.065270</td>\n",
       "      <td>90</td>\n",
       "      <td>300</td>\n",
       "      <td>{'max_depth': 90, 'n_estimators': 300}</td>\n",
       "      <td>0.8380</td>\n",
       "      <td>0.8040</td>\n",
       "      <td>0.8255</td>\n",
       "      <td>0.8155</td>\n",
       "      <td>0.8335</td>\n",
       "      <td>0.8233</td>\n",
       "      <td>0.012315</td>\n",
       "      <td>2</td>\n",
       "    </tr>\n",
       "    <tr>\n",
       "      <th>10</th>\n",
       "      <td>166.266413</td>\n",
       "      <td>3.994615</td>\n",
       "      <td>1.465601</td>\n",
       "      <td>0.067928</td>\n",
       "      <td>None</td>\n",
       "      <td>150</td>\n",
       "      <td>{'max_depth': None, 'n_estimators': 150}</td>\n",
       "      <td>0.8415</td>\n",
       "      <td>0.8060</td>\n",
       "      <td>0.8215</td>\n",
       "      <td>0.8110</td>\n",
       "      <td>0.8265</td>\n",
       "      <td>0.8213</td>\n",
       "      <td>0.012452</td>\n",
       "      <td>3</td>\n",
       "    </tr>\n",
       "    <tr>\n",
       "      <th>5</th>\n",
       "      <td>150.133797</td>\n",
       "      <td>6.830009</td>\n",
       "      <td>1.159401</td>\n",
       "      <td>0.184972</td>\n",
       "      <td>60</td>\n",
       "      <td>300</td>\n",
       "      <td>{'max_depth': 60, 'n_estimators': 300}</td>\n",
       "      <td>0.8325</td>\n",
       "      <td>0.8035</td>\n",
       "      <td>0.8255</td>\n",
       "      <td>0.8090</td>\n",
       "      <td>0.8300</td>\n",
       "      <td>0.8201</td>\n",
       "      <td>0.011659</td>\n",
       "      <td>4</td>\n",
       "    </tr>\n",
       "    <tr>\n",
       "      <th>7</th>\n",
       "      <td>121.093999</td>\n",
       "      <td>9.185976</td>\n",
       "      <td>1.344801</td>\n",
       "      <td>0.086678</td>\n",
       "      <td>90</td>\n",
       "      <td>150</td>\n",
       "      <td>{'max_depth': 90, 'n_estimators': 150}</td>\n",
       "      <td>0.8390</td>\n",
       "      <td>0.7965</td>\n",
       "      <td>0.8145</td>\n",
       "      <td>0.8165</td>\n",
       "      <td>0.8330</td>\n",
       "      <td>0.8199</td>\n",
       "      <td>0.014998</td>\n",
       "      <td>5</td>\n",
       "    </tr>\n",
       "  </tbody>\n",
       "</table>\n",
       "</div>"
      ],
      "text/plain": [
       "    mean_fit_time  std_fit_time  mean_score_time  std_score_time  \\\n",
       "11     340.392715     32.045014         1.859203        0.234246   \n",
       "8      258.386798      2.466896         1.710200        0.065270   \n",
       "10     166.266413      3.994615         1.465601        0.067928   \n",
       "5      150.133797      6.830009         1.159401        0.184972   \n",
       "7      121.093999      9.185976         1.344801        0.086678   \n",
       "\n",
       "   param_max_depth param_n_estimators  \\\n",
       "11            None                300   \n",
       "8               90                300   \n",
       "10            None                150   \n",
       "5               60                300   \n",
       "7               90                150   \n",
       "\n",
       "                                      params  split0_test_score  \\\n",
       "11  {'max_depth': None, 'n_estimators': 300}             0.8425   \n",
       "8     {'max_depth': 90, 'n_estimators': 300}             0.8380   \n",
       "10  {'max_depth': None, 'n_estimators': 150}             0.8415   \n",
       "5     {'max_depth': 60, 'n_estimators': 300}             0.8325   \n",
       "7     {'max_depth': 90, 'n_estimators': 150}             0.8390   \n",
       "\n",
       "    split1_test_score  split2_test_score  split3_test_score  \\\n",
       "11             0.8070             0.8240             0.8160   \n",
       "8              0.8040             0.8255             0.8155   \n",
       "10             0.8060             0.8215             0.8110   \n",
       "5              0.8035             0.8255             0.8090   \n",
       "7              0.7965             0.8145             0.8165   \n",
       "\n",
       "    split4_test_score  mean_test_score  std_test_score  rank_test_score  \n",
       "11             0.8310           0.8241        0.012200                1  \n",
       "8              0.8335           0.8233        0.012315                2  \n",
       "10             0.8265           0.8213        0.012452                3  \n",
       "5              0.8300           0.8201        0.011659                4  \n",
       "7              0.8330           0.8199        0.014998                5  "
      ]
     },
     "execution_count": 34,
     "metadata": {},
     "output_type": "execute_result"
    }
   ],
   "source": [
    "rf = RandomForestClassifier()\n",
    "param = {'n_estimators':[10,150,300],'max_depth':[30,60,90,None]}\n",
    "gs = GridSearchCV(rf,param,cv=5,n_jobs=-1)\n",
    "gs_fit=gs.fit(X_features,Corpus['label'])\n",
    "pd.DataFrame(gs_fit.cv_results_).sort_values('mean_test_score',ascending=False)[0:5]"
   ]
  },
  {
   "cell_type": "code",
   "execution_count": 35,
   "metadata": {},
   "outputs": [
    {
     "data": {
      "text/plain": [
       "[(0.020919635354321935, 10270),\n",
       " (0.011807340952053456, 25707),\n",
       " (0.010338830529841017, 13947),\n",
       " (0.008061483051962125, 1789),\n",
       " (0.00797312010122389, 15170),\n",
       " (0.007026645068681319, 26254),\n",
       " (0.007017435794218015, 2693),\n",
       " (0.006891443262533185, 'body_len'),\n",
       " (0.00667108801871055, 'punct%'),\n",
       " (0.006609956287935395, 6518)]"
      ]
     },
     "execution_count": 35,
     "metadata": {},
     "output_type": "execute_result"
    }
   ],
   "source": [
    "rf = RandomForestClassifier(n_estimators=300, max_depth=None, n_jobs=-1)\n",
    "rf_model = rf.fit(Train_X, Train_Y)\n",
    "sorted(zip(rf_model.feature_importances_,X_features.columns),reverse=True)[0:10]"
   ]
  },
  {
   "cell_type": "markdown",
   "metadata": {},
   "source": [
    "# Fitting Random Forest to Count Vectorized Features"
   ]
  },
  {
   "cell_type": "code",
   "execution_count": 24,
   "metadata": {},
   "outputs": [],
   "source": [
    "X_features_counts = pd.concat([Corpus['body_len'], Corpus['punct%'], Corpus['repeated%'],Corpus['max_word_length'], pd.DataFrame(X_counts.toarray())],axis=1)"
   ]
  },
  {
   "cell_type": "code",
   "execution_count": 25,
   "metadata": {},
   "outputs": [],
   "source": [
    "Train_X, Test_X, Train_Y, Test_Y = model_selection.train_test_split(X_features_counts,Corpus['label'],test_size=0.3)"
   ]
  },
  {
   "cell_type": "code",
   "execution_count": 26,
   "metadata": {
    "scrolled": true
   },
   "outputs": [
    {
     "data": {
      "text/html": [
       "<div>\n",
       "<style scoped>\n",
       "    .dataframe tbody tr th:only-of-type {\n",
       "        vertical-align: middle;\n",
       "    }\n",
       "\n",
       "    .dataframe tbody tr th {\n",
       "        vertical-align: top;\n",
       "    }\n",
       "\n",
       "    .dataframe thead th {\n",
       "        text-align: right;\n",
       "    }\n",
       "</style>\n",
       "<table border=\"1\" class=\"dataframe\">\n",
       "  <thead>\n",
       "    <tr style=\"text-align: right;\">\n",
       "      <th></th>\n",
       "      <th>mean_fit_time</th>\n",
       "      <th>std_fit_time</th>\n",
       "      <th>mean_score_time</th>\n",
       "      <th>std_score_time</th>\n",
       "      <th>param_max_depth</th>\n",
       "      <th>param_n_estimators</th>\n",
       "      <th>params</th>\n",
       "      <th>split0_test_score</th>\n",
       "      <th>split1_test_score</th>\n",
       "      <th>split2_test_score</th>\n",
       "      <th>split3_test_score</th>\n",
       "      <th>split4_test_score</th>\n",
       "      <th>mean_test_score</th>\n",
       "      <th>std_test_score</th>\n",
       "      <th>rank_test_score</th>\n",
       "    </tr>\n",
       "  </thead>\n",
       "  <tbody>\n",
       "    <tr>\n",
       "      <th>11</th>\n",
       "      <td>330.578011</td>\n",
       "      <td>14.371861</td>\n",
       "      <td>2.185394</td>\n",
       "      <td>1.140484</td>\n",
       "      <td>None</td>\n",
       "      <td>300</td>\n",
       "      <td>{'max_depth': None, 'n_estimators': 300}</td>\n",
       "      <td>0.8410</td>\n",
       "      <td>0.8170</td>\n",
       "      <td>0.8270</td>\n",
       "      <td>0.8215</td>\n",
       "      <td>0.8400</td>\n",
       "      <td>0.8293</td>\n",
       "      <td>0.009683</td>\n",
       "      <td>1</td>\n",
       "    </tr>\n",
       "    <tr>\n",
       "      <th>8</th>\n",
       "      <td>331.942850</td>\n",
       "      <td>20.097919</td>\n",
       "      <td>2.043308</td>\n",
       "      <td>0.681391</td>\n",
       "      <td>90</td>\n",
       "      <td>300</td>\n",
       "      <td>{'max_depth': 90, 'n_estimators': 300}</td>\n",
       "      <td>0.8400</td>\n",
       "      <td>0.8085</td>\n",
       "      <td>0.8300</td>\n",
       "      <td>0.8200</td>\n",
       "      <td>0.8375</td>\n",
       "      <td>0.8272</td>\n",
       "      <td>0.011656</td>\n",
       "      <td>2</td>\n",
       "    </tr>\n",
       "    <tr>\n",
       "      <th>7</th>\n",
       "      <td>168.044163</td>\n",
       "      <td>3.008715</td>\n",
       "      <td>1.671691</td>\n",
       "      <td>0.153912</td>\n",
       "      <td>90</td>\n",
       "      <td>150</td>\n",
       "      <td>{'max_depth': 90, 'n_estimators': 150}</td>\n",
       "      <td>0.8440</td>\n",
       "      <td>0.8030</td>\n",
       "      <td>0.8250</td>\n",
       "      <td>0.8180</td>\n",
       "      <td>0.8325</td>\n",
       "      <td>0.8245</td>\n",
       "      <td>0.013777</td>\n",
       "      <td>3</td>\n",
       "    </tr>\n",
       "    <tr>\n",
       "      <th>10</th>\n",
       "      <td>180.301598</td>\n",
       "      <td>3.049264</td>\n",
       "      <td>2.228999</td>\n",
       "      <td>1.553728</td>\n",
       "      <td>None</td>\n",
       "      <td>150</td>\n",
       "      <td>{'max_depth': None, 'n_estimators': 150}</td>\n",
       "      <td>0.8375</td>\n",
       "      <td>0.8130</td>\n",
       "      <td>0.8215</td>\n",
       "      <td>0.8210</td>\n",
       "      <td>0.8260</td>\n",
       "      <td>0.8238</td>\n",
       "      <td>0.008029</td>\n",
       "      <td>4</td>\n",
       "    </tr>\n",
       "    <tr>\n",
       "      <th>5</th>\n",
       "      <td>289.995662</td>\n",
       "      <td>26.612957</td>\n",
       "      <td>1.726197</td>\n",
       "      <td>0.107699</td>\n",
       "      <td>60</td>\n",
       "      <td>300</td>\n",
       "      <td>{'max_depth': 60, 'n_estimators': 300}</td>\n",
       "      <td>0.8405</td>\n",
       "      <td>0.8065</td>\n",
       "      <td>0.8185</td>\n",
       "      <td>0.8160</td>\n",
       "      <td>0.8365</td>\n",
       "      <td>0.8236</td>\n",
       "      <td>0.012870</td>\n",
       "      <td>5</td>\n",
       "    </tr>\n",
       "  </tbody>\n",
       "</table>\n",
       "</div>"
      ],
      "text/plain": [
       "    mean_fit_time  std_fit_time  mean_score_time  std_score_time  \\\n",
       "11     330.578011     14.371861         2.185394        1.140484   \n",
       "8      331.942850     20.097919         2.043308        0.681391   \n",
       "7      168.044163      3.008715         1.671691        0.153912   \n",
       "10     180.301598      3.049264         2.228999        1.553728   \n",
       "5      289.995662     26.612957         1.726197        0.107699   \n",
       "\n",
       "   param_max_depth param_n_estimators  \\\n",
       "11            None                300   \n",
       "8               90                300   \n",
       "7               90                150   \n",
       "10            None                150   \n",
       "5               60                300   \n",
       "\n",
       "                                      params  split0_test_score  \\\n",
       "11  {'max_depth': None, 'n_estimators': 300}             0.8410   \n",
       "8     {'max_depth': 90, 'n_estimators': 300}             0.8400   \n",
       "7     {'max_depth': 90, 'n_estimators': 150}             0.8440   \n",
       "10  {'max_depth': None, 'n_estimators': 150}             0.8375   \n",
       "5     {'max_depth': 60, 'n_estimators': 300}             0.8405   \n",
       "\n",
       "    split1_test_score  split2_test_score  split3_test_score  \\\n",
       "11             0.8170             0.8270             0.8215   \n",
       "8              0.8085             0.8300             0.8200   \n",
       "7              0.8030             0.8250             0.8180   \n",
       "10             0.8130             0.8215             0.8210   \n",
       "5              0.8065             0.8185             0.8160   \n",
       "\n",
       "    split4_test_score  mean_test_score  std_test_score  rank_test_score  \n",
       "11             0.8400           0.8293        0.009683                1  \n",
       "8              0.8375           0.8272        0.011656                2  \n",
       "7              0.8325           0.8245        0.013777                3  \n",
       "10             0.8260           0.8238        0.008029                4  \n",
       "5              0.8365           0.8236        0.012870                5  "
      ]
     },
     "execution_count": 26,
     "metadata": {},
     "output_type": "execute_result"
    }
   ],
   "source": [
    "rf = RandomForestClassifier()\n",
    "param = {'n_estimators':[10,150,300],'max_depth':[30,60,90,None]}\n",
    "gs = GridSearchCV(rf,param,cv=5,n_jobs=-1)\n",
    "gs_fit=gs.fit(X_features_counts,Corpus['label'])\n",
    "pd.DataFrame(gs_fit.cv_results_).sort_values('mean_test_score',ascending=False)[0:5]"
   ]
  },
  {
   "cell_type": "code",
   "execution_count": 28,
   "metadata": {},
   "outputs": [
    {
     "data": {
      "text/plain": [
       "[(0.01866217456339713, 10270),\n",
       " (0.009790392891559502, 25707),\n",
       " (0.009518795565816963, 15170),\n",
       " (0.008900947494427271, 'body_len'),\n",
       " (0.00848093437338835, 13947),\n",
       " (0.00801365085268645, 'punct%'),\n",
       " (0.007653024571793295, 26254),\n",
       " (0.007264173052821993, 'repeated%'),\n",
       " (0.007157174204820287, 2693),\n",
       " (0.0069258422321076575, 1789)]"
      ]
     },
     "execution_count": 28,
     "metadata": {},
     "output_type": "execute_result"
    }
   ],
   "source": [
    "rf = RandomForestClassifier(n_estimators=300, max_depth=None, n_jobs=-1)\n",
    "rf_model = rf.fit(Train_X, Train_Y)\n",
    "sorted(zip(rf_model.feature_importances_,X_features_counts.columns),reverse=True)[0:10]"
   ]
  },
  {
   "cell_type": "markdown",
   "metadata": {},
   "source": [
    "Based on the results for TFIDF vectorized and count vectorized features, fitting time for both of them are long. \n",
    "The highest test accuracy (mean_test_score) using TFID was 0.82 and for count vectorized was almost 0.83. These highest values was achieved by using 300 estimators and no limit of max_depth for both of them. Also, we can see that single features (words) or created features have a small importance to the model (maximum of around 0.02)."
   ]
  },
  {
   "cell_type": "code",
   "execution_count": null,
   "metadata": {},
   "outputs": [],
   "source": []
  }
 ],
 "metadata": {
  "kernelspec": {
   "display_name": "Python 3",
   "language": "python",
   "name": "python3"
  },
  "language_info": {
   "codemirror_mode": {
    "name": "ipython",
    "version": 3
   },
   "file_extension": ".py",
   "mimetype": "text/x-python",
   "name": "python",
   "nbconvert_exporter": "python",
   "pygments_lexer": "ipython3",
   "version": "3.7.3"
  },
  "toc": {
   "base_numbering": 1,
   "nav_menu": {},
   "number_sections": true,
   "sideBar": true,
   "skip_h1_title": false,
   "title_cell": "Table of Contents",
   "title_sidebar": "Contents",
   "toc_cell": false,
   "toc_position": {},
   "toc_section_display": true,
   "toc_window_display": false
  },
  "varInspector": {
   "cols": {
    "lenName": 16,
    "lenType": 16,
    "lenVar": 40
   },
   "kernels_config": {
    "python": {
     "delete_cmd_postfix": "",
     "delete_cmd_prefix": "del ",
     "library": "var_list.py",
     "varRefreshCmd": "print(var_dic_list())"
    },
    "r": {
     "delete_cmd_postfix": ") ",
     "delete_cmd_prefix": "rm(",
     "library": "var_list.r",
     "varRefreshCmd": "cat(var_dic_list()) "
    }
   },
   "types_to_exclude": [
    "module",
    "function",
    "builtin_function_or_method",
    "instance",
    "_Feature"
   ],
   "window_display": false
  }
 },
 "nbformat": 4,
 "nbformat_minor": 2
}
