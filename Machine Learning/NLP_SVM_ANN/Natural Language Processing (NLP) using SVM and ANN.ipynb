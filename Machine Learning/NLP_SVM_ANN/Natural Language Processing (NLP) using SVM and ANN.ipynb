{
 "cells": [
  {
   "cell_type": "markdown",
   "metadata": {},
   "source": [
    "# Analysis Outline:\n",
    "\n",
    "In this project Corpus text file is analyzed. Preprocessing of text data involves transforming raw data into an understandable format for NLP models. \n",
    "1. Data cleaning and changing all the text content to lower case.\n",
    "2. Tokenization to  break a stream of text into words, phrases, symbols, or other meaningful elements called tokens. The list of tokens becomes input for further processing.\n",
    "3. Word Lemmatization to reduce the inflectional forms of each word into a common base or root, as well as to remove Stop words.\n",
    "4. Splitting data into Train and Test datasets\n",
    "5. Encoding labels to transform Categorical data of string type in the data set into numerical values which the model can understand.\n",
    "6. Word Vectorization to turn a collection of text documents into numerical feature vectors\n",
    "7. Fitting SVM algorithm and optimizing the hyper parameters\n",
    "8. Fitting ANN algorithm and model optimization\n"
   ]
  },
  {
   "cell_type": "code",
   "execution_count": 117,
   "metadata": {
    "scrolled": true
   },
   "outputs": [
    {
     "name": "stderr",
     "output_type": "stream",
     "text": [
      "[nltk_data] Downloading package punkt to\n",
      "[nltk_data]     C:\\Users\\Taraneh\\AppData\\Roaming\\nltk_data...\n",
      "[nltk_data]   Package punkt is already up-to-date!\n",
      "[nltk_data] Downloading package wordnet to\n",
      "[nltk_data]     C:\\Users\\Taraneh\\AppData\\Roaming\\nltk_data...\n",
      "[nltk_data]   Package wordnet is already up-to-date!\n",
      "[nltk_data] Downloading package averaged_perceptron_tagger to\n",
      "[nltk_data]     C:\\Users\\Taraneh\\AppData\\Roaming\\nltk_data...\n",
      "[nltk_data]   Package averaged_perceptron_tagger is already up-to-\n",
      "[nltk_data]       date!\n",
      "[nltk_data] Downloading package stopwords to\n",
      "[nltk_data]     C:\\Users\\Taraneh\\AppData\\Roaming\\nltk_data...\n",
      "[nltk_data]   Package stopwords is already up-to-date!\n"
     ]
    }
   ],
   "source": [
    "import pandas as pd\n",
    "import numpy as np\n",
    "\n",
    "import nltk\n",
    "from nltk.tokenize import word_tokenize\n",
    "from nltk import pos_tag\n",
    "from nltk.corpus import stopwords\n",
    "from nltk.stem import WordNetLemmatizer\n",
    "from nltk.corpus import wordnet as wn\n",
    "\n",
    "from sklearn.preprocessing import LabelEncoder\n",
    "from sklearn.preprocessing import StandardScaler\n",
    "from sklearn.feature_extraction.text import TfidfVectorizer\n",
    "from sklearn.feature_extraction.text import TfidfTransformer\n",
    "from sklearn import model_selection, naive_bayes, svm\n",
    "from sklearn.svm import SVC\n",
    "from sklearn.metrics import accuracy_score\n",
    "from sklearn.pipeline import Pipeline\n",
    "from sklearn.model_selection import GridSearchCV\n",
    "from sklearn.model_selection import learning_curve\n",
    "\n",
    "import tensorflow as tf\n",
    "from tensorflow import keras\n",
    "from tensorflow.keras.preprocessing.text import Tokenizer\n",
    "from tensorflow.keras.preprocessing.sequence import pad_sequences\n",
    "\n",
    "from keras import regularizers\n",
    "from keras.layers import Dense, Dropout\n",
    "from keras.wrappers.scikit_learn import KerasClassifier\n",
    "\n",
    "import matplotlib.pyplot as plt\n",
    "\n",
    "from collections import defaultdict\n",
    "\n",
    "nltk.download('punkt')\n",
    "nltk.download('wordnet')\n",
    "nltk.download('averaged_perceptron_tagger')\n",
    "nltk.download('stopwords')"
   ]
  },
  {
   "cell_type": "code",
   "execution_count": 109,
   "metadata": {},
   "outputs": [
    {
     "name": "stdout",
     "output_type": "stream",
     "text": [
      "2.0.0\n"
     ]
    }
   ],
   "source": [
    "print(tf.__version__)"
   ]
  },
  {
   "cell_type": "code",
   "execution_count": 3,
   "metadata": {},
   "outputs": [],
   "source": [
    "np.random.seed(500)"
   ]
  },
  {
   "cell_type": "code",
   "execution_count": 5,
   "metadata": {},
   "outputs": [],
   "source": [
    "Corpus = pd.read_csv(\"corpus.csv\",encoding='latin-1')"
   ]
  },
  {
   "cell_type": "code",
   "execution_count": 7,
   "metadata": {},
   "outputs": [
    {
     "data": {
      "text/html": [
       "<div>\n",
       "<style scoped>\n",
       "    .dataframe tbody tr th:only-of-type {\n",
       "        vertical-align: middle;\n",
       "    }\n",
       "\n",
       "    .dataframe tbody tr th {\n",
       "        vertical-align: top;\n",
       "    }\n",
       "\n",
       "    .dataframe thead th {\n",
       "        text-align: right;\n",
       "    }\n",
       "</style>\n",
       "<table border=\"1\" class=\"dataframe\">\n",
       "  <thead>\n",
       "    <tr style=\"text-align: right;\">\n",
       "      <th></th>\n",
       "      <th>text</th>\n",
       "      <th>label</th>\n",
       "    </tr>\n",
       "  </thead>\n",
       "  <tbody>\n",
       "    <tr>\n",
       "      <th>0</th>\n",
       "      <td>Stuning even for the non-gamer: This sound tr...</td>\n",
       "      <td>__label__2</td>\n",
       "    </tr>\n",
       "    <tr>\n",
       "      <th>1</th>\n",
       "      <td>The best soundtrack ever to anything.: I'm re...</td>\n",
       "      <td>__label__2</td>\n",
       "    </tr>\n",
       "    <tr>\n",
       "      <th>2</th>\n",
       "      <td>Amazing!: This soundtrack is my favorite musi...</td>\n",
       "      <td>__label__2</td>\n",
       "    </tr>\n",
       "    <tr>\n",
       "      <th>3</th>\n",
       "      <td>Excellent Soundtrack: I truly like this sound...</td>\n",
       "      <td>__label__2</td>\n",
       "    </tr>\n",
       "    <tr>\n",
       "      <th>4</th>\n",
       "      <td>Remember, Pull Your Jaw Off The Floor After H...</td>\n",
       "      <td>__label__2</td>\n",
       "    </tr>\n",
       "    <tr>\n",
       "      <th>...</th>\n",
       "      <td>...</td>\n",
       "      <td>...</td>\n",
       "    </tr>\n",
       "    <tr>\n",
       "      <th>9995</th>\n",
       "      <td>A revelation of life in small town America in...</td>\n",
       "      <td>__label__2</td>\n",
       "    </tr>\n",
       "    <tr>\n",
       "      <th>9996</th>\n",
       "      <td>Great biography of a very interesting journal...</td>\n",
       "      <td>__label__2</td>\n",
       "    </tr>\n",
       "    <tr>\n",
       "      <th>9997</th>\n",
       "      <td>Interesting Subject; Poor Presentation: You'd...</td>\n",
       "      <td>__label__1</td>\n",
       "    </tr>\n",
       "    <tr>\n",
       "      <th>9998</th>\n",
       "      <td>Don't buy: The box looked used and it is obvi...</td>\n",
       "      <td>__label__1</td>\n",
       "    </tr>\n",
       "    <tr>\n",
       "      <th>9999</th>\n",
       "      <td>Beautiful Pen and Fast Delivery.: The pen was...</td>\n",
       "      <td>__label__2</td>\n",
       "    </tr>\n",
       "  </tbody>\n",
       "</table>\n",
       "<p>10000 rows × 2 columns</p>\n",
       "</div>"
      ],
      "text/plain": [
       "                                                   text        label\n",
       "0      Stuning even for the non-gamer: This sound tr...  __label__2 \n",
       "1      The best soundtrack ever to anything.: I'm re...  __label__2 \n",
       "2      Amazing!: This soundtrack is my favorite musi...  __label__2 \n",
       "3      Excellent Soundtrack: I truly like this sound...  __label__2 \n",
       "4      Remember, Pull Your Jaw Off The Floor After H...  __label__2 \n",
       "...                                                 ...          ...\n",
       "9995   A revelation of life in small town America in...  __label__2 \n",
       "9996   Great biography of a very interesting journal...  __label__2 \n",
       "9997   Interesting Subject; Poor Presentation: You'd...  __label__1 \n",
       "9998   Don't buy: The box looked used and it is obvi...  __label__1 \n",
       "9999   Beautiful Pen and Fast Delivery.: The pen was...  __label__2 \n",
       "\n",
       "[10000 rows x 2 columns]"
      ]
     },
     "execution_count": 7,
     "metadata": {},
     "output_type": "execute_result"
    }
   ],
   "source": [
    "Corpus"
   ]
  },
  {
   "cell_type": "code",
   "execution_count": 13,
   "metadata": {
    "scrolled": true
   },
   "outputs": [
    {
     "data": {
      "text/plain": [
       "text     0\n",
       "label    0\n",
       "dtype: int64"
      ]
     },
     "execution_count": 13,
     "metadata": {},
     "output_type": "execute_result"
    }
   ],
   "source": [
    "#Checking if there is any blank rows\n",
    "Corpus.isna().sum()"
   ]
  },
  {
   "cell_type": "code",
   "execution_count": 211,
   "metadata": {},
   "outputs": [
    {
     "data": {
      "text/plain": [
       "2"
      ]
     },
     "execution_count": 211,
     "metadata": {},
     "output_type": "execute_result"
    }
   ],
   "source": [
    "Corpus.label.nunique()"
   ]
  },
  {
   "cell_type": "code",
   "execution_count": 20,
   "metadata": {},
   "outputs": [
    {
     "data": {
      "text/plain": [
       "text     object\n",
       "label    object\n",
       "dtype: object"
      ]
     },
     "execution_count": 20,
     "metadata": {},
     "output_type": "execute_result"
    }
   ],
   "source": [
    "Corpus.dtypes"
   ]
  },
  {
   "cell_type": "code",
   "execution_count": 210,
   "metadata": {
    "scrolled": true
   },
   "outputs": [
    {
     "data": {
      "text/plain": [
       "<matplotlib.axes._subplots.AxesSubplot at 0x1157475f470>"
      ]
     },
     "execution_count": 210,
     "metadata": {},
     "output_type": "execute_result"
    },
    {
     "data": {
      "image/png": "[encoded data removed]",
      "text/plain": [
       "<Figure size 1440x720 with 1 Axes>"
      ]
     },
     "metadata": {
      "needs_background": "light"
     },
     "output_type": "display_data"
    }
   ],
   "source": [
    "Corpus.groupby('label').text.count().plot(kind='bar',stacked=True, figsize=(20,10))"
   ]
  },
  {
   "cell_type": "markdown",
   "metadata": {},
   "source": [
    "Based on the graph above, our data set is very balanced."
   ]
  },
  {
   "cell_type": "code",
   "execution_count": 21,
   "metadata": {},
   "outputs": [],
   "source": [
    "#Change all the text to lower case\n",
    "Corpus = Corpus.applymap(lambda s:s.lower())"
   ]
  },
  {
   "cell_type": "code",
   "execution_count": 53,
   "metadata": {},
   "outputs": [],
   "source": [
    "#Tokenization : In this each entry in the corpus will be broken into set of words\n",
    "Corpus['text']= [word_tokenize(entry) for entry in Corpus['text']]"
   ]
  },
  {
   "cell_type": "code",
   "execution_count": 63,
   "metadata": {},
   "outputs": [],
   "source": [
    "# Remove Stop words and perfom Word Stemming/Lemmenting.\n",
    "# WordNetLemmatizer requires Pos tags to understand if the word is noun or verb or adjective etc. By default it is set to Noun\n",
    "tag_map = defaultdict(lambda : wn.NOUN)\n",
    "tag_map['J'] = wn.ADJ\n",
    "tag_map['V'] = wn.VERB\n",
    "tag_map['R'] = wn.ADV\n",
    "\n",
    "for index,entry in enumerate(Corpus['text']):\n",
    "    # Declaring Empty List to store the words that follow the rules for this step\n",
    "    Final_words = []\n",
    "    # Initializing WordNetLemmatizer()\n",
    "    word_Lemmatized = WordNetLemmatizer()\n",
    "    # pos_tag function below will provide the 'tag' i.e if the word is Noun(N) or Verb(V) or something else.\n",
    "    for word, tag in pos_tag(entry):\n",
    "        # Below condition is to check for Stop words and consider only alphabets\n",
    "        if word not in stopwords.words('english') and word.isalpha():\n",
    "            word_Final = word_Lemmatized.lemmatize(word,tag_map[tag[0]])\n",
    "            Final_words.append(word_Final)\n",
    "    # The final processed set of words for each iteration will be stored in 'text_final'\n",
    "    Corpus.loc[index,'text_final'] = str(Final_words)"
   ]
  },
  {
   "cell_type": "code",
   "execution_count": 209,
   "metadata": {
    "scrolled": true
   },
   "outputs": [
    {
     "data": {
      "text/html": [
       "<div>\n",
       "<style scoped>\n",
       "    .dataframe tbody tr th:only-of-type {\n",
       "        vertical-align: middle;\n",
       "    }\n",
       "\n",
       "    .dataframe tbody tr th {\n",
       "        vertical-align: top;\n",
       "    }\n",
       "\n",
       "    .dataframe thead th {\n",
       "        text-align: right;\n",
       "    }\n",
       "</style>\n",
       "<table border=\"1\" class=\"dataframe\">\n",
       "  <thead>\n",
       "    <tr style=\"text-align: right;\">\n",
       "      <th></th>\n",
       "      <th>text</th>\n",
       "      <th>label</th>\n",
       "      <th>text_final</th>\n",
       "    </tr>\n",
       "  </thead>\n",
       "  <tbody>\n",
       "    <tr>\n",
       "      <th>0</th>\n",
       "      <td>[stuning, even, for, the, non-gamer, :, this, ...</td>\n",
       "      <td>__label__2</td>\n",
       "      <td>['stun', 'even', 'sound', 'track', 'beautiful'...</td>\n",
       "    </tr>\n",
       "    <tr>\n",
       "      <th>1</th>\n",
       "      <td>[the, best, soundtrack, ever, to, anything, .,...</td>\n",
       "      <td>__label__2</td>\n",
       "      <td>['best', 'soundtrack', 'ever', 'anything', 're...</td>\n",
       "    </tr>\n",
       "    <tr>\n",
       "      <th>2</th>\n",
       "      <td>[amazing, !, :, this, soundtrack, is, my, favo...</td>\n",
       "      <td>__label__2</td>\n",
       "      <td>['amaze', 'soundtrack', 'favorite', 'music', '...</td>\n",
       "    </tr>\n",
       "    <tr>\n",
       "      <th>3</th>\n",
       "      <td>[excellent, soundtrack, :, i, truly, like, thi...</td>\n",
       "      <td>__label__2</td>\n",
       "      <td>['excellent', 'soundtrack', 'truly', 'like', '...</td>\n",
       "    </tr>\n",
       "    <tr>\n",
       "      <th>4</th>\n",
       "      <td>[remember, ,, pull, your, jaw, off, the, floor...</td>\n",
       "      <td>__label__2</td>\n",
       "      <td>['remember', 'pull', 'jaw', 'floor', 'hear', '...</td>\n",
       "    </tr>\n",
       "    <tr>\n",
       "      <th>...</th>\n",
       "      <td>...</td>\n",
       "      <td>...</td>\n",
       "      <td>...</td>\n",
       "    </tr>\n",
       "    <tr>\n",
       "      <th>9995</th>\n",
       "      <td>[a, revelation, of, life, in, small, town, ame...</td>\n",
       "      <td>__label__2</td>\n",
       "      <td>['revelation', 'life', 'small', 'town', 'ameri...</td>\n",
       "    </tr>\n",
       "    <tr>\n",
       "      <th>9996</th>\n",
       "      <td>[great, biography, of, a, very, interesting, j...</td>\n",
       "      <td>__label__2</td>\n",
       "      <td>['great', 'biography', 'interesting', 'journal...</td>\n",
       "    </tr>\n",
       "    <tr>\n",
       "      <th>9997</th>\n",
       "      <td>[interesting, subject, ;, poor, presentation, ...</td>\n",
       "      <td>__label__1</td>\n",
       "      <td>['interest', 'subject', 'poor', 'presentation'...</td>\n",
       "    </tr>\n",
       "    <tr>\n",
       "      <th>9998</th>\n",
       "      <td>[do, n't, buy, :, the, box, looked, used, and,...</td>\n",
       "      <td>__label__1</td>\n",
       "      <td>['buy', 'box', 'look', 'use', 'obviously', 'ne...</td>\n",
       "    </tr>\n",
       "    <tr>\n",
       "      <th>9999</th>\n",
       "      <td>[beautiful, pen, and, fast, delivery, ., :, th...</td>\n",
       "      <td>__label__2</td>\n",
       "      <td>['beautiful', 'pen', 'fast', 'delivery', 'pen'...</td>\n",
       "    </tr>\n",
       "  </tbody>\n",
       "</table>\n",
       "<p>10000 rows × 3 columns</p>\n",
       "</div>"
      ],
      "text/plain": [
       "                                                   text        label  \\\n",
       "0     [stuning, even, for, the, non-gamer, :, this, ...  __label__2    \n",
       "1     [the, best, soundtrack, ever, to, anything, .,...  __label__2    \n",
       "2     [amazing, !, :, this, soundtrack, is, my, favo...  __label__2    \n",
       "3     [excellent, soundtrack, :, i, truly, like, thi...  __label__2    \n",
       "4     [remember, ,, pull, your, jaw, off, the, floor...  __label__2    \n",
       "...                                                 ...          ...   \n",
       "9995  [a, revelation, of, life, in, small, town, ame...  __label__2    \n",
       "9996  [great, biography, of, a, very, interesting, j...  __label__2    \n",
       "9997  [interesting, subject, ;, poor, presentation, ...  __label__1    \n",
       "9998  [do, n't, buy, :, the, box, looked, used, and,...  __label__1    \n",
       "9999  [beautiful, pen, and, fast, delivery, ., :, th...  __label__2    \n",
       "\n",
       "                                             text_final  \n",
       "0     ['stun', 'even', 'sound', 'track', 'beautiful'...  \n",
       "1     ['best', 'soundtrack', 'ever', 'anything', 're...  \n",
       "2     ['amaze', 'soundtrack', 'favorite', 'music', '...  \n",
       "3     ['excellent', 'soundtrack', 'truly', 'like', '...  \n",
       "4     ['remember', 'pull', 'jaw', 'floor', 'hear', '...  \n",
       "...                                                 ...  \n",
       "9995  ['revelation', 'life', 'small', 'town', 'ameri...  \n",
       "9996  ['great', 'biography', 'interesting', 'journal...  \n",
       "9997  ['interest', 'subject', 'poor', 'presentation'...  \n",
       "9998  ['buy', 'box', 'look', 'use', 'obviously', 'ne...  \n",
       "9999  ['beautiful', 'pen', 'fast', 'delivery', 'pen'...  \n",
       "\n",
       "[10000 rows x 3 columns]"
      ]
     },
     "execution_count": 209,
     "metadata": {},
     "output_type": "execute_result"
    }
   ],
   "source": [
    "Corpus"
   ]
  },
  {
   "cell_type": "markdown",
   "metadata": {},
   "source": [
    "### Prepare Test and Train Datasets"
   ]
  },
  {
   "cell_type": "code",
   "execution_count": 65,
   "metadata": {},
   "outputs": [],
   "source": [
    "Train_X, Test_X, Train_Y, Test_Y = model_selection.train_test_split(Corpus['text_final'],Corpus['label'],test_size=0.3)"
   ]
  },
  {
   "cell_type": "markdown",
   "metadata": {},
   "source": [
    "# 5. Encoding\n",
    "Label encode the target variable — This is done to transform Categorical data of string type in the data set into numerical values which the model can understand."
   ]
  },
  {
   "cell_type": "code",
   "execution_count": 66,
   "metadata": {},
   "outputs": [],
   "source": [
    "Encoder = LabelEncoder()\n",
    "Train_Y = Encoder.fit_transform(Train_Y)\n",
    "Test_Y = Encoder.fit_transform(Test_Y)"
   ]
  },
  {
   "cell_type": "markdown",
   "metadata": {},
   "source": [
    "# 6. Word Vectorization"
   ]
  },
  {
   "cell_type": "code",
   "execution_count": 67,
   "metadata": {},
   "outputs": [],
   "source": [
    "# It is better to tokenize based on Frequency instead of occurance since a word might be used many times in a few long documents\n",
    "# To avoid this issue, the number of occurrences of each word in a document is divided by the total number of words in the document tf for Term Frequencies\n",
    "tfidf_transformer = TfidfTransformer()\n",
    "Tfidf_vect = TfidfVectorizer(max_features=5000)\n",
    "Tfidf_vect.fit(Corpus['text_final'])\n",
    "Train_X_Tfidf = Tfidf_vect.transform(Train_X)\n",
    "Test_X_Tfidf = Tfidf_vect.transform(Test_X)"
   ]
  },
  {
   "cell_type": "code",
   "execution_count": 213,
   "metadata": {},
   "outputs": [
    {
     "name": "stdout",
     "output_type": "stream",
     "text": [
      "{'stun': 4271, 'even': 1529, 'sound': 4116, 'track': 4556, 'beautiful': 387, 'paint': 3160, 'mind': 2839, 'well': 4865, 'would': 4951, 'recomend': 3598, 'people': 3225, 'hate': 2054, 'video': 4763, 'game': 1855, 'music': 2925, 'play': 3298, 'cross': 1032, 'ever': 1533, 'best': 427, 'back': 330, 'away': 320, 'crude': 1035, 'take': 4371, 'fresh': 1812, 'step': 4210, 'guitar': 2004, 'soulful': 4113, 'orchestra': 3101, 'impress': 2245, 'anyone': 203, 'care': 645, 'listen': 2611, 'soundtrack': 4118, 'anything': 204, 'read': 3564, 'lot': 2655, 'review': 3721, 'say': 3840, 'figure': 1694, 'write': 4957, 'disagree': 1238, 'bit': 449, 'ultimate': 4633, 'masterpiece': 2756, 'timeless': 4506, 'year': 4976, 'beauty': 389, 'simply': 4011, 'refuse': 3621, 'price': 3407, 'tag': 4370, 'pretty': 3402, 'must': 2931, 'go': 1927, 'buy': 604, 'cd': 676, 'much': 2916, 'money': 2878, 'one': 3079, 'feel': 1671, 'worth': 4947, 'every': 1535, 'penny': 3224, 'amaze': 152, 'favorite': 1660, 'time': 4505, 'hand': 2024, 'intense': 2337, 'sadness': 3807, 'prisoner': 3421, 'fate': 1655, 'mean': 2774, 'hope': 2153, 'distant': 1276, 'promise': 3448, 'girl': 1908, 'steal': 4204, 'star': 4191, 'important': 2242, 'inspiration': 2313, 'personally': 3243, 'throughout': 4487, 'teen': 4403, 'high': 2109, 'energy': 1469, 'like': 2592, 'trigger': 4592, 'absolutely': 7, 'superb': 4314, 'amazing': 153, 'probably': 3426, 'composer': 884, 'work': 4936, 'hear': 2071, 'ca': 609, 'sure': 4327, 'never': 2977, 'twice': 4620, 'wish': 4916, 'could': 981, 'give': 1910, 'excellent': 1559, 'truly': 4604, 'enjoy': 1479, 'disk': 1264, 'scar': 3845, 'life': 2582, 'death': 1101, 'ancient': 172, 'dragon': 1325, 'lose': 2651, 'drown': 1349, 'two': 4624, 'home': 2141, 'girlfriend': 1909, 'three': 4483, 'garden': 1866, 'god': 1929, 'sea': 3883, 'burn': 594, 'tower': 4551, 'radical': 3527, 'bring': 550, 'remember': 3655, 'pull': 3478, 'jaw': 2411, 'floor': 1748, 'know': 2489, 'single': 4018, 'song': 4097, 'tell': 4408, 'story': 4237, 'good': 1935, 'great': 1971, 'without': 4920, 'doubt': 1312, 'magical': 2693, 'wind': 4903, 'jewel': 2425, 'translation': 4571, 'perfect': 3230, 'ask': 264, 'pour': 3364, 'heart': 2074, 'paper': 3170, 'absolute': 6, 'quite': 3515, 'actually': 48, 'least': 2552, 'heard': 2072, 'whether': 4876, 'aware': 319, 'contribute': 947, 'greatly': 1972, 'mood': 2888, 'minute': 2850, 'whole': 4884, 'exact': 1550, 'count': 983, 'remarkable': 3653, 'assure': 275, 'forget': 1777, 'everything': 1539, 'listener': 2613, 'dance': 1074, 'slow': 4055, 'haunting': 2057, 'purely': 3488, 'beautifully': 388, 'compose': 883, 'fantastic': 1643, 'vocal': 4796, 'surely': 4328, 'buyer': 605, 'beware': 430, 'book': 491, 'want': 4818, 'paragraph': 3176, 'family': 1638, 'friend': 1816, 'perhaps': 3236, 'imagine': 2230, 'thing': 4466, 'spend': 4149, 'evening': 1530, 'piece': 3269, 'another': 192, 'definitely': 1130, 'bad': 335, 'enough': 1484, 'enter': 1486, 'kind': 2475, 'contest': 938, 'believe': 407, 'amazon': 155, 'sell': 3907, 'maybe': 2768, 'offer': 3065, 'grade': 1951, 'term': 4425, 'kill': 2472, 'anyway': 206, 'unless': 4675, 'send': 3909, 'someone': 4090, 'joke': 2439, 'far': 1645, 'glorious': 1919, 'love': 2660, 'wicked': 4887, 'saint': 3812, 'pleasantly': 3306, 'surprise': 4334, 'change': 700, 'romance': 3769, 'novel': 3030, 'world': 4941, 'rave': 3559, 'brilliant': 548, 'true': 4602, 'wonderful': 4929, 'typical': 4626, 'crime': 1020, 'becuase': 393, 'miss': 2858, 'warm': 4821, 'five': 1727, 'finish': 1710, 'fell': 1674, 'expect': 1582, 'average': 312, 'instead': 2324, 'find': 1706, 'think': 4467, 'predict': 3382, 'outcome': 3123, 'shock': 3976, 'descriptive': 1171, 'break': 531, 'julia': 2448, 'felt': 1677, 'reader': 3566, 'lover': 2664, 'let': 2570, 'cover': 994, 'fool': 1769, 'spectacular': 4144, 'easy': 1393, 'make': 2706, 'keep': 2463, 'reading': 3568, 'put': 3496, 'leave': 2554, 'follow': 1763, 'come': 837, 'soon': 4101, 'use': 4709, 'get': 1897, 'enjoyable': 1480, 'complete': 875, 'waste': 4836, 'error': 1510, 'poor': 3334, 'grammar': 1956, 'totally': 4543, 'pathetic': 3202, 'plot': 3311, 'add': 55, 'nothing': 3025, 'embarrass': 1445, 'author': 304, 'disappointed': 1242, 'pay': 3211, 'fast': 1652, 'boy': 517, 'twist': 4622, 'turn': 4613, 'guess': 1996, 'happen': 2030, 'next': 2985, 'fall': 1634, 'heat': 2076, 'also': 141, 'several': 3938, 'emotion': 1449, 'quick': 3508, 'something': 4091, 'end': 1464, 'day': 1092, 'night': 2994, 'yet': 4984, 'realistic': 3573, 'show': 3987, 'human': 2186, 'fact': 1620, 'writer': 4959, 'loving': 2665, 'side': 3994, 'glass': 1913, 'castle': 663, 'oh': 3071, 'please': 3307, 'others': 3118, 'drivel': 1346, 'trouble': 4600, 'typo': 4628, 'feature': 1664, 'first': 1719, 'page': 3156, 'remove': 3664, 'wait': 4809, 'point': 3321, 'beginning': 401, 'clear': 789, 'intentional': 2340, 'prose': 3461, 'purpose': 3492, 'glad': 1911, 'awful': 323, 'beyond': 431, 'belief': 405, 'seem': 3900, 'grader': 1952, 'grammatical': 1957, 'skill': 4036, 'age': 96, 'reviewer': 3722, 'per': 3227, 'chapter': 703, 'example': 1555, 'mention': 2807, 'lean': 2548, 'house': 2174, 'distract': 1279, 'writing': 4960, 'weak': 4847, 'decide': 1110, 'pencil': 3222, 'mark': 2734, 'horrible': 2159, 'relative': 3636, 'faith': 1632, 'try': 4607, 'fake': 1633, 'obvious': 3049, 'glow': 1922, 'person': 3240, 'sentence': 3918, 'structure': 4263, 'romantic': 3770, 'zen': 4994, 'baseball': 357, 'comedy': 839, 'folk': 1762, 'anymore': 202, 'might': 2827, 'talk': 4375, 'cool': 964, 'young': 4989, 'search': 3887, 'stumble': 4270, 'resort': 3698, 'kitchen': 2482, 'gig': 1905, 'motorcycle': 2903, 'maintenance': 2702, 'man': 2712, 'italian': 2390, 'right': 3742, 'team': 4394, 'owner': 3148, 'often': 3070, 'case': 658, 'honest': 2146, 'comical': 846, 'always': 149, 'emotional': 1450, 'interaction': 2342, 'player': 3301, 'mix': 2863, 'special': 4136, 'effect': 1413, 'salsa': 3815, 'big': 435, 'compression': 889, 'stocking': 4228, 'doctor': 1290, 'require': 3686, 'wear': 4851, 'ugly': 4631, 'white': 4881, 'hose': 2166, 'thick': 4462, 'brown': 560, 'jobst': 2432, 'need': 2964, 'look': 2645, 'regular': 3627, 'though': 4477, 'blood': 469, 'still': 4221, 'support': 4321, 'leg': 2557, 'nice': 2986, 'problem': 3428, 'top': 4534, 'roll': 3765, 'thigh': 4464, 'hat': 2053, 'skin': 4038, 'inexpensive': 2286, 'belt': 416, 'fine': 1708, 'help': 2089, 'product': 3434, 'however': 2178, 'difficult': 1219, 'old': 3075, 'full': 1832, 'workout': 4940, 'begin': 399, 'create': 1010, 'deep': 1118, 'difficulty': 1220, 'address': 61, 'size': 4030, 'recomended': 3599, 'chart': 715, 'real': 3570, 'small': 4057, 'sheer': 3961, 'item': 2392, 'store': 4234, 'check': 722, 'men': 2803, 'model': 2869, 'may': 2767, 'ok': 3073, 'type': 4625, 'active': 43, 'around': 240, 'alot': 136, 'job': 2431, 'consistently': 923, 'found': 1789, 'ankle': 184, 'solution': 4085, 'standard': 4188, 'stock': 4227, 'stay': 4203, 'pair': 3162, 'tear': 4395, 'struggle': 4264, 'investment': 2371, 'delicious': 1143, 'funny': 1841, 'quickly': 3509, 'package': 3153, 'notice': 3026, 'since': 4014, 'convenience': 953, 'wrap': 4954, 'plastic': 3294, 'log': 2634, 'messy': 2815, 'extremely': 1613, 'sticky': 4219, 'ingredient': 2296, 'extra': 1609, 'butter': 602, 'really': 3576, 'large': 2519, 'chocolate': 742, 'chip': 740, 'addition': 59, 'flavor': 1734, 'digital': 1222, 'copy': 966, 'rather': 3556, 'scratch': 3873, 'random': 3541, 'combine': 835, 'light': 2586, 'vague': 4724, 'image': 2226, 'resolution': 3695, 'packaging': 3154, 'straight': 4241, 'street': 4251, 'corner': 970, 'bootleg': 496, 'see': 3898, 'reasonably': 3581, 'condition': 902, 'film': 1698, 'define': 1127, 'visuals': 4790, 'crystal': 1039, 'contrast': 946, 'black': 453, 'surround': 4339, 'countryside': 987, 'scene': 3853, 'set': 3933, 'early': 1384, 'morning': 2894, 'ground': 1988, 'memory': 2802, 'event': 1531, 'bridge': 544, 'water': 4841, 'bright': 547, 'dull': 1365, 'dark': 1081, 'cloud': 809, 'captain': 637, 'command': 847, 'hard': 2037, 'award': 318, 'acclaim': 23, 'presentation': 3396, 'youtube': 4992, 'somewhere': 4095, 'dvd': 1374, 'public': 3474, 'library': 2578, 'none': 3011, 'appear': 217, 'fascinating': 1650, 'insight': 2308, 'modern': 2870, 'japanese': 2407, 'thoroughly': 4475, 'rise': 3746, 'son': 4096, 'daughter': 1088, 'society': 4075, 'view': 4764, 'parent': 3181, 'culture': 1044, 'community': 857, 'western': 4867, 'form': 1779, 'new': 2979, 'japan': 2406, 'international': 2349, 'blend': 463, 'demonstrate': 1154, 'private': 3423, 'member': 2799, 'steven': 4215, 'clearly': 790, 'talented': 4374, 'adopt': 70, 'school': 3860, 'four': 1791, 'thus': 4491, 'able': 3, 'inside': 2307, 'album': 119, 'thought': 4478, 'blue': 473, 'angel': 176, 'hair': 2016, 'singer': 4016, 'talent': 4373, 'charge': 707, 'charger': 708, 'aa': 0, 'battery': 372, 'huge': 2183, 'secure': 3895, 'flip': 1746, 'little': 2621, 'button': 603, 'positive': 3351, 'pop': 3336, 'wo': 4924, 'hold': 2131, 'mechanism': 2783, 'become': 391, 'loose': 2647, 'pressure': 3399, 'push': 3495, 'tape': 4381, 'segment': 3902, 'apply': 222, 'painful': 3158, 'advertised': 80, 'instruction': 2325, 'dont': 1306, 'do': 1288, 'hour': 2173, 'return': 3715, 'useless': 4712, 'backup': 334, 'manage': 2713, 'drain': 1326, 'purchase': 3486, 'convenient': 954, 'last': 2523, 'short': 3982, 'long': 2643, 'dear': 1100, 'excite': 1567, 'muslim': 2930, 'volume': 4800, 'live': 2622, 'essay': 1514, 'among': 161, 'describe': 1168, 'explain': 1593, 'woman': 4927, 'cape': 635, 'town': 4552, 'claim': 776, 'separate': 3920, 'equal': 1501, 'hop': 2152, 'feminist': 1680, 'gender': 1878, 'surprised': 4335, 'virtue': 4782, 'female': 1678, 'base': 356, 'christmas': 756, 'present': 3395, 'join': 2437, 'rest': 3705, 'vhs': 4753, 'movie': 2911, 'tv': 4618, 'choice': 743, 'agree': 100, 'awkward': 325, 'selection': 3905, 'option': 3099, 'hang': 2029, 'comment': 848, 'complicated': 880, 'many': 2725, 'remote': 3661, 'rely': 3647, 'heavily': 2080, 'manual': 2722, 'vcr': 4737, 'timer': 4508, 'start': 4196, 'complaint': 874, 'incorrect': 2267, 'disc': 1246, 'fan': 1640, 'saw': 3838, 'unit': 4669, 'section': 3894, 'happy': 2036, 'click': 794, 'receiver': 3589, 'transition': 4569, 'smooth': 4064, 'pause': 3210, 'fairly': 1630, 'message': 2814, 'nut': 3040, 'television': 4407, 'bookshelf': 493, 'audio': 295, 'system': 4364, 'car': 642, 'move': 2909, 'room': 3774, 'combo': 836, 'except': 1560, 'cable': 612, 'box': 514, 'control': 950, 'input': 2304, 'programming': 3444, 'mono': 2881, 'wife': 4894, 'difference': 1216, 'title': 4518, 'hollywood': 2137, 'ridiculous': 3739, 'wonder': 4928, 'script': 3879, 'mountain': 2906, 'lion': 2605, 'trailer': 4563, 'behind': 403, 'capture': 641, 'jail': 2401, 'cell': 680, 'utterly': 4721, 'completely': 876, 'stupid': 4274, 'bet': 428, 'hotel': 2171, 'incredible': 2269, 'act': 40, 'bbc': 377, 'soap': 4071, 'max': 2766, 'mariah': 2730, 'drama': 1327, 'series': 3926, 'opera': 3087, 'air': 106, 'america': 157, 'episode': 1499, 'season': 3888, 'finale': 1702, 'interesting': 2345, 'remind': 3656, 'reason': 3579, 'fictional': 1685, 'san': 3820, 'francisco': 1799, 'recommend': 3600, 'willing': 4900, 'watch': 4838, 'already': 139, 'law': 2534, 'seriously': 3928, 'unfortunately': 4661, 'entertain': 1487, 'order': 3102, 'hip': 2119, 'daddy': 1067, 'vibe': 4755, 'fourth': 1792, 'class': 781, 'main': 2698, 'playing': 3302, 'voice': 4798, 'party': 3190, 'anywhere': 208, 'neighborhood': 2970, 'laugh': 2529, 'beach': 380, 'grow': 1990, 'surfer': 4331, 'southern': 4122, 'california': 615, 'brother': 559, 'honestly': 2147, 'kinda': 2476, 'surf': 4329, 'hell': 2087, 'moral': 2891, 'aspect': 266, 'american': 158, 'explanation': 1594, 'simple': 4008, 'focus': 1760, 'individual': 2280, 'ignore': 2216, 'personal': 3241, 'responsibility': 3703, 'final': 1701, 'response': 3702, 'robert': 3755, 'seller': 3908, 'disgust': 1260, 'state': 4198, 'medium': 2789, 'politics': 3330, 'general': 1879, 'head': 2063, 'substantial': 4285, 'challenge': 696, 'lie': 2581, 'being': 404, 'larry': 2521, 'label': 2499, 'late': 2524, 'explore': 1597, 'rich': 3733, 'catalog': 666, 'jazz': 2414, 'musician': 2927, 'stand': 4187, 'mile': 2832, 'mac': 2682, 'line': 2601, 'windows': 4905, 'frustrating': 1828, 'excited': 1568, 'attempt': 285, 'touch': 4544, 'mouse': 2907, 'arrow': 245, 'keyboard': 2469, 'fun': 1834, 'disapointed': 1239, 'attention': 287, 'level': 2573, 'rescue': 3689, 'hero': 2098, 'dog': 1295, 'former': 1782, 'repeatedly': 3672, 'recipe': 3595, 'throw': 4488, 'cup': 1046, 'nearly': 2959, 'compare': 864, 'ed': 1401, 'wood': 4932, 'flawlessly': 1737, 'lisa': 2609, 'wild': 4896, 'bread': 530, 'novice': 3032, 'place': 3286, 'reliable': 3642, 'concise': 899, 'information': 2293, 'maintain': 2701, 'fabulous': 1618, 'pass': 3192, 'historical': 2123, 'interest': 2343, 'warrant': 4828, 'cost': 976, 'alaska': 116, 'visit': 4786, 'starter': 4197, 'collection': 827, 'advise': 84, 'ruth': 3800, 'picture': 3267, 'past': 3197, 'ago': 99, 'mixer': 2865, 'stuff': 4269, 'pot': 3360, 'close': 802, 'download': 1317, 'decade': 1106, 'background': 332, 'hunt': 2194, 'melody': 2797, 'english': 1476, 'lyric': 2679, 'else': 1438, 'via': 4754, 'happily': 2034, 'ipod': 2377, 'experience': 1587, 'fm': 1758, 'rattle': 3558, 'sometimes': 4093, 'quality': 3498, 'screen': 3875, 'thru': 4489, 'middle': 2825, 'plus': 3314, 'dead': 1095, 'layout': 2537, 'sense': 3912, 'engineering': 1474, 'imo': 2236, 'refund': 3620, 'name': 2940, 'hesitant': 2100, 'flat': 1733, 'panel': 3168, 'lcd': 2540, 'build': 582, 'weight': 4862, 'space': 4125, 'save': 3837, 'attractive': 293, 'design': 1174, 'sharp': 3959, 'playback': 3300, 'negative': 2968, 'function': 1835, 'key': 2468, 'due': 1362, 'color': 831, 'almost': 133, 'carefully': 648, 'terrible': 4428, 'birthday': 447, 'fail': 1626, 'junk': 2456, 'capable': 633, 'recall': 3584, 'flash': 1731, 'channel': 701, 'sony': 4100, 'universal': 4671, 'learn': 2550, 'factory': 1622, 'deal': 1098, 'user': 4713, 'annoy': 189, 'replace': 3675, 'tube': 4608, 'gain': 1852, 'counter': 984, 'internal': 2348, 'bonus': 489, 'defective': 1123, 'electronics': 1429, 'express': 1602, 'contact': 933, 'number': 3037, 'pick': 3264, 'arrive': 244, 'week': 4859, 'later': 2526, 'clarity': 779, 'mode': 2868, 'loud': 2656, 'rv': 3801, 'run': 3793, 'barely': 352, 'solve': 4086, 'jack': 2398, 'stereo': 4212, 'speaker': 4132, 'lightweight': 2591, 'antenna': 194, 'opinion': 3091, 'bias': 432, 'angle': 178, 'europe': 1525, 'clean': 787, 'proper': 3456, 'shed': 3960, 'understand': 4650, 'guide': 1999, 'tour': 4547, 'country': 986, 'reference': 3615, 'travel': 4576, 'outline': 3129, 'detail': 1184, 'disappointment': 1244, 'realy': 3577, 'everybody': 1536, 'combination': 834, 'illustration': 2224, 'text': 4439, 'overall': 3133, 'sight': 3995, 'city': 773, 'european': 1526, 'thank': 4444, 'lonely': 2642, 'planet': 3291, 'info': 2291, 'surface': 4330, 'receive': 3588, 'germany': 1896, 'overview': 3143, 'greece': 1974, 'spanish': 4127, 'sort': 4111, 'printing': 3418, 'highlight': 2110, 'front': 1823, 'course': 990, 'kid': 2471, 'jay': 2413, 'eric': 1507, 'tender': 4421, 'rock': 3758, 'offend': 3063, 'either': 1422, 'depend': 1159, 'foot': 1770, 'accept': 16, 'way': 4845, 'gift': 1903, 'husband': 2199, 'date': 1086, 'disappointing': 1243, 'plate': 3295, 'inferior': 2287, 'previous': 3405, 'edition': 1406, 'ahead': 102, 'homer': 2142, 'helpful': 2090, 'gem': 1877, 'complex': 877, 'subject': 4280, 'second': 3890, 'century': 688, 'religious': 3646, 'authority': 305, 'serious': 3927, 'period': 3237, 'essential': 1516, 'argue': 235, 'yes': 4982, 'cardboard': 644, 'beat': 385, 'cheesy': 725, 'across': 39, 'entire': 1492, 'solid': 4082, 'decent': 1109, 'distance': 1275, 'scrap': 3872, 'noticeable': 3027, 'plenty': 3310, 'material': 2760, 'loosely': 2648, 'bottom': 507, 'ship': 3971, 'exchange': 1566, 'damage': 1071, 'risk': 3747, 'unknown': 4674, 'africa': 92, 'produce': 3432, 'mixture': 2866, 'african': 93, 'feeling': 1672, 'soft': 4077, 'fit': 1724, 'record': 3603, 'france': 1797, 'paris': 3182, 'professional': 3437, 'hot': 2170, 'lazy': 2538, 'expectation': 1583, 'shoe': 3978, 'rip': 3745, 'apart': 211, 'sole': 4080, 'clark': 780, 'sadly': 3806, 'within': 4919, 'month': 2886, 'similar': 4005, 'profound': 3441, 'narrative': 2943, 'style': 4277, 'famous': 1639, 'john': 2434, 'frequently': 1811, 'carry': 654, 'tone': 4530, 'amateur': 150, 'historian': 2122, 'neither': 2971, 'boston': 504, 'graduate': 1953, 'consider': 920, 'represent': 3680, 'today': 4519, 'research': 3690, 'thin': 4465, 'conclude': 900, 'essentially': 1517, 'primary': 3411, 'secondary': 3891, 'source': 4120, 'rat': 3554, 'yr': 4993, 'barbie': 349, 'computer': 891, 'worry': 4943, 'vibrant': 4756, 'friendly': 1817, 'mommy': 2877, 'ton': 4529, 'together': 4523, 'decorate': 1114, 'alone': 134, 'creativity': 1013, 'adventure': 78, 'addict': 57, 'opening': 3086, 'sing': 4015, 'non': 3010, 'stop': 4232, 'prince': 3414, 'program': 3442, 'cry': 1038, 'child': 733, 'currently': 1052, 'bedroom': 395, 'result': 3710, 'painting': 3161, 'halfway': 2019, 'exit': 1578, 'freeze': 1808, 'spot': 4168, 'urge': 4703, 'software': 4078, 'reboot': 3583, 'site': 4025, 'frustrate': 1826, 'fault': 1657, 'catch': 668, 'bug': 579, 'buck': 570, 'avoid': 315, 'creative': 1012, 'granddaughter': 1960, 'plan': 3289, 'imagination': 2228, 'fight': 1691, 'choose': 745, 'theme': 4452, 'allow': 130, 'power': 3367, 'stone': 4230, 'animation': 182, 'bore': 498, 'adult': 73, 'variation': 4732, 'scheme': 3857, 'pattern': 3207, 'highly': 2111, 'rental': 3669, 'basically': 361, 'sister': 4023, 'os': 3116, 'classic': 782, 'multiple': 2920, 'access': 18, 'everytime': 1540, 'task': 4383, 'sequence': 3924, 'file': 1695, 'crash': 1004, 'possible': 3353, 'grand': 1958, 'patience': 3203, 'survive': 4342, 'trial': 4587, 'substitute': 4286, 'vendor': 4745, 'feedback': 1668, 'rate': 3555, 'bother': 505, 'future': 1845, 'company': 862, 'mistake': 2861, 'hundred': 2192, 'dollar': 1300, 'building': 583, 'careful': 647, 'smell': 4060, 'bottle': 506, 'delicate': 1142, 'summer': 4311, 'impressed': 2246, 'creepy': 1018, 'wow': 4953, 'revenge': 3719, 'door': 1308, 'open': 3084, 'prepare': 3392, 'didnt': 1211, 'menu': 2808, 'exist': 1576, 'matter': 2763, 'exception': 1561, 'dubbing': 1358, 'sub': 4279, 'par': 3172, 'remain': 3649, 'shame': 3955, 'original': 3110, 'offering': 3066, 'sooo': 4103, 'official': 3069, 'production': 3435, 'screw': 3878, 'pioneer': 3278, 'sad': 3805, 'ya': 4970, 'rap': 3547, 'ta': 4365, 'blow': 471, 'jam': 2402, 'ride': 3738, 'underrated': 4649, 'houston': 2176, 'pat': 3199, 'steve': 4214, 'regardless': 3623, 'alive': 127, 'legacy': 2558, 'dirty': 1237, 'south': 4121, 'guest': 1997, 'fat': 1654, 'chris': 751, 'chronicle': 758, 'farm': 1648, 'photo': 3255, 'version': 4751, 'bill': 437, 'history': 2125, 'relationship': 3635, 'loved': 2662, 'treasure': 4580, 'keeper': 2464, 'draw': 1330, 'idea': 2207, 'comfy': 844, 'lounge': 2658, 'cake': 614, 'topper': 4536, 'june': 2453, 'estimate': 1521, 'shipping': 3973, 'july': 2451, 'wrong': 4961, 'pearl': 3216, 'kit': 2481, 'cute': 1060, 'provide': 3468, 'annoyed': 190, 'include': 2259, 'trust': 4605, 'additional': 60, 'sweet': 4353, 'grace': 1950, 'email': 1442, 'supply': 4320, 'list': 2610, 'sheet': 3962, 'ready': 3569, 'boot': 495, 'phone': 3254, 'manufacturer': 2724, 'unreliable': 4684, 'critic': 1025, 'consumer': 932, 'alike': 125, 'release': 3639, 'debut': 1105, 'radio': 3528, 'hit': 2126, 'dj': 1287, 'band': 345, 'hopefully': 2155, 'club': 810, 'sale': 3814, 'practically': 3372, 'leap': 2549, 'grab': 1949, 'neck': 2963, 'upcoming': 4691, 'omg': 3077, 'own': 3147, 'saturday': 3836, 'cause': 673, 'classical': 783, 'jason': 2409, 'lead': 2542, 'moment': 2876, 'relief': 3643, 'minimum': 2844, 'achieve': 33, 'suggest': 4304, 'skip': 4039, 'finally': 1703, 'horribly': 2160, 'lack': 2503, 'mystery': 2934, 'ten': 4419, 'educational': 1410, 'train': 4564, 'shape': 3956, 'guarantee': 1993, 'puzzle': 3497, 'range': 3543, 'silly': 4003, 'odd': 3057, 'theory': 4454, 'concert': 898, 'string': 4257, 'appreciate': 223, 'excelent': 1556, 'rendition': 3666, 'caution': 674, 'remastered': 3654, 'irrelevant': 2384, 'textbook': 4440, 'transaction': 4566, 'engage': 1470, 'te': 4389, 'wash': 4831, 'shore': 3981, 'colin': 823, 'tess': 4436, 'opposite': 3094, 'attract': 291, 'call': 616, 'trashy': 4575, 'usually': 4717, 'tie': 4495, 'enchant': 1461, 'heroine': 2099, 'part': 3184, 'content': 937, 'island': 2387, 'solitude': 4083, 'shake': 3950, 'fear': 1662, 'strange': 4244, 'strike': 4256, 'friendship': 1818, 'courage': 989, 'amusing': 165, 'mostly': 2896, 'characterization': 706, 'character': 704, 'introduce': 2361, 'behavior': 402, 'development': 1192, 'force': 1773, 'improve': 2249, 'towards': 4550, 'portable': 3343, 'drive': 1345, 'disappoint': 1241, 'performance': 3234, 'constantly': 926, 'half': 2018, 'uncomfortable': 4645, 'pant': 3169, 'incredibly': 2270, 'stiff': 4220, 'authentic': 303, 'encounter': 1462, 'yoruba': 4988, 'particular': 3186, 'certain': 690, 'nuance': 3034, 'speak': 4131, 'anybody': 201, 'clue': 811, 'question': 3506, 'unanswered': 4640, 'note': 3024, 'impossible': 2244, 'native': 2950, 'confuse': 911, 'teach': 4391, 'basic': 360, 'vocabulary': 4795, 'specific': 4140, 'vehicle': 4741, 'correct': 974, 'mat': 2758, 'therefore': 4458, 'sit': 4024, 'grandchild': 1959, 'value': 4727, 'toe': 4521, 'kelly': 2465, 'pet': 3245, 'parade': 3175, 'dress': 1339, 'pony': 3332, 'jump': 2452, 'etc': 1523, 'animal': 180, 'nail': 2939, 'float': 1747, 'accomplish': 25, 'along': 135, 'wonderfully': 4930, 'instal': 2317, 'laptop': 2517, 'tough': 4546, 'bear': 383, 'fish': 1720, 'finger': 1709, 'pad': 3155, 'load': 2628, 'different': 1217, 'endless': 1466, 'graphic': 1965, 'colorful': 832, 'winner': 4908, 'reinstall': 3630, 'issue': 2389, 'activity': 44, 'slip': 4052, 'heel': 2083, 'satisfy': 3834, 'manner': 2719, 'awesome': 322, 'advertisement': 81, 'uk': 4632, 'assume': 274, 'available': 310, 'england': 1475, 'arcade': 229, 'ive': 2395, 'playstation': 3304, 'guy': 2008, 'compatible': 868, 'machine': 2684, 'deeply': 1119, 'stage': 4181, 'revolution': 3724, 'equivalent': 1505, 'unheard': 4663, 'favourite': 1661, 'situation': 4026, 'lucky': 2672, 'letter': 2572, 'admit': 68, 'michael': 2822, 'montgomery': 2885, 'approach': 225, 'couple': 988, 'beer': 397, 'devil': 1194, 'spice': 4151, 'cuz': 1062, 'soldier': 4079, 'punk': 3484, 'hr': 2180, 'ball': 339, 'este': 1520, 'libro': 2579, 'lo': 2627, 'que': 3502, 'el': 1423, 'si': 3992, 'de': 1094, 'con': 892, 'mi': 2821, 'ex': 1549, 'cereal': 689, 'hook': 2150, 'breakfast': 533, 'eat': 1394, 'especially': 1513, 'taste': 4384, 'hungry': 2193, 'bunch': 590, 'cap': 632, 'splendid': 4162, 'fill': 1696, 'word': 4934, 'warning': 4827, 'cabinet': 611, 'local': 2629, 'walmart': 4814, 'church': 762, 'bowl': 513, 'timber': 4504, 'frame': 1796, 'technical': 4397, 'joint': 2438, 'span': 4126, 'mill': 2835, 'museum': 2924, 'master': 2754, 'recent': 3590, 'trip': 4595, 'avid': 314, 'breeze': 540, 'various': 4734, 'illustrate': 2223, 'fascinate': 1649, 'practical': 3371, 'outstanding': 3132, 'although': 145, 'construction': 929, 'invaluable': 2364, 'process': 3431, 'editing': 1405, 'spell': 4148, 'caption': 638, 'traditional': 4559, 'print': 3416, 'drawing': 1332, 'inform': 2292, 'project': 3447, 'internet': 2350, 'dip': 1229, 'temperature': 4413, 'shrink': 3990, 'egg': 1417, 'transfer': 4567, 'needless': 2966, 'intelligent': 2335, 'immediately': 2233, 'property': 3458, 'explicit': 1595, 'war': 4819, 'coast': 813, 'pc': 3212, 'sink': 4021, 'meant': 2778, 'race': 3521, 'battlefield': 374, 'landscape': 2512, 'slide': 4048, 'total': 4540, 'rubbish': 3787, 'mine': 2841, 'ireland': 2379, 'florida': 1751, 'costly': 977, 'henry': 2095, 'nose': 3022, 'chew': 729, 'nobody': 3005, 'worn': 4942, 'clone': 801, 'dad': 1066, 'ill': 2219, 'significance': 3999, 'battle': 373, 'obsession': 3047, 'replacement': 3676, 'safely': 3809, 'closet': 805, 'shelf': 3963, 'thread': 4482, 'bare': 351, 'online': 3080, 'less': 2568, 'thanks': 4447, 'disney': 1267, 'toy': 4554, 'six': 4027, 'contemporary': 936, 'delight': 1144, 'snow': 4069, 'ups': 4698, 'reward': 3726, 'forward': 1788, 'detailed': 1185, 'sketch': 4035, 'excitement': 1569, 'actual': 47, 'complicate': 879, 'beginner': 400, 'thrill': 4484, 'instructional': 2326, 'match': 2759, 'cushion': 1056, 'description': 1170, 'deliver': 1146, 'impression': 2247, 'insert': 2306, 'attach': 283, 'strap': 4247, 'definately': 1126, 'luckily': 2671, 'policy': 3326, 'free': 1806, 'sex': 3942, 'publish': 3476, 'broadway': 556, 'theatre': 4450, 'archive': 231, 'witty': 4923, 'ruin': 3790, 'costume': 978, 'absurd': 10, 'blanket': 459, 'acting': 41, 'btw': 568, 'director': 1235, 'goal': 1928, 'intention': 2339, 'recording': 3604, 'extended': 1605, 'drinking': 1343, 'blurry': 478, 'marketplace': 2737, 'audience': 294, 'charm': 713, 'chance': 698, 'student': 4266, 'compilation': 872, 'perform': 3233, 'artist': 252, 'poorly': 3335, 'wave': 4844, 'prior': 3419, 'imply': 2239, 'garbage': 1864, 'prompt': 3451, 'november': 3031, 'nowhere': 3033, 'deceive': 1107, 'group': 1989, 'duh': 1363, 'trash': 4574, 'purist': 3489, 'reception': 3592, 'session': 3932, 'sounding': 4117, 'cheap': 719, 'vocalist': 4797, 'die': 1212, 'camera': 618, 'continue': 941, 'included': 2260, 'tech': 4396, 'mr': 2913, 'curious': 1050, 'producer': 3433, 'realize': 3575, 'reveal': 3717, 'crucial': 1034, 'unbelievable': 4642, 'earlier': 1383, 'detective': 1187, 'attorney': 290, 'unfold': 4658, 'abuse': 11, 'childhood': 735, 'forgive': 1778, 'successful': 4292, 'spite': 4161, 'horrendous': 2158, 'lord': 2649, 'refer': 3614, 'peter': 3246, 'stark': 4194, 'major': 2704, 'league': 2546, 'score': 3869, 'extensive': 1607, 'resource': 3699, 'deserve': 1173, 'tomorrow': 4528, 'till': 4501, 'massive': 2753, 'living': 2624, 'subscription': 4281, 'coverage': 995, 'minor': 2847, 'college': 829, 'brand': 526, 'steer': 4207, 'secret': 3892, 'joe': 2433, 'al': 113, 'intriguing': 2359, 'influence': 2289, 'titan': 4516, 'exploration': 1596, 'jet': 2424, 'craft': 999, 'fuel': 1831, 'atmosphere': 281, 'originally': 3112, 'intrigue': 2358, 'father': 1656, 'mission': 2860, 'reality': 3574, 'fantasy': 1644, 'david': 1090, 'asimov': 263, 'peek': 3218, 'block': 467, 'obviously': 3050, 'fails': 1627, 'noise': 3007, 'incorporate': 2266, 'easily': 1390, 'identify': 2210, 'banana': 344, 'penguin': 3223, 'wall': 4813, 'smash': 4059, 'drop': 1348, 'treatment': 4582, 'art': 246, 'collector': 828, 'twin': 4621, 'learning': 2551, 'tool': 4532, 'fisher': 1721, 'spin': 4155, 'queen': 3503, 'stack': 4180, 'knock': 2487, 'bang': 346, 'plain': 3288, 'wooden': 4933, 'object': 3042, 'opportunity': 3092, 'eye': 1615, 'decision': 1111, 'overnight': 3138, 'rocket': 3760, 'scientist': 3865, 'rub': 3785, 'dissapointing': 1272, 'concept': 895, 'baby': 329, 'mother': 2897, 'imaginative': 2229, 'edge': 1403, 'safety': 3810, 'grandson': 1963, 'goodness': 1938, 'interested': 2344, 'manipulate': 2717, 'adorable': 71, 'upgrade': 4694, 'format': 1780, 'storage': 4233, 'durable': 1371, 'perfectly': 3232, 'hurt': 2198, 'category': 670, 'factor': 1621, 'fully': 1833, 'comprehend': 886, 'dig': 1221, 'broke': 557, 'waterproof': 4842, 'whale': 4869, 'mary': 2748, 'study': 4268, 'communication': 854, 'washington': 4834, 'direct': 1231, 'nifty': 2993, 'halloween': 2021, 'dummy': 1368, 'nevertheless': 2978, 'depict': 1160, 'liked': 2594, 'certainly': 691, 'campaign': 621, 'academic': 13, 'organization': 3107, 'dedicate': 1117, 'propaganda': 3455, 'office': 3067, 'regularly': 3628, 'hide': 2106, 'terrorist': 4434, 'weapon': 4850, 'violence': 4776, 'intend': 2336, 'innocent': 2302, 'murder': 2922, 'extreme': 1612, 'formula': 1783, 'fortunately': 1786, 'hesitate': 2101, 'chinese': 739, 'green': 1976, 'red': 3607, 'logo': 2638, 'fx': 1849, 'serial': 3925, 'handful': 2026, 'memorable': 2801, 'seal': 3884, 'wing': 4907, 'blame': 456, 'self': 3906, 'sorry': 4110, 'travesty': 4578, 'killer': 2473, 'supernatural': 4317, 'storyline': 4238, 'hole': 2133, 'gory': 1944, 'confusing': 913, 'stephen': 4211, 'initially': 2298, 'indie': 2279, 'horror': 2164, 'flick': 1742, 'jennifer': 2419, 'weekend': 4860, 'bernie': 424, 'terry': 4435, 'actor': 45, 'lol': 2639, 'anyways': 207, 'mask': 2749, 'maker': 2707, 'suspense': 4344, 'display': 1268, 'effort': 1416, 'dialogue': 1203, 'tree': 4583, 'root': 3775, 'yard': 4972, 'knee': 2483, 'cinematic': 766, 'path': 3201, 'typically': 4627, 'predictable': 3383, 'fashion': 1651, 'victim': 4761, 'face': 1619, 'motivation': 2901, 'entry': 1495, 'familiar': 1637, 'cast': 661, 'effective': 1414, 'treat': 4581, 'williams': 4899, 'role': 3764, 'lee': 2555, 'doom': 1307, 'equally': 1502, 'ii': 2217, 'filmmaker': 1699, 'borrow': 502, 'everyone': 1538, 'elevate': 1432, 'unimaginative': 4664, 'exactly': 1551, 'fright': 1819, 'safe': 3808, 'boring': 501, 'brief': 545, 'appearance': 218, 'icon': 2206, 'genre': 1887, 'ghetto': 1898, 'artifact': 250, 'card': 643, 'yellow': 4979, 'ordinary': 3104, 'holocaust': 2139, 'diary': 1207, 'extract': 1610, 'eastern': 1392, 'medicine': 2787, 'dissappointed': 1274, 'unhappy': 4662, 'practice': 3373, 'primer': 3413, 'basis': 362, 'application': 221, 'philosophy': 3253, 'emphasize': 1456, 'natural': 2951, 'balance': 338, 'nature': 2953, 'informative': 2294, 'warcraft': 4820, 'redundant': 3613, 'combat': 833, 'pleasure': 3309, 'respect': 3700, 'ambient': 156, 'enthusiast': 1491, 'whatsoever': 4872, 'darn': 1084, 'guitarist': 2005, 'utopia': 4718, 'dissapointed': 1271, 'direction': 1233, 'dry': 1354, 'pillow': 3273, 'advertise': 79, 'post': 3355, 'tiny': 4511, 'foam': 1759, 'worthless': 4948, 'amount': 162, 'whatever': 4870, 'super': 4313, 'handle': 2027, 'heavy': 2081, 'dense': 1155, 'cant': 630, 'prop': 3454, 'sleep': 4045, 'otherwise': 3119, 'position': 3350, 'width': 4892, 'rotate': 3778, 'lay': 2535, 'false': 1635, 'military': 2833, 'pic': 3263, 'reply': 3678, 'serum': 3929, 'tend': 4420, 'rid': 3736, 'weather': 4852, 'somehow': 4089, 'double': 1311, 'ai': 103, 'fix': 1728, 'slightly': 4050, 'shop': 3980, 'grocery': 1985, 'dick': 1208, 'provoking': 3471, 'winter': 4910, 'suit': 4307, 'advanced': 76, 'powerful': 3369, 'prefer': 3385, 'outfit': 3127, 'skate': 4032, 'automatically': 308, 'hello': 2088, 'technique': 4399, 'stroke': 4260, 'body': 482, 'split': 4163, 'muscle': 2923, 'kick': 2470, 'crook': 1031, 'worthwhile': 4949, 'stink': 4224, 'scream': 3874, 'ice': 2205, 'simplistic': 4010, 'strive': 4259, 'onto': 3081, 'enjoyment': 1482, 'low': 2666, 'dud': 1360, 'somebody': 4087, 'thats': 4448, 'sake': 3813, 'sparkle': 4130, 'seven': 3937, 'window': 4904, 'xp': 4968, 'frustration': 1829, 'crowd': 1033, 'despite': 1180, 'trick': 4590, 'yesterday': 4983, 'confidence': 905, 'smoothly': 4065, 'gentleman': 1889, 'la': 2497, 'rating': 3557, 'pity': 3285, 'delivery': 1148, 'mail': 2697, 'joy': 2444, 'rare': 3550, 'dose': 1309, 'fire': 1712, 'truck': 4601, 'pleased': 3308, 'horse': 2165, 'imagery': 2227, 'newspaper': 2983, 'afternoon': 94, 'supplier': 4319, 'nasty': 2946, 'apartment': 212, 'switch': 4356, 'outlet': 3128, 'eight': 1421, 'plug': 3312, 'device': 1193, 'hitch': 2127, 'mystical': 2935, 'relax': 3638, 'dr': 1322, 'legend': 2560, 'stranger': 4246, 'dream': 1336, 'surreal': 4338, 'symbolism': 4359, 'someday': 4088, 'peace': 3214, 'shin': 3969, 'land': 2511, 'charming': 714, 'captivate': 639, 'lj': 2625, 'smith': 4062, 'ash': 258, 'teenage': 4404, 'humor': 2189, 'paranormal': 3180, 'disaster': 1245, 'area': 232, 'darkness': 1083, 'hooked': 2151, 'protect': 3464, 'happiness': 2035, 'possibly': 3354, 'instantly': 2323, 'inspire': 2315, 'poetry': 3319, 'respond': 3701, 'personality': 3242, 'vampire': 4729, 'vision': 4785, 'trilogy': 4593, 'recognize': 3597, 'soulmate': 4115, 'unrealistic': 4683, 'tune': 4611, 'male': 2710, 'attraction': 292, 'witch': 4918, 'instance': 2321, 'burning': 595, 'legendary': 2561, 'gel': 1876, 'pen': 3221, 'ink': 2300, 'bleed': 462, 'square': 4174, 'locate': 2631, 'left': 2556, 'magazine': 2690, 'publication': 3475, 'mirror': 2852, 'glimpse': 1916, 'nation': 2948, 'shortly': 3983, 'scholar': 3858, 'compelling': 870, 'illuminate': 2221, 'precious': 3379, 'examine': 1554, 'evolution': 1547, 'conclusion': 901, 'vast': 4736, 'data': 1085, 'readable': 3565, 'reflection': 3618, 'professor': 3438, 'regret': 3626, 'wade': 4807, 'likely': 2595, 'wealth': 4849, 'awake': 317, 'invest': 2369, 'somewhat': 4094, 'useful': 4711, 'richard': 3734, 'convincing': 959, 'wide': 4889, 'perspective': 3244, 'kylie': 2496, 'bite': 450, 'subtlety': 4289, 'subtle': 4288, 'performer': 3235, 'ballad': 340, 'nightmare': 2995, 'flow': 1752, 'catchy': 669, 'chorus': 750, 'melt': 2798, 'funky': 1840, 'remixes': 3660, 'language': 2514, 'usa': 4705, 'import': 2240, 'limit': 2598, 'border': 497, 'edit': 1404, 'cut': 1059, 'arrangement': 242, 'rarity': 3552, 'tom': 4524, 'remix': 3659, 'dub': 1357, 'cord': 968, 'thomas': 4473, 'naturally': 2952, 'compel': 869, 'relate': 3632, 'rambling': 3538, 'involve': 2374, 'mindless': 2840, 'footage': 1771, 'meet': 2790, 'rent': 3668, 'kay': 2461, 'aside': 262, 'gear': 1874, 'toward': 4549, 'pack': 3152, 'interview': 2354, 'normal': 3018, 'solely': 4081, 'center': 686, 'commercial': 850, 'introduction': 2362, 'pain': 3157, 'frustrated': 1827, 'advice': 83, 'asleep': 265, 'horrific': 2162, 'warrior': 4830, 'brilliantly': 549, 'gore': 1942, 'fanatic': 1641, 'warranty': 4829, 'equipment': 1504, 'printer': 3417, 'strip': 4258, 'stretch': 4254, 'waist': 4808, 'tight': 4496, 'inch': 2257, 'earn': 1385, 'comfortable': 841, 'largely': 2520, 'out': 3122, 'slack': 4040, 'usual': 4716, 'normally': 3019, 'flimsy': 1744, 'fabric': 1617, 'advertising': 82, 'coffee': 819, 'gray': 1969, 'misleading': 2856, 'business': 598, 'chain': 694, 'iron': 2381, 'emphasis': 1455, 'mature': 2765, 'disturb': 1280, 'render': 3665, 'fairy': 1631, 'tale': 4372, 'grim': 1979, 'wwii': 4964, 'glove': 1921, 'appropriate': 226, 'valuable': 4726, 'alternative': 144, 'italy': 2391, 'youth': 4991, 'confusion': 914, 'credibility': 1015, 'rome': 3771, 'appreciation': 224, 'depth': 1166, 'dish': 1261, 'satisfying': 3835, 'flight': 1743, 'food': 1768, 'used': 4710, 'relatively': 3637, 'detract': 1190, 'laura': 2533, 'enhance': 1478, 'overdone': 3135, 'pun': 3481, 'sensual': 3916, 'glory': 1920, 'soul': 4112, 'preparation': 3391, 'discover': 1252, 'mexican': 2820, 'magic': 2692, 'fable': 1616, 'cook': 960, 'nude': 3035, 'chick': 731, 'lit': 2617, 'roman': 3768, 'cooking': 963, 'market': 2735, 'porn': 3341, 'desire': 1175, 'bath': 369, 'tip': 4512, 'insult': 2330, 'everywhere': 1541, 'vivid': 4793, 'jerk': 2421, 'portray': 3347, 'substance': 4283, 'sexy': 3945, 'metaphor': 2818, 'adequate': 62, 'occasionally': 3053, 'overlook': 3136, 'plane': 3290, 'suppose': 4322, 'generally': 1880, 'management': 2714, 'heap': 2070, 'report': 3679, 'bos': 503, 'financial': 1705, 'analysis': 168, 'ability': 2, 'topic': 4535, 'ordered': 3103, 'elsewhere': 1439, 'cash': 659, 'tha': 4443, 'existence': 1577, 'permanently': 3239, 'repetitive': 3674, 'repeat': 3671, 'huh': 2184, 'yeah': 4975, 'sign': 3997, 'passing': 3194, 'gon': 1934, 'na': 2938, 'lil': 2596, 'alright': 140, 'rapper': 3549, 'million': 2837, 'juvenile': 2459, 'fade': 1624, 'suck': 4294, 'bounce': 509, 'as': 256, 'da': 1065, 'solo': 4084, 'quit': 3514, 'comedian': 838, 'wayne': 4846, 'besides': 426, 'alien': 124, 'degreez': 1138, 'listening': 2614, 'dictionary': 1210, 'wack': 4806, 'belive': 409, 'wit': 4917, 'crap': 1002, 'walk': 4811, 'pointless': 3322, 'definetely': 1128, 'strong': 4261, 'bump': 589, 'iz': 2396, 'em': 1441, 'ha': 2011, 'shot': 3984, 'logic': 2636, 'longer': 2644, 'raise': 3534, 'responsible': 3704, 'co': 812, 'worker': 4938, 'restaurant': 3707, 'french': 1809, 'quarter': 3500, 'orleans': 3113, 'delightful': 1145, 'miller': 2836, 'gently': 1890, 'unlimited': 4678, 'sun': 4312, 'brave': 528, 'tim': 4503, 'dinner': 1227, 'wheel': 4873, 'lesson': 2569, 'desktop': 1177, 'thorough': 4474, 'comprehensive': 887, 'html': 2181, 'web': 4854, 'smart': 4058, 'index': 2273, 'clever': 791, 'expand': 1580, 'technology': 4401, 'advance': 75, 'intermediate': 2347, 'experienced': 1588, 'website': 4856, 'client': 795, 'expert': 1591, 'buying': 606, 'correctly': 975, 'arrival': 243, 'indicate': 2276, 'healthy': 2069, 'thoughtful': 4479, 'fiction': 1684, 'identity': 2211, 'bond': 486, 'evoke': 1546, 'provoke': 3470, 'cultural': 1043, 'australia': 301, 'complain': 873, 'portrayal': 3348, 'cartridge': 657, 'throat': 4486, 'spray': 4170, 'hurry': 2197, 'relieve': 3644, 'yo': 4985, 'sore': 4107, 'recommendation': 3601, 'mom': 2875, 'glider': 1915, 'sooner': 4102, 'bench': 419, 'metal': 2816, 'unsure': 4686, 'tighten': 4497, 'wasnt': 4835, 'bar': 348, 'sturdy': 4276, 'assemble': 269, 'movement': 2910, 'blah': 455, 'compliment': 881, 'chair': 695, 'arm': 238, 'shipment': 3972, 'heck': 2082, 'drag': 1324, 'wet': 4868, 'thinking': 4469, 'james': 2403, 'awsome': 326, 'sample': 3818, 'ear': 1380, 'iv': 2394, 'rush': 3796, 'eerie': 1412, 'itunes': 2393, 'understanding': 4652, 'generation': 1882, 'united': 4670, 'interpret': 2351, 'jewish': 2426, 'worthy': 4950, 'rabbi': 3519, 'element': 1430, 'biblical': 434, 'truth': 4606, 'gospel': 1945, 'socialism': 4074, 'economics': 1399, 'broad': 554, 'variety': 4733, 'political': 3328, 'marriage': 2741, 'marry': 2743, 'welcome': 4864, 'spouse': 4169, 'consist': 921, 'excessive': 1565, 'argument': 236, 'watchable': 4839, 'married': 2742, 'cat': 665, 'angry': 179, 'yell': 4977, 'length': 2565, 'endure': 1467, 'test': 4437, 'discussion': 1255, 'discuss': 1254, 'outside': 3131, 'literature': 2620, 'chop': 746, 'answer': 193, 'excuse': 1571, 'wolverine': 4926, 'cheer': 723, 'bye': 608, 'bind': 441, 'bass': 365, 'attitude': 289, 'singing': 4017, 'drum': 1351, 'unique': 4668, 'suggestion': 4305, 'acoustic': 37, 'accord': 27, 'knowledge': 2490, 'instrumental': 2329, 'rocky': 3762, 'road': 3753, 'mini': 2842, 'cheaply': 720, 'terrific': 4430, 'organ': 3105, 'mess': 2813, 'setting': 3934, 'burnt': 596, 'rubber': 3786, 'service': 3931, 'pace': 3150, 'rivet': 3752, 'bookstore': 494, 'gothic': 1947, 'curse': 1053, 'supposedly': 4323, 'impressive': 2248, 'feehan': 1670, 'warn': 4824, 'christine': 755, 'engine': 1472, 'nicoletta': 2991, 'village': 4771, 'exercise': 1575, 'select': 3904, 'mysterious': 2933, 'frighten': 1820, 'communicate': 853, 'similarity': 4006, 'eager': 1378, 'presence': 3394, 'unlike': 4676, 'temper': 4412, 'passion': 3195, 'empathy': 1453, 'potential': 3361, 'develop': 1191, 'spark': 4129, 'action': 42, 'suspenseful': 4345, 'believable': 406, 'pound': 3363, 'emma': 1448, 'holly': 2136, 'reach': 3562, 'dimensional': 1225, 'advantage': 77, 'success': 4291, 'bound': 510, 'weird': 4863, 'lively': 2623, 'adore': 72, 'strongly': 4262, 'tea': 4390, 'severely': 3940, 'camcorder': 617, 'usb': 4708, 'overseas': 3142, 'choppy': 748, 'recently': 3591, 'driver': 1347, 'protection': 3465, 'accurate': 30, 'blur': 476, 'barrel': 355, 'distortion': 1278, 'piano': 3262, 'homework': 2143, 'common': 852, 'teacher': 4392, 'lid': 2580, 'accidentally': 22, 'upon': 4696, 'alternate': 143, 'adjust': 64, 'limited': 2599, 'cruel': 1036, 'unusual': 4688, 'patricia': 3205, 'cornwell': 971, 'boyfriend': 518, 'seat': 3889, 'collapse': 824, 'stick': 4217, 'thriller': 4485, 'evil': 1544, 'holder': 2132, 'nazi': 2955, 'criminal': 1021, 'dump': 1369, 'scarpetta': 3850, 'summary': 4310, 'virtually': 4781, 'paramount': 3178, 'harris': 2049, 'becomes': 392, 'trite': 4598, 'frankly': 1803, 'turner': 4614, 'grip': 1982, 'unable': 4638, 'lost': 2654, 'cassette': 660, 'envelope': 1496, 'prevent': 3403, 'police': 3325, 'row': 3784, 'execute': 1572, 'current': 1051, 'particularly': 3187, 'niece': 2992, 'installment': 2320, 'potter': 3362, 'field': 1687, 'mastery': 2757, 'science': 3863, 'muddle': 2917, 'electric': 1425, 'flesh': 1740, 'commit': 851, 'redeem': 3608, 'latter': 2528, 'villain': 4772, 'flaw': 1735, 'bed': 394, 'hardcover': 2040, 'prime': 3412, 'shallow': 3954, 'contain': 934, 'widely': 4890, 'incomplete': 2263, 'binding': 442, 'documentation': 1293, 'unclear': 4644, 'adam': 50, 'partner': 3188, 'earth': 1387, 'previously': 3406, 'entertaining': 1488, 'spoil': 4164, 'degrade': 1136, 'zero': 4995, 'nope': 3017, 'studio': 4267, 'wake': 4810, 'sandler': 3824, 'viewer': 4765, 'climax': 797, 'lackluster': 2506, 'entirely': 1493, 'happend': 2031, 'hill': 2117, 'engaging': 1471, 'comic': 845, 'illness': 2220, 'destroy': 1182, 'lifestyle': 2583, 'necessarily': 2961, 'doesnt': 1294, 'george': 1893, 'experimental': 1590, 'drug': 1350, 'ira': 2378, 'hire': 2120, 'patch': 3200, 'suddenly': 4298, 'immature': 2232, 'lame': 2510, 'sexual': 3943, 'nudity': 3036, 'circle': 768, 'reputation': 3684, 'dramatic': 1328, 'cold': 821, 'mainstream': 2700, 'press': 3398, 'downhill': 1316, 'jim': 2428, 'moon': 2889, 'drift': 1340, 'marketing': 2736, 'theater': 4449, 'chuckle': 760, 'making': 2709, 'unnecessary': 4680, 'chemistry': 727, 'conversation': 955, 'acceptable': 17, 'anger': 177, 'hilarious': 2115, 'humour': 2191, 'artsy': 254, 'demand': 1152, 'loser': 2652, 'bird': 445, 'titanic': 4517, 'drawn': 1333, 'profanity': 3436, 'beneath': 421, 'fair': 1629, 'share': 3958, 'appeal': 216, 'vulgar': 4805, 'offensive': 3064, 'likeable': 2593, 'lower': 2667, 'swear': 4349, 'sexuality': 3944, 'grass': 1967, 'altogether': 147, 'tragic': 4561, 'scott': 3871, 'wont': 4931, 'collect': 826, 'depress': 1162, 'tackle': 4367, 'smile': 4061, 'mel': 2794, 'there': 4457, 'hearing': 2073, 'isnt': 2388, 'win': 4902, 'spent': 4150, 'thankful': 4445, 'excess': 1564, 'inspirational': 2314, 'anecdote': 175, 'north': 3020, 'thirty': 4471, 'phrase': 3258, 'stitch': 4226, 'vital': 4791, 'artwork': 255, 'feast': 1663, 'dynamic': 1376, 'accompany': 24, 'wan': 4815, 'exotic': 1579, 'whimsical': 4878, 'lovely': 2663, 'host': 2168, 'protagonist': 3463, 'narrator': 2944, 'greek': 1975, 'richly': 3735, 'diverse': 1283, 'seek': 3899, 'tradition': 4558, 'interact': 2341, 'social': 4073, 'environment': 1497, 'delve': 1151, 'sin': 4013, 'whenever': 4874, 'habit': 2012, 'judge': 2446, 'forever': 1776, 'account': 28, 'religion': 3645, 'stereotypical': 4213, 'suitable': 4308, 'disrespect': 1270, 'witness': 4922, 'jean': 2416, 'president': 3397, 'article': 249, 'lady': 2507, 'jfk': 2427, 'http': 2182, 'location': 2632, 'conspiracy': 924, 'government': 1948, 'statement': 4199, 'tap': 4380, 'nonsense': 3015, 'physic': 3259, 'department': 1158, 'mad': 2686, 'ramblings': 3539, 'sum': 4309, 'physically': 3261, 'defy': 1135, 'debunk': 1104, 'furthermore': 1843, 'mixed': 2864, 'insane': 2305, 'evidence': 1542, 'pas': 3191, 'sword': 4357, 'december': 1108, 'recieved': 3594, 'absolutly': 8, 'confident': 906, 'stainless': 4183, 'steel': 4206, 'buddy': 574, 'symbol': 4358, 'blade': 454, 'adaptation': 52, 'gibberish': 1901, 'convert': 956, 'curve': 1055, 'bought': 508, 'update': 4692, 'customer': 1058, 'gap': 1862, 'heaven': 2079, 'scent': 3855, 'crush': 1037, 'recommended': 3602, 'nicely': 2987, 'slap': 4042, 'method': 2819, 'possibility': 3352, 'gault': 1870, 'uncle': 4643, 'investigation': 2370, 'york': 4987, 'affair': 87, 'honesty': 2148, 'adjective': 63, 'apparent': 214, 'suffer': 4300, 'tripe': 4596, 'implausible': 2238, 'understandable': 4651, 'brain': 523, 'sixth': 4028, 'labor': 2501, 'bizarre': 452, 'gut': 2007, 'factual': 1623, 'integrity': 2331, 'pale': 3165, 'ignorant': 2215, 'regard': 3622, 'profile': 3439, 'thumb': 4490, 'pit': 3281, 'meaningless': 2777, 'sympathetic': 4360, 'conflict': 908, 'imitation': 2231, 'pile': 3271, 'remainder': 3650, 'table': 4366, 'disturbing': 1281, 'inconsistent': 2265, 'scary': 3851, 'emotionally': 1451, 'contrive': 949, 'temple': 4414, 'intelligence': 2334, 'medical': 2785, 'virginia': 4780, 'consult': 930, 'whose': 4885, 'frozen': 1824, 'central': 687, 'park': 3183, 'terrify': 4431, 'accuracy': 29, 'lacking': 2505, 'storyteller': 4239, 'inevitable': 2284, 'kindle': 2477, 'fireplace': 1715, 'yank': 4971, 'doc': 1289, 'plausible': 3297, 'involved': 2375, 'genius': 1886, 'engineer': 1473, 'stilted': 4222, 'oil': 3072, 'hollow': 2135, 'ring': 3744, 'churn': 763, 'profit': 3440, 'terror': 4433, 'killing': 2474, 'bluegrass': 474, 'prove': 3467, 'progress': 3445, 'diagnose': 1200, 'heal': 2067, 'thousand': 4480, 'grant': 1964, 'retain': 3714, 'noisy': 3008, 'vibration': 4758, 'massager': 2752, 'objective': 3043, 'finding': 1707, 'grasp': 1966, 'exposition': 1600, 'principle': 3415, 'exciting': 1570, 'desert': 1172, 'afraid': 91, 'hey': 2103, 'bitter': 451, 'friday': 1815, 'knowledgeable': 2491, 'bank': 347, 'civilization': 775, 'ramble': 3537, 'hunter': 2195, 'port': 3342, 'ark': 237, 'giant': 1900, 'map': 2726, 'browse': 561, 'disappear': 1240, 'superficial': 4315, 'scientific': 3864, 'lincoln': 2600, 'perception': 3229, 'belongs': 414, 'hazlitt': 2060, 'understood': 4653, 'economic': 1398, 'intervention': 2353, 'working': 4939, 'vote': 4803, 'economy': 1400, 'capitalism': 636, 'merit': 2812, 'significantly': 4001, 'ideal': 2208, 'serve': 3930, 'third': 4470, 'swing': 4355, 'conservative': 919, 'rant': 3546, 'relevant': 3641, 'crisis': 1023, 'politician': 3329, 'classroom': 784, 'failure': 1628, 'scam': 3842, 'definition': 1131, 'outdated': 3124, 'reflect': 3617, 'moreover': 2892, 'settle': 3935, 'choir': 744, 'broken': 558, 'mental': 2804, 'pro': 3425, 'damn': 1073, 'benefit': 422, 'cave': 675, 'union': 4667, 'indication': 2277, 'piss': 3280, 'amazingly': 154, 'university': 4673, 'chicago': 730, 'crazy': 1008, 'march': 2728, 'fundamental': 1837, 'overwhelming': 3144, 'majority': 2705, 'cite': 771, 'education': 1409, 'growth': 1991, 'revolutionary': 3725, 'directly': 1234, 'plague': 3287, 'foundation': 1790, 'von': 4801, 'credit': 1016, 'depression': 1165, 'elementary': 1431, 'fellow': 1675, 'loss': 2653, 'freedom': 1807, 'fancy': 1642, 'consequence': 918, 'tremendous': 4585, 'tax': 4386, 'expense': 1585, 'necessary': 2962, 'measure': 2779, 'aka': 112, 'enemy': 1468, 'narration': 2942, 'tedious': 4402, 'donate': 1304, 'critique': 1029, 'popular': 3338, 'agenda': 97, 'rarely': 3551, 'omit': 3078, 'contrary': 945, 'grain': 1954, 'salt': 3816, 'health': 2068, 'dangerous': 1078, 'myth': 2936, 'context': 939, 'corporate': 973, 'trade': 4557, 'anti': 197, 'preach': 3377, 'net': 2975, 'et': 1522, 'hammer': 2023, 'blind': 466, 'utopian': 4719, 'anytime': 205, 'rehash': 3629, 'worship': 4945, 'tout': 4548, 'enlighten': 1483, 'sanity': 3826, 'casual': 664, 'spring': 4172, 'premise': 3389, 'lifetime': 2584, 'prophetic': 3460, 'surprisingly': 4337, 'paul': 3209, 'laughable': 2530, 'skim': 4037, 'mislead': 2855, 'faulty': 1658, 'apparently': 215, 'promote': 3450, 'duty': 1373, 'equation': 1503, 'analyze': 169, 'narrow': 2945, 'introductory': 2363, 'importantly': 2243, 'recycle': 3606, 'pepper': 3226, 'concerned': 897, 'secretly': 3893, 'instrument': 2328, 'velvet': 4744, 'techno': 4400, 'electronica': 1428, 'airwave': 111, 'tire': 4513, 'ho': 2128, 'dumb': 1366, 'im': 2225, 'stellar': 4209, 'invite': 2373, 'vary': 4735, 'musical': 2926, 'animated': 181, 'punch': 3482, 'station': 4200, 'transport': 4572, 'definitly': 1133, 'tripod': 4597, 'bag': 337, 'circuit': 769, 'anderson': 173, 'poverty': 3365, 'sweden': 4351, 'sent': 3917, 'journey': 2443, 'sorrow': 4109, 'daniel': 1079, 'hidden': 2105, 'lyrical': 2680, 'constant': 925, 'nineteen': 2999, 'contribution': 948, 'minority': 2848, 'incomprehensible': 2264, 'anthology': 195, 'christian': 753, 'torso': 4537, 'cincher': 764, 'boning': 488, 'chest': 728, 'wire': 4912, 'bra': 520, 'whereas': 4875, 'custom': 1057, 'cloth': 806, 'squeem': 4175, 'shapewear': 3957, 'bone': 487, 'butt': 601, 'hardly': 2042, 'firm': 1717, 'vintage': 4774, 'expensive': 1586, 'clothes': 807, 'liner': 2602, 'comfortably': 842, 'layer': 2536, 'measurement': 2780, 'posture': 3359, 'associate': 273, 'slim': 4051, 'reduce': 3612, 'clothing': 808, 'wedding': 4857, 'opt': 3097, 'bust': 599, 'tighter': 4498, 'def': 1120, 'boob': 490, 'dd': 1093, 'everyday': 1537, 'belly': 411, 'pregnancy': 3386, 'sick': 3993, 'literally': 2618, 'desk': 1176, 'pleasant': 3305, 'bruise': 565, 'flexible': 1741, 'unbearable': 4641, 'bulge': 585, 'spare': 4128, 'fold': 1761, 'trim': 4594, 'shirt': 3975, 'lift': 2585, 'upset': 4699, 'miracle': 2851, 'squeeze': 4176, 'fraction': 1794, 'lb': 2539, 'tummy': 4610, 'thou': 4476, 'tank': 4379, 'sweat': 4350, 'tall': 4376, 'mid': 2824, 'inner': 2301, 'cotton': 979, 'pure': 3487, 'occasion': 3051, 'birth': 446, 'specifically': 4141, 'bulky': 586, 'hideous': 2107, 'sizing': 4031, 'speed': 4147, 'surgery': 4332, 'stomach': 4229, 'theres': 4459, 'underneath': 4648, 'breathing': 537, 'bell': 410, 'snug': 4070, 'concentrate': 894, 'breast': 534, 'compress': 888, 'believer': 408, 'pregnant': 3387, 'pinch': 3276, 'ur': 4701, 'downside': 1319, 'portion': 3345, 'sew': 3941, 'satisfied': 3833, 'sock': 4076, 'poke': 3323, 'specially': 4138, 'bend': 420, 'upper': 4697, 'defeat': 1121, 'increase': 2268, 'bent': 423, 'repair': 3670, 'gym': 2009, 'diminish': 1226, 'visible': 4784, 'pink': 3277, 'spine': 4156, 'severe': 3939, 'injury': 2299, 'vanity': 4731, 'surpass': 4333, 'suprise': 4324, 'merchandise': 2810, 'absorb': 9, 'abandon': 1, 'torture': 4538, 'asap': 257, 'instant': 2322, 'ease': 1389, 'loop': 2646, 'seam': 3885, 'snap': 4067, 'eventually': 1532, 'visually': 4789, 'divide': 1285, 'ouch': 3120, 'daily': 1068, 'rod': 3763, 'painfully': 3159, 'ultimately': 4634, 'grandmother': 1962, 'encourage': 1463, 'trap': 4573, 'diet': 1214, 'anticipate': 198, 'fitting': 1726, 'lousy': 2659, 'near': 2958, 'fly': 1756, 'steam': 4205, 'badly': 336, 'stab': 4177, 'havent': 2058, 'hence': 2093, 'reminder': 3657, 'occur': 3054, 'slight': 4049, 'stamp': 4186, 'swell': 4354, 'disease': 1257, 'terribly': 4429, 'gross': 1987, 'rear': 3578, 'sometime': 4092, 'aircraft': 108, 'marie': 2731, 'doll': 1299, 'owe': 3145, 'seemingly': 3901, 'permanent': 3238, 'china': 738, 'german': 1895, 'logan': 2635, 'jimmy': 2429, 'ponder': 3331, 'nine': 2998, 'unwatchable': 4689, 'cheese': 724, 'scholarly': 3859, 'mold': 2874, 'distinct': 1277, 'mass': 2750, 'gold': 1931, 'pray': 3376, 'overcome': 3134, 'vinyl': 4775, 'rhapsody': 3729, 'caan': 610, 'higgins': 2108, 'danger': 1077, 'publisher': 3477, 'sean': 3886, 'justice': 2457, 'pickup': 3265, 'competition': 871, 'british': 552, 'legal': 2559, 'entertainment': 1489, 'dillon': 1223, 'dozen': 1321, 'para': 3173, 'expose': 1599, 'promising': 3449, 'smoke': 4063, 'generous': 1884, 'sequel': 3923, 'guilty': 2001, 'status': 4202, 'oops': 3083, 'aspire': 267, 'strangely': 4245, 'editor': 1407, 'dialog': 1202, 'kate': 2460, 'reaction': 3563, 'rough': 3779, 'curiosity': 1049, 'tension': 4423, 'executive': 1574, 'cliche': 792, 'guard': 1994, 'agent': 98, 'target': 4382, 'shoot': 3979, 'timing': 4509, 'wrestle': 4956, 'silent': 4002, 'jefferson': 2418, 'tired': 4514, 'extension': 1606, 'meeting': 2791, 'strain': 4242, 'spy': 4173, 'board': 479, 'cartoon': 656, 'heritage': 2097, 'pose': 3349, 'jacket': 2399, 'dust': 1372, 'harry': 2050, 'screenplay': 3876, 'shred': 3989, 'shall': 3953, 'uninspired': 4665, 'deadline': 1096, 'critical': 1026, 'eagle': 1379, 'sudden': 4297, 'saga': 3811, 'bernstein': 425, 'precede': 3378, 'nerve': 2973, 'irish': 2380, 'hack': 2013, 'stinker': 4225, 'schwartz': 3861, 'los': 2650, 'rabbit': 3520, 'ballroom': 342, 'vega': 4738, 'duke': 1364, 'shine': 3970, 'destine': 1181, 'greatness': 1973, 'herb': 2096, 'precise': 3380, 'plant': 3293, 'stream': 4250, 'scanner': 3844, 'vista': 4787, 'scan': 3843, 'firmware': 1718, 'jane': 2404, 'universe': 4672, 'scarlett': 3849, 'scarlet': 3848, 'hawthorne': 2059, 'underlying': 4647, 'atlas': 280, 'huxley': 2201, 'vacation': 4722, 'puritan': 3490, 'confess': 904, 'physical': 3260, 'reccomend': 3585, 'auto': 306, 'dolby': 1298, 'mundane': 2921, 'allusion': 131, 'hester': 2102, 'needle': 2965, 'us': 4704, 'convey': 957, 'overrate': 3140, 'dickens': 1209, 'boredom': 500, 'fahrenheit': 1625, 'footnote': 1772, 'nonetheless': 3012, 'gripping': 1983, 'neat': 2960, 'essence': 1515, 'breathtaking': 538, 'navigate': 2954, 'ebook': 1396, 'nathaniel': 2947, 'strength': 4252, 'weakness': 4848, 'cop': 965, 'rigid': 3743, 'psychological': 3472, 'divorce': 1286, 'adultery': 74, 'punishment': 3483, 'dover': 1315, 'reprint': 3683, 'confirm': 907, 'pretentious': 3401, 'era': 1506, 'mildly': 2831, 'hi': 2104, 'highschool': 2112, 'assignment': 272, 'dread': 1334, 'captivating': 640, 'worse': 4944, 'aunt': 299, 'ugh': 4630, 'honor': 2149, 'wordy': 4935, 'dirt': 1236, 'empathize': 1452, 'tragedy': 4560, 'effectively': 1415, 'reccommend': 3586, 'mainly': 2699, 'historically': 2124, 'pill': 3272, 'timely': 4507, 'cliff': 796, 'robot': 3757, 'wasted': 4837, 'indeed': 2271, 'beg': 398, 'unfamiliar': 4657, 'dislike': 1265, 'empty': 1458, 'worst': 4946, 'overly': 3137, 'humanity': 2187, 'filler': 1697, 'cynical': 1064, 'vice': 4760, 'awhile': 324, 'assign': 271, 'cliched': 793, 'marking': 2738, 'masterful': 2755, 'literary': 2619, 'rule': 3791, 'shell': 3964, 'belong': 413, 'electronic': 1427, 'formatting': 1781, 'requirement': 3687, 'cheat': 721, 'irritate': 2385, 'spirit': 4158, 'paperback': 3171, 'engross': 1477, 'flawless': 1736, 'guilt': 2000, 'irony': 2383, 'exceptional': 1562, 'fee': 1666, 'yawn': 4973, 'childish': 736, 'shadow': 3948, 'headache': 2064, 'jeff': 2417, 'ap': 209, 'hint': 2118, 'quote': 3517, 'significant': 4000, 'inability': 2251, 'revelation': 3718, 'fist': 1723, 'court': 991, 'unlikely': 4677, 'spider': 4152, 'pow': 3366, 'exceptionally': 1563, 'surprising': 4336, 'uninteresting': 4666, 'sucker': 4295, 'forth': 1785, 'sophomore': 4106, 'degree': 1137, 'grief': 1978, 'exam': 1552, 'afterwards': 95, 'reject': 3631, 'exposure': 1601, 'versus': 4752, 'construct': 928, 'noble': 3004, 'applicable': 220, 'ought': 3121, 'peel': 3219, 'wander': 4816, 'redemption': 3610, 'teenager': 4405, 'font': 1767, 'happens': 2033, 'sappy': 3829, 'victorian': 4762, 'sue': 4299, 'ignorance': 2214, 'okay': 3074, 'sux': 4347, 'quiz': 3516, 'slowly': 4056, 'lightly': 2588, 'lock': 2633, 'attic': 288, 'mentally': 2806, 'sandra': 3825, 'tempt': 4417, 'therapy': 4456, 'twisted': 4623, 'cure': 1047, 'insomnia': 2312, 'ridiculously': 3740, 'bloody': 470, 'junior': 2455, 'patient': 3204, 'rank': 3545, 'readily': 3567, 'october': 3056, 'luck': 2670, 'meaningful': 2776, 'ashamed': 259, 'harsh': 2051, 'sleeping': 4047, 'stress': 4253, 'anxious': 200, 'thier': 4463, 'taught': 4385, 'orwell': 3115, 'bradbury': 521, 'attack': 284, 'dare': 1080, 'oppression': 3095, 'comparable': 863, 'superior': 4316, 'arthur': 248, 'visual': 4788, 'aid': 104, 'moore': 2890, 'poetic': 3318, 'cram': 1000, 'extend': 1604, 'renew': 3667, 'pride': 3409, 'favor': 1659, 'dreary': 1337, 'dreadful': 1335, 'aim': 105, 'miserably': 2853, 'numerous': 3038, 'composition': 885, 'determine': 1189, 'suffers': 4301, 'bush': 597, 'prison': 3420, 'plumeria': 3313, 'rain': 3532, 'proof': 3453, 'suprised': 4325, 'senior': 3910, 'dual': 1356, 'meaning': 2775, 'tomato': 4525, 'anthony': 196, 'wilbur': 4895, 'ft': 1830, 'listing': 2616, 'substandard': 4284, 'cent': 685, 'suction': 4296, 'cleaning': 788, 'feed': 1667, 'compartment': 866, 'knife': 2484, 'tray': 4579, 'se': 3882, 'asia': 260, 'lao': 2515, 'august': 298, 'australian': 302, 'sloppy': 4053, 'functional': 1836, 'yep': 4980, 'probe': 3427, 'convince': 958, 'atrocious': 282, 'wouldnt': 4952, 'kiss': 2480, 'jerry': 2422, 'lewis': 2574, 'depressing': 1164, 'holiday': 2134, 'cancel': 625, 'dissapointment': 1273, 'receipt': 3587, 'rude': 3788, 'discount': 1250, 'rack': 3524, 'pretend': 3400, 'bomb': 485, 'flop': 1749, 'simpson': 4012, 'drunk': 1353, 'whitney': 4882, 'allen': 128, 'crack': 998, 'santa': 3828, 'teeth': 4406, 'youngster': 4990, 'billy': 438, 'remotely': 3662, 'annoying': 191, 'hairy': 2017, 'diehard': 1213, 'downright': 1318, 'stargate': 4193, 'signal': 3998, 'gas': 1869, 'pulse': 3479, 'flute': 1755, 'sax': 3839, 'storm': 4235, 'jones': 2440, 'quartet': 3501, 'william': 4898, 'dave': 1089, 'inappropriate': 2255, 'shut': 3991, 'duck': 1359, 'rail': 3531, 'yer': 4981, 'flag': 1729, 'reasonable': 3580, 'elvis': 1440, 'deborah': 1103, 'drummer': 1352, 'le': 2541, 'spinout': 4157, 'king': 2478, 'diane': 1206, 'height': 2084, 'una': 4637, 'cinema': 765, 'redeeming': 3609, 'chase': 716, 'erotic': 1508, 'listenable': 2612, 'motion': 2899, 'properly': 3457, 'expire': 1592, 'assembly': 270, 'furniture': 1842, 'ebay': 1395, 'separately': 3921, 'shade': 3947, 'hardware': 2043, 'grind': 1980, 'crank': 1001, 'grinder': 1981, 'operate': 3088, 'shoddy': 3977, 'brush': 566, 'jensen': 2420, 'pitch': 3282, 'accessible': 19, 'psychology': 3473, 'industry': 2283, 'intellectual': 2332, 'influential': 2290, 'teaching': 4393, 'phd': 3248, 'document': 1291, 'fuzzy': 1847, 'unacceptable': 4639, 'unfortunate': 4660, 'fluff': 1753, 'breathe': 536, 'affect': 88, 'concern': 896, 'academy': 14, 'announce': 188, 'oscar': 3117, 'bible': 433, 'fifteen': 1688, 'journalist': 2442, 'minimal': 2843, 'hype': 2202, 'definite': 1129, 'metallica': 2817, 'garage': 1863, 'successfully': 4293, 'twenty': 4619, 'diagram': 1201, 'instructor': 2327, 'pursuit': 3494, 'scale': 3841, 'violet': 4778, 'purple': 3491, 'promptly': 3452, 'training': 4565, 'nervous': 2974, 'photography': 3257, 'louis': 2657, 'groove': 1986, 'adapt': 51, 'rhyme': 3730, 'cube': 1041, 'gadget': 1851, 'magnum': 2696, 'refill': 3616, 'lip': 2606, 'lunchbox': 2677, 'stain': 4182, 'crocodile': 1030, 'lunch': 2676, 'drink': 1342, 'soup': 4119, 'breath': 535, 'ban': 343, 'weave': 4853, 'temptation': 4418, 'closer': 804, 'perfection': 3231, 'evolve': 1548, 'descent': 1167, 'sp': 4124, 'bum': 588, 'mediocre': 2788, 'mar': 2727, 'johnson': 2436, 'bland': 457, 'bash': 359, 'proud': 3466, 'biological': 444, 'gloria': 1918, 'wilson': 4901, 'lp': 2669, 'dated': 1087, 'howard': 2177, 'anne': 186, 'epic': 1498, 'starship': 4195, 'annie': 187, 'mtv': 2915, 'ann': 185, 'milk': 2834, 'career': 646, 'wolf': 4925, 'rockin': 3761, 'rocker': 3759, 'sorely': 4108, 'slave': 4044, 'mistress': 2862, 'truely': 4603, 'corny': 972, 'durability': 1370, 'pole': 3324, 'magnificent': 2695, 'chopin': 747, 'complexity': 878, 'sonic': 4099, 'progressive': 3446, 'rhythm': 3731, 'spectrum': 4145, 'velcro': 4743, 'walker': 4812, 'albert': 118, 'collins': 830, 'sam': 3817, 'charlie': 711, 'hall': 2020, 'rage': 3529, 'jazzy': 2415, 'clock': 800, 'scripture': 3880, 'christ': 752, 'hd': 2061, 'sync': 4362, 'mouth': 2908, 'warner': 4825, 'whim': 4877, 'eve': 1528, 'quest': 3505, 'gang': 1861, 'broadcast': 555, 'blu': 472, 'ray': 3561, 'capacity': 634, 'appal': 213, 'retail': 3712, 'speaking': 4133, 'babe': 328, 'wise': 4915, 'eternal': 1524, 'charles': 710, 'crew': 1019, 'jesus': 2423, 'bless': 464, 'withstand': 4921, 'passage': 3193, 'crisp': 1024, 'deluxe': 1150, 'inclusion': 2261, 'gentle': 1888, 'speech': 4146, 'uneven': 4655, 'thankfully': 4446, 'specify': 4143, 'spec': 4135, 'min': 2838, 'couch': 980, 'soooo': 4104, 'widescreen': 4891, 'creation': 1011, 'upside': 4700, 'connect': 915, 'fifth': 1689, 'afford': 89, 'mattress': 2764, 'powerbook': 3368, 'adapter': 53, 'amp': 163, 'ibook': 2204, 'macally': 2683, 'charging': 709, 'ac': 12, 'apple': 219, 'cycle': 1063, 'fiddle': 1686, 'connection': 916, 'indicator': 2278, 'better': 429, 'fluke': 1754, 'generate': 1881, 'bargain': 353, 'brick': 543, 'handy': 2028, 'adaptor': 54, 'connector': 917, 'resume': 3711, 'sufficient': 4302, 'continuously': 943, 'drawback': 1331, 'aluminum': 148, 'operation': 3090, 'buzz': 607, 'await': 316, 'request': 3685, 'initial': 2297, 'quiet': 3510, 'questionable': 3507, 'orange': 3100, 'airport': 110, 'weigh': 4861, 'affordable': 90, 'continually': 940, 'glance': 1912, 'electrical': 1426, 'budget': 575, 'sacrifice': 3804, 'th': 4442, 'following': 1764, 'transformer': 4568, 'idiot': 2212, 'satisfaction': 3832, 'backpack': 333, 'outer': 3126, 'suspect': 4343, 'disconnect': 1248, 'hassle': 2052, 'obtain': 3048, 'notify': 3028, 'resolve': 3696, 'usage': 4707, 'lemon': 2562, 'candy': 627, 'added': 56, 'oem': 3062, 'justify': 2458, 'lighting': 2587, 'unstable': 4685, 'pictured': 3268, 'temporary': 4416, 'compact': 859, 'missing': 2859, 'puppy': 3485, 'link': 2603, 'overprice': 3139, 'whine': 4879, 'representative': 3682, 'shaft': 3949, 'odds': 3058, 'binchy': 440, 'fuss': 1844, 'discourage': 1251, 'silver': 4004, 'poignant': 3320, 'observation': 3046, 'teller': 4409, 'marvelous': 2747, 'nephew': 2972, 'artistic': 253, 'whip': 4880, 'busy': 600, 'improvement': 2250, 'toddler': 4520, 'pin': 3275, 'bead': 381, 'sand': 3821, 'scifi': 3866, 'spiritual': 4159, 'dude': 1361, 'bathroom': 370, 'queensryche': 3504, 'booklet': 492, 'il': 2218, 'tempo': 4415, 'del': 1139, 'empire': 1457, 'dire': 1230, 'mike': 2829, 'un': 4636, 'west': 4866, 'pig': 3270, 'wine': 4906, 'por': 3340, 'en': 1459, 'ella': 1436, 'excelente': 1557, 'ma': 2681, 'brian': 542, 'rust': 3799, 'manufacture': 2723, 'poem': 3316, 'verse': 4750, 'leader': 2543, 'cannon': 628, 'expedition': 1584, 'river': 3751, 'fort': 1784, 'gun': 2006, 'trek': 4584, 'install': 2318, 'mount': 2905, 'resonate': 3697, 'mechanical': 2782, 'core': 969, 'evident': 1543, 'traveler': 4577, 'scenery': 3854, 'odysseus': 3060, 'ulysses': 4635, 'infrared': 2295, 'vibrate': 4757, 'flashlight': 1732, 'bulb': 584, 'heating': 2078, 'occasional': 3052, 'eddie': 1402, 'horizon': 2157, 'latin': 2527, 'funk': 1839, 'texture': 4441, 'testament': 4438, 'circumstance': 770, 'aussie': 300, 'shower': 3988, 'creep': 1017, 'writen': 4958, 'technically': 4398, 'photograph': 3256, 'reunion': 3716, 'webb': 4855, 'dimension': 1224, 'glen': 1914, 'campbell': 622, 'moving': 2912, 'upbeat': 4690, 'dwarf': 1375, 'interpretation': 2352, 'stunning': 4272, 'organize': 3108, 'amish': 159, 'therapist': 4455, 'translate': 4570, 'confused': 912, 'platform': 3296, 'ego': 1418, 'commentary': 849, 'accomplishment': 26, 'enthral': 1490, 'disgrace': 1258, 'remark': 3652, 'humble': 2188, 'cooker': 962, 'uplifting': 4695, 'importance': 2241, 'quilt': 3511, 'sentiment': 3919, 'insightful': 2309, 'east': 1391, 'marine': 2732, 'closely': 803, 'leak': 2547, 'meal': 2773, 'locally': 2630, 'output': 3130, 'magnet': 2694, 'celtic': 681, 'wipe': 4911, 'chore': 749, 'spill': 4154, 'tried': 4591, 'bunny': 591, 'shaker': 3951, 'detect': 1186, 'chunk': 761, 'invasion': 2365, 'coherent': 820, 'burmese': 593, 'breed': 539, 'meat': 2781, 'chicken': 732, 'raw': 3560, 'characteristic': 705, 'beloved': 415, 'quantity': 3499, 'gorgeous': 1943, 'trace': 4555, 'enable': 1460, 'napoleon': 2941, 'biography': 443, 'specialist': 4137, 'differ': 1215, 'emperor': 1454, 'praise': 3374, 'criticize': 1028, 'memoir': 2800, 'lab': 2498, 'sinister': 4020, 'underground': 4646, 'haha': 2014, 'ghost': 1899, 'setup': 3936, 'housing': 2175, 'nonsensical': 3016, 'rural': 3795, 'running': 3794, 'urban': 4702, 'spirituality': 4160, 'fifty': 1690, 'catherine': 671, 'comfort': 840, 'cream': 1009, 'haunt': 2056, 'revisit': 3723, 'boys': 519, 'dishwasher': 1262, 'specification': 4142, 'headset': 2066, 'bluetooth': 475, 'motorola': 2904, 'wannabe': 4817, 'prepared': 3393, 'clip': 799, 'harmony': 2047, 'songwriter': 4098, 'camp': 620, 'inventory': 2368, 'taylor': 4387, 'boat': 480, 'pocket': 3315, 'arrange': 241, 'immortal': 2235, 'chill': 737, 'thrash': 4481, 'northern': 3021, 'dome': 1302, 'xmas': 4967, 'diameter': 1204, 'google': 1940, 'prep': 3390, 'density': 1156, 'brazil': 529, 'scope': 3868, 'companion': 861, 'experiment': 1589, 'tilt': 4502, 'adjustment': 66, 'opener': 3085, 'drill': 1341, 'paste': 3198, 'dolly': 1301, 'parton': 3189, 'sustain': 4346, 'delivers': 1147, 'sugar': 4303, 'independent': 2272, 'lend': 2563, 'unforgettable': 4659, 'fond': 1765, 'soar': 4072, 'lhasa': 2575, 'sings': 4019, 'wrench': 4955, 'kurt': 2495, 'intimate': 2356, 'diversity': 1284, 'originality': 3111, 'tango': 4378, 'ala': 114, 'subsequent': 4282, 'musicianship': 2928, 'modest': 2871, 'abroad': 4, 'spooky': 4166, 'majestic': 2703, 'knight': 2485, 'accurately': 31, 'audiobook': 296, 'accent': 15, 'climb': 798, 'elizabeth': 1435, 'loyalty': 2668, 'whats': 4871, 'sir': 4022, 'simon': 4007, 'laughter': 2531, 'mankind': 2718, 'bubble': 569, 'holy': 2140, 'casting': 662, 'standout': 4189, 'chat': 717, 'bolt': 484, 'route': 3781, 'india': 2274, 'sport': 4167, 'headphone': 2065, 'eidos': 1420, 'gameplay': 1858, 'tomb': 4526, 'raider': 3530, 'delay': 1140, 'lara': 2518, 'horrid': 2161, 'stall': 4185, 'blank': 458, 'ram': 3536, 'turkey': 4612, 'restart': 3706, 'controller': 951, 'sensitive': 3914, 'fence': 1681, 'news': 2982, 'cutting': 1061, 'preview': 3404, 'franchise': 1798, 'depressed': 1163, 'playable': 3299, 'sticker': 4218, 'unusable': 4687, 'glitch': 1917, 'bat': 367, 'explosion': 1598, 'fighting': 1693, 'surroundings': 4340, 'resident': 3693, 'washer': 4832, 'deck': 1112, 'chemical': 726, 'chlorine': 741, 'network': 2976, 'retailer': 3713, 'disposable': 1269, 'motor': 2902, 'absent': 5, 'updated': 4693, 'impact': 2237, 'fishing': 1722, 'buggy': 580, 'alley': 129, 'relevance': 3640, 'desperate': 1178, 'forum': 1787, 'foreign': 1775, 'watson': 4843, 'desperately': 1179, 'succeed': 4290, 'merely': 2811, 'polish': 3327, 'erotica': 1509, 'inaccurate': 2253, 'realise': 3571, 'lust': 2678, 'devote': 1196, 'fragile': 1795, 'staple': 4190, 'sarah': 3830, 'devoid': 1195, 'backdrop': 331, 'wierd': 4893, 'fruit': 1825, 'wedge': 4858, 'dawn': 1091, 'leaf': 2545, 'clamp': 777, 'round': 3780, 'april': 228, 'ace': 32, 'buddhism': 572, 'inevitably': 2285, 'entirety': 1494, 'gifted': 1904, 'portfolio': 3344, 'notion': 3029, 'documentary': 1292, 'planning': 3292, 'vol': 4799, 'restore': 3709, 'shoulder': 3985, 'rope': 3776, 'escape': 1512, 'reverse': 3720, 'anchor': 171, 'logical': 2637, 'harder': 2041, 'code': 818, 'brutal': 567, 'mayhem': 2769, 'vein': 4742, 'interface': 2346, 'army': 239, 'arch': 230, 'strategy': 4248, 'demo': 1153, 'terrain': 4427, 'expansion': 1581, 'few': 1682, 'notch': 3023, 'tribe': 4588, 'intro': 2360, 'partial': 3185, 'listens': 2615, 'deaf': 1097, 'alert': 122, 'cousin': 993, 'enjoyed': 1481, 'buddhist': 573, 'obnoxious': 3044, 'humorous': 2190, 'quirky': 3513, 'reread': 3688, 'tremendously': 4586, 'blessing': 465, 'gypsy': 2010, 'tick': 4493, 'leadership': 2544, 'lace': 2502, 'strand': 4243, 'related': 3633, 'cage': 613, 'martin': 2745, 'discovery': 1253, 'belva': 417, 'consume': 931, 'stable': 4178, 'immensely': 2234, 'gerald': 1894, 'breakdown': 532, 'strictly': 4255, 'decorative': 1115, 'toss': 4539, 'bin': 439, 'golf': 1933, 'filter': 1700, 'unlock': 4679, 'roller': 3766, 'coaster': 814, 'bruce': 563, 'martial': 2744, 'relation': 3634, 'discipline': 1247, 'grey': 1977, 'harlequin': 2045, 'melissa': 2795, 'undoubtedly': 4654, 'delete': 1141, 'blast': 460, 'virus': 4783, 'midi': 2826, 'countless': 985, 'component': 882, 'su': 4278, 'como': 858, 'examination': 1553, 'glue': 1924, 'accessory': 20, 'bow': 511, 'tad': 4369, 'indian': 2275, 'minus': 2849, 'intent': 2338, 'radiator': 3526, 'nickel': 2989, 'installation': 2319, 'comparison': 865, 'pan': 3167, 'lightness': 2589, 'nikon': 2997, 'usable': 4706, 'zoom': 4999, 'lens': 2566, 'disguise': 1259, 'hilditch': 2116, 'felicia': 1673, 'johnny': 2435, 'viewpoint': 4767, 'supplement': 4318, 'fi': 1683, 'faster': 1653, 'golden': 1932, 'coat': 815, 'pump': 3480, 'mug': 2918, 'liquid': 2608, 'thesis': 4461, 'monitor': 2879, 'adjustable': 65, 'crappy': 1003, 'generic': 1883, 'refresh': 3619, 'marvel': 2746, 'ministry': 2845, 'newly': 2980, 'alcohol': 120, 'representation': 3681, 'violent': 4777, 'origin': 3109, 'picky': 3266, 'leather': 2553, 'alarm': 115, 'detector': 1188, 'vent': 4747, 'carpet': 651, 'ceiling': 678, 'pricey': 3408, 'approve': 227, 'curtain': 1054, 'beep': 396, 'emergency': 1446, 'dive': 1282, 'wisdom': 4914, 'brainless': 524, 'hum': 2185, 'neighbor': 2969, 'inspiring': 2316, 'journal': 2441, 'guidance': 1998, 'madonna': 2689, 'bored': 499, 'rose': 3777, 'dean': 1099, 'shout': 3986, 'whoever': 4883, 'watching': 4840, 'defect': 1122, 'valve': 4728, 'nipple': 3001, 'lane': 2513, 'launch': 2532, 'securely': 3896, 'subtitle': 4287, 'yoga': 4986, 'workbook': 4937, 'tribute': 4589, 'riff': 3741, 'ironic': 2382, 'popcorn': 3337, 'expression': 1603, 'xanth': 4965, 'unreadable': 4682, 'zombie': 4998, 'dale': 1069, 'elevator': 1433, 'beatles': 386, 'asian': 261, 'pool': 3333, 'coleman': 822, 'soviet': 4123, 'frightening': 1821, 'tightly': 4499, 'region': 3625, 'makeup': 2708, 'lesbian': 2567, 'consistent': 922, 'elastic': 1424, 'dot': 1310, 'tile': 4500, 'warmth': 4823, 'genuinely': 1892, 'national': 2949, 'riddle': 3737, 'korean': 2493, 'vegetarian': 4740, 'cookbook': 961, 'pa': 3149, 'establish': 1518, 'nyc': 3041, 'briefly': 546, 'phenomenal': 3249, 'acknowledge': 35, 'diabetic': 1199, 'glucose': 1923, 'medication': 2786, 'diabetes': 1198, 'kudos': 2494, 'educate': 1408, 'peak': 3215, 'med': 2784, 'venus': 4749, 'identical': 2209, 'individually': 2281, 'buff': 577, 'stalingrad': 4184, 'luftwaffe': 2673, 'aviation': 313, 'argentine': 233, 'dancing': 1076, 'dancer': 1075, 'routine': 3783, 'ranger': 3544, 'february': 1665, 'schedule': 3856, 'edward': 1411, 'swap': 4348, 'excellant': 1558, 'dede': 1116, 'amuse': 164, 'described': 1169, 'bd': 378, 'boxset': 516, 'spiderman': 4153, 'extraordinary': 1611, 'samsung': 3819, 'xbox': 4966, 'russian': 3798, 'andrew': 174, 'bold': 483, 'grainy': 1955, 'diamond': 1205, 'acid': 34, 'sympathy': 4361, 'wicca': 4886, 'invent': 2366, 'goddess': 1930, 'hutton': 2200, 'obscure': 3045, 'conduct': 903, 'firewire': 1716, 'september': 3922, 'ad': 49, 'tony': 4531, 'alittle': 126, 'ending': 1465, 'lake': 2509, 'pitchshifter': 3283, 'industrial': 2282, 'manager': 2715, 'scotland': 3870, 'canada': 624, 'ra': 3518, 'awe': 321, 'egyptian': 1419, 'amateurish': 151, 'challenging': 697, 'rewrite': 3728, 'liberty': 2577, 'washing': 4833, 'monumental': 2887, 'cameron': 619, 'ljs': 2626, 'gillian': 1906, 'popularity': 3339, 'gary': 1868, 'creature': 1014, 'communist': 856, 'haiku': 2015, 'problematic': 3429, 'van': 4730, 'handbook': 2025, 'poet': 3317, 'kerouac': 2466, 'skeptical': 4034, 'mothman': 2898, 'prophecy': 3459, 'keel': 2462, 'ufo': 4629, 'phenomenon': 3250, 'disjoint': 1263, 'sighting': 3996, 'albeit': 117, 'screenwriter': 3877, 'gordon': 1941, 'primarily': 3410, 'mighty': 2828, 'storytelling': 4240, 'letdown': 2571, 'controversial': 952, 'admittedly': 69, 'beast': 384, 'incident': 2258, 'london': 2641, 'parallel': 3177, 'incoherent': 2262, 'happening': 2032, 'scenario': 3852, 'acquire': 38, 'goofy': 1939, 'stormy': 4236, 'monster': 2883, 'copyright': 967, 'dreck': 1338, 'innovative': 2303, 'constitutional': 927, 'racism': 3522, 'fighter': 1692, 'lene': 2564, 'analog': 167, 'replay': 3677, 'censorship': 684, 'anime': 183, 'kettle': 2467, 'suicide': 4306, 'math': 2761, 'newman': 2981, 'definitive': 1132, 'debate': 1102, 'nightwish': 2996, 'guardian': 1995, 'eva': 1527, 'bob': 481, 'thermometer': 4460, 'frequent': 1810, 'temp': 4411, 'hospital': 2167, 'tent': 4424, 'alice': 123, 'criticism': 1027, 'module': 2872, 'bdsm': 379, 'maria': 2729, 'inadequate': 2254, 'snmp': 4068, 'lately': 2525, 'tooth': 4533, 'randomly': 3542, 'frankenstein': 1802, 'koontz': 2492, 'repetition': 3673, 'ally': 132, 'madman': 2687, 'madness': 2688, 'canon': 629, 'rewind': 3727, 'posting': 3358, 'illumination': 2222, 'sixty': 4029, 'differently': 1218, 'nirvana': 3002, 'cobain': 816, 'hardcore': 2039, 'bean': 382, 'estate': 1519, 'courtney': 992, 'catalogue': 667, 'boxed': 515, 'yea': 4974, 'recover': 3605, 'doug': 1313, 'vile': 4769, 'fitness': 1725, 'survival': 4341, 'hiking': 2114, 'drip': 1344, 'gritty': 1984, 'sci': 3862, 'dell': 1149, 'toxic': 4553, 'avenger': 311, 'troma': 4599, 'gratuitous': 1968, 'citizen': 772, 'poster': 3357, 'utter': 4720, 'router': 3782, 'discontinue': 1249, 'carriage': 652, 'vitex': 4792, 'finance': 1704, 'eliminate': 1434, 'mild': 2830, 'acne': 36, 'moisturizer': 2873, 'darker': 1082, 'touching': 4545, 'camping': 623, 'admire': 67, 'mario': 2733, 'exuviance': 1614, 'avail': 309, 'vibrator': 4759, 'heinlein': 2085, 'motivate': 2900, 'fare': 1646, 'depiction': 1161, 'realism': 3572, 'pursue': 3493, 'hardy': 2044, 'rape': 3548, 'alec': 121, 'valley': 4725, 'telling': 4410, 'prediction': 3384, 'couldnt': 982, 'scare': 3846, 'heartbreaking': 2075, 'monotonous': 2882, 'confront': 909, 'bike': 436, 'grandfather': 1961, 'viewing': 4766, 'bradley': 522, 'crawford': 1005, 'outdoor': 3125, 'satire': 3831, 'juliet': 2450, 'sleeper': 4046, 'dismiss': 1266, 'cinematography': 767, 'regime': 3624, 'paranoid': 3179, 'hendrix': 2094, 'odor': 3059, 'sf': 3946, 'voyage': 4804, 'heater': 2077, 'chaos': 702, 'hopeful': 2154, 'pr': 3370, 'operating': 3089, 'slot': 4054, 'sur': 4326, 'greasy': 1970, 'postcard': 3356, 'mt': 2914, 'pilot': 3274, 'accident': 21, 'dumber': 1367, 'gossip': 1946, 'barn': 354, 'nobel': 3003, 'bay': 375, 'attend': 286, 'hike': 2113, 'maggie': 2691, 'dharma': 1197, 'bud': 571, 'fame': 1636, 'contemplate': 935, 'overrated': 3141, 'hp': 2179, 'theology': 4453, 'shia': 3967, 'megan': 2793, 'fox': 1793, 'actress': 46, 'he': 2062, 'labeouf': 2500, 'ben': 418, 'provider': 3469, 'optimus': 3098, 'freak': 1805, 'bluray': 477, 'mentality': 2805, 'continuity': 942, 'nonexistent': 3013, 'browser': 562, 'cgi': 693, 'jar': 2408, 'remake': 3651, 'procedure': 3430, 'bullet': 587, 'alter': 142, 'slam': 4041, 'dts': 1355, 'stupidity': 4275, 'blockbuster': 468, 'branch': 525, 'resist': 3694, 'gb': 1872, 'jackson': 2400, 'syndrome': 4363, 'theatrical': 4451, 'alpha': 138, 'ticket': 4494, 'hockey': 2129, 'iphone': 2376, 'destruction': 1183, 'bruckheimer': 564, 'tactic': 4368, 'cowboy': 996, 'helicopter': 2086, 'violin': 4779, 'specie': 4139, 'decline': 1113, 'ie': 2213, 'epson': 1500, 'compatibility': 867, 'rambo': 3540, 'wwe': 4962, 'cena': 682, 'patrick': 3206, 'cringe': 1022, 'security': 3897, 'hogan': 2130, 'terminator': 4426, 'dramatically': 1329, 'intricate': 2357, 'hiss': 2121, 'emarker': 1443, 'playlist': 3303, 'emarks': 1444, 'execution': 1573, 'terrifying': 4432, 'censor': 683, 'gammell': 1860, 'ti': 4492, 'compromise': 890, 'gruesome': 1992, 'tame': 4377, 'horrify': 2163, 'helquist': 2091, 'scared': 3847, 'aloud': 137, 'mythology': 2937, 'rice': 3732, 'bellydance': 412, 'atea': 278, 'privacy': 3422, 'brando': 527, 'altitude': 146, 'insole': 2311, 'trail': 4562, 'rugged': 3789, 'warmer': 4822, 'muy': 2932, 'thinker': 4468, 'ralph': 3535, 'recognition': 3596, 'gabriel': 1850, 'cult': 1042, 'hound': 2172, 'ballet': 341, 'defense': 1125, 'predator': 3381, 'ryan': 3803, 'christopher': 757, 'officer': 3068, 'julie': 2449, 'malfunction': 2711, 'douglas': 1314, 'genuine': 1891, 'brio': 551, 'sensor': 3915, 'automatic': 307, 'feeder': 1669, 'reset': 3692, 'manages': 2716, 'stewart': 4216, 'mellow': 2796, 'amnesia': 160, 'tubthumping': 4609, 'lightning': 2590, 'gal': 1853, 'pitiful': 3284, 'arthritis': 247, 'earthquake': 1388, 'laser': 2522, 'misplace': 2857, 'artificial': 251, 'reminiscent': 3658, 'mule': 2919, 'gibson': 1902, 'oppose': 3093, 'seldon': 3903, 'isaac': 2386, 'spoiler': 4165, 'galaxy': 1854, 'futuristic': 1846, 'defend': 1124, 'inaccuracy': 2252, 'unexpected': 4656, 'genesis': 1885, 'wwi': 4963, 'hardback': 2038, 'carrot': 653, 'vacuum': 4723, 'viking': 4768, 'addiction': 58, 'nick': 2988, 'cf': 692, 'dentist': 1157, 'batman': 371, 'guinea': 2002, 'phase': 3247, 'mccartney': 2771, 'rem': 3648, 'removable': 3663, 'ritter': 3748, 'goodbye': 1936, 'joyce': 2445, 'janet': 2405, 'gay': 1871, 'external': 1608, 'microphone': 2823, 'charlotte': 712, 'britney': 553, 'spear': 4134, 'catholic': 672, 'philosophical': 3252, 'portrait': 3346, 'cancer': 626, 'sander': 3822, 'sensation': 3911, 'turtle': 4615, 'dystopian': 1377, 'stunt': 4273, 'aerial': 86, 'racist': 3523, 'pal': 3163, 'invisible': 2372, 'shakespeare': 3952, 'robin': 3756, 'rainy': 3533, 'craze': 1007, 'crawl': 1006, 'dinosaur': 1228, 'harness': 2048, 'homosexual': 2144, 'rashel': 3553, 'dominate': 1303, 'quinn': 3512, 'curie': 1048, 'prize': 3424, 'simpletech': 4009, 'mb': 2770, 'massacre': 2751, 'patti': 3208, 'stuck': 4265, 'evita': 1545, 'intex': 2355, 'inflate': 2288, 'airbed': 107, 'deflate': 1134, 'comforter': 843, 'lump': 2675, 'restock': 3708, 'xtra': 4969, 'flannel': 1730, 'fleetwood': 1739, 'rumour': 3792, 'mercedes': 2809, 'harmon': 2046, 'ford': 1774, 'passionate': 3196, 'cocktail': 817, 'jungle': 2454, 'oop': 3082, 'fonda': 1766, 'barbra': 350, 'rob': 3754, 'luke': 2674, 'mattel': 2762, 'kinsella': 2479, 'sophie': 4105, 'wickham': 4888, 'eby': 1397, 'romeo': 3772, 'spread': 4171, 'nurse': 3039, 'garcia': 1865, 'incest': 2256, 'yello': 4978, 'steiner': 4208, 'inventive': 2367, 'shirley': 3974, 'homosexuality': 2145, 'manson': 2721, 'bugliosi': 581, 'helter': 2092, 'skelter': 4033, 'stoner': 4231, 'gnostic': 1926, 'tene': 4422, 'airplane': 109, 'dali': 1070, 'basement': 358, 'ninety': 3000, 'batcave': 368, 'insist': 2310, 'pci': 3213, 'clavell': 786, 'noni': 3014, 'nomad': 3009, 'recharge': 3593, 'knit': 2486, 'voodoo': 4802, 'nba': 2956, 'ritual': 3749, 'toefl': 4522, 'shift': 3968, 'civil': 774, 'earpiece': 1386, 'vegan': 4739, 'tina': 4510, 'wilderness': 4897, 'sd': 3881, 'sandisk': 3823, 'sansa': 3827, 'carnegie': 650, 'snack': 4066, 'advocate': 85, 'vincent': 4773, 'prosecutor': 3462, 'senseless': 3913, 'slasher': 4043, 'monk': 2880, 'collar': 825, 'dracula': 1323, 'flint': 1745, 'wireless': 4913, 'strauss': 4249, 'jabra': 2397, 'eargels': 1382, 'earbuds': 1381, 'jawbone': 2412, 'chuck': 759, 'clan': 778, 'swedish': 4352, 'assante': 268, 'odyssey': 3061, 'ian': 2203, 'misfortune': 2854, 'philadelphia': 3251, 'programmer': 3443, 'winston': 4909, 'moby': 2867, 'peck': 3217, 'ahab': 101, 'directing': 1232, 'resemble': 3691, 'damme': 1072, 'flea': 1738, 'tho': 4472, 'frank': 1800, 'lackey': 2504, 'venice': 4746, 'tuscan': 4616, 'tuscany': 4617, 'villa': 4770, 'communism': 855, 'rollerball': 3767, 'russell': 3797, 'megaman': 2792, 'chandler': 699, 'noir': 3006, 'scooter': 3867, 'pratchett': 3375, 'discworld': 1256, 'om': 3076, 'celiac': 679, 'gluten': 1925, 'amy': 166, 'usmle': 4715, 'anatomy': 170, 'freshman': 1813, 'dogg': 1297, 'gba': 1873, 'carter': 655, 'rebel': 3582, 'bowie': 512, 'holmes': 2138, 'confrontation': 910, 'sting': 4223, 'cummins': 1045, 'freud': 1814, 'organic': 3106, 'parable': 3174, 'vivitar': 4794, 'joan': 2430, 'palance': 3164, 'souljah': 4114, 'fw': 1848, 'childbirth': 734, 'birthing': 448, 'sheri': 3965, 'bayles': 376, 'argento': 234, 'statue': 4201, 'usher': 4714, 'auel': 297, 'ayla': 327, 'prehistoric': 3388, 'intellectually': 2333, 'neanderthal': 2957, 'lipstick': 2607, 'gamecube': 1857, 'gameboy': 1856, 'astrology': 276, 'antivirus': 199, 'femalien': 1679, 'unrated': 4681, 'flyboys': 1757, 'lafayette': 2508, 'escadrille': 1511, 'dogfight': 1296, 'judith': 2447, 'hostel': 2169, 'bleak': 461, 'paced': 3151, 'bebel': 390, 'everest': 1534, 'gammelgaard': 1859, 'elmo': 1437, 'firefighter': 1713, 'csi': 1040, 'taz': 4388, 'frm': 1822, 'garp': 1867, 'enrich': 1485, 'oceania': 3055, 'totalitarian': 4541, 'newspeak': 2984, 'totalitarianism': 4542, 'burgess': 592, 'fundamentalist': 1838, 'concealer': 893, 'huppert': 2196, 'zeta': 4996, 'guinness': 2003, 'montag': 2884, 'fireman': 1714, 'farenheit': 1647, 'piper': 3279, 'fellowship': 1676, 'gimli': 1907, 'moria': 2893, 'rivendell': 3750, 'ati': 279, 'radeon': 3525, 'compactflash': 860, 'emily': 1447, 'pam': 3166, 'finnegans': 1711, 'geforce': 1875, 'lapinator': 2516, 'hatebreed': 2055, 'halti': 2022, 'continuum': 944, 'musiq': 2929, 'lola': 2640, 'franka': 1801, 'tism': 4515, 'ziggy': 4997, 'stardust': 4192, 'nickelodeon': 2990, 'knot': 2488, 'liam': 2576, 'owen': 3146, 'neeson': 2967, 'lili': 2597, 'asvab': 277, 'goodman': 1937, 'cedar': 677, 'florette': 1750, 'manon': 2720, 'apache': 210, 'minolta': 2846, 'marquez': 2740, 'oprah': 3096, 'buendia': 576, 'macondo': 2685, 'java': 2410, 'canterbury': 631, 'chaucer': 718, 'pellegrino': 3220, 'coyote': 997, 'perabo': 3228, 'redgrave': 3611, 'warnes': 4826, 'ronson': 3773, 'tomcat': 4527, 'fraser': 1804, 'mckellen': 2772, 'brendan': 541, 'buffalo': 578, 'mosby': 2895, 'stacie': 4179, 'orrico': 3114, 'christina': 754, 'ry': 3802, 'carlton': 649, 'hopkins': 2156, 'lovebird': 2661, 'linksys': 2604, 'basset': 366, 'baskerville': 363, 'doyle': 1320, 'sherlock': 3966, 'baskervilles': 364, 'marlon': 2739, 'donati': 1305, 'claustrophobic': 785, 'ventriloquist': 4748}\n"
     ]
    }
   ],
   "source": [
    "print(Tfidf_vect.vocabulary_)"
   ]
  },
  {
   "cell_type": "code",
   "execution_count": 216,
   "metadata": {
    "scrolled": true
   },
   "outputs": [
    {
     "name": "stdout",
     "output_type": "stream",
     "text": [
      "  (0, 240)\t0.2448559358109696\n",
      "  (0, 491)\t0.12303572865008613\n",
      "  (0, 521)\t0.321056290554803\n",
      "  (0, 1529)\t0.17761496997588844\n",
      "  (0, 1935)\t0.13406125327954532\n",
      "  (0, 2931)\t0.229683025366997\n",
      "  (0, 3564)\t0.29449641491430995\n",
      "  (0, 3655)\t0.2896999547088821\n",
      "  (0, 3745)\t0.34695623926050195\n",
      "  (0, 3860)\t0.2690675584422277\n",
      "  (0, 3890)\t0.2515140235472667\n",
      "  (0, 3976)\t0.35868777245753825\n",
      "  (0, 4505)\t0.15031494427382475\n",
      "  (0, 4506)\t0.3763188267807246\n",
      "  (1, 604)\t0.1614401835472762\n",
      "  (1, 1260)\t0.2074693534878867\n",
      "  (1, 2592)\t0.2173336717856602\n",
      "  (1, 3313)\t0.8157357261127677\n",
      "  (1, 3434)\t0.21279175847748263\n",
      "  (1, 4060)\t0.3566872275481094\n",
      "  (1, 4687)\t0.21384275526442909\n",
      "  (2, 33)\t0.20930831028858776\n",
      "  (2, 361)\t0.17411748468635024\n",
      "  (2, 391)\t0.13891513600828057\n",
      "  (2, 499)\t0.23040114109066645\n",
      "  :\t:\n",
      "  (6998, 3496)\t0.10451353633683101\n",
      "  (6998, 3564)\t0.288726350970047\n",
      "  (6998, 3602)\t0.1798213211550688\n",
      "  (6998, 3686)\t0.15400280027565427\n",
      "  (6998, 3805)\t0.1514288179316596\n",
      "  (6998, 3928)\t0.16387843435044955\n",
      "  (6998, 4196)\t0.11132420041814113\n",
      "  (6998, 4232)\t0.13234870591207787\n",
      "  (6998, 4237)\t0.08875721263956975\n",
      "  (6998, 4371)\t0.0921729228196179\n",
      "  (6998, 4487)\t0.15794090256332008\n",
      "  (6998, 4604)\t0.14000394043873474\n",
      "  (6998, 4870)\t0.16719723225983713\n",
      "  (6999, 50)\t0.3571519291530235\n",
      "  (6999, 322)\t0.28499442233774624\n",
      "  (6999, 1246)\t0.314256617088249\n",
      "  (6999, 1406)\t0.2877416804485293\n",
      "  (6999, 1529)\t0.17292898689607455\n",
      "  (6999, 1664)\t0.28173977593289695\n",
      "  (6999, 1971)\t0.14155242939037596\n",
      "  (6999, 2706)\t0.14615260074275177\n",
      "  (6999, 2911)\t0.16568268411504228\n",
      "  (6999, 3824)\t0.3649735868975402\n",
      "  (6999, 4136)\t0.5217385422290042\n",
      "  (6999, 4865)\t0.16162053232828144\n"
     ]
    }
   ],
   "source": [
    "print(Train_X_Tfidf) # each row shows 1: Row number of ‘Train_X_Tfidf’, 2: Unique Integer number of each word in the first row, 3: Score calculated by TF-IDF Vectorizer"
   ]
  },
  {
   "cell_type": "markdown",
   "metadata": {},
   "source": [
    "# 7. Fitting SVM Algotithm and optimizing the hyper parameters"
   ]
  },
  {
   "cell_type": "code",
   "execution_count": 70,
   "metadata": {},
   "outputs": [
    {
     "name": "stdout",
     "output_type": "stream",
     "text": [
      "SVM Accuracy Score ->  84.66666666666667\n"
     ]
    }
   ],
   "source": [
    "# Classifier - SVM\n",
    "# fit the training data on the classifier\n",
    "SVM = svm.SVC(C=1.0, kernel='linear', degree=3, gamma='auto')\n",
    "SVM.fit(Train_X_Tfidf,Train_Y)\n",
    "# predict the labels on validation dataset\n",
    "predictions_SVM = SVM.predict(Test_X_Tfidf)\n",
    "# Use accuracy_score function to get the accuracy\n",
    "print(\"SVM Accuracy Score -> \",accuracy_score(predictions_SVM, Test_Y)*100)"
   ]
  },
  {
   "cell_type": "code",
   "execution_count": 95,
   "metadata": {},
   "outputs": [],
   "source": [
    "# Grid Search to find the best hyper parameters (assumption: kernel='rbf')\n",
    "def svc_param_selection(X, y, nfolds):\n",
    "    C = [0.001, 0.01, 0.1, 1, 10]\n",
    "    gamma = [0.001, 0.01, 0.1, 1]\n",
    "    param_grid = {'C': C, 'gamma' : gamma}\n",
    "    \n",
    "    grid_search = GridSearchCV(svm.SVC(kernel='rbf'), param_grid, cv=nfolds)\n",
    "    grid_search.fit(X, y)\n",
    "    grid_search.best_params_\n",
    "    return grid_search.best_params_"
   ]
  },
  {
   "cell_type": "code",
   "execution_count": 96,
   "metadata": {},
   "outputs": [
    {
     "data": {
      "text/plain": [
       "{'C': 1, 'gamma': 1}"
      ]
     },
     "execution_count": 96,
     "metadata": {},
     "output_type": "execute_result"
    }
   ],
   "source": [
    "svc_param_selection(Train_X_Tfidf,Train_Y, 10) # optimized hyper parameters when kernel='rbf'"
   ]
  },
  {
   "cell_type": "code",
   "execution_count": 97,
   "metadata": {},
   "outputs": [
    {
     "name": "stdout",
     "output_type": "stream",
     "text": [
      "SVM Accuracy Score ->  85.0\n"
     ]
    }
   ],
   "source": [
    "# Checking the accuracy of SVM model with optimized hyper parameters and kernel='rbf'\n",
    "SVM = svm.SVC(C=1.0, kernel='rbf', gamma=1.0)\n",
    "SVM.fit(Train_X_Tfidf,Train_Y)\n",
    "# predict the labels on validation dataset\n",
    "predictions_SVM = SVM.predict(Test_X_Tfidf)\n",
    "# Use accuracy_score function to get the accuracy\n",
    "print(\"SVM Accuracy Score -> \",accuracy_score(predictions_SVM, Test_Y)*100)"
   ]
  },
  {
   "cell_type": "code",
   "execution_count": 98,
   "metadata": {},
   "outputs": [],
   "source": [
    "# Grid Search to find the best hyper parameters (assumption: kernel='linear')\n",
    "def svc_param_selection(X, y, nfolds):\n",
    "    C = [0.001, 0.01, 0.1, 1, 10]\n",
    "    gamma = [0.001, 0.01, 0.1, 1]\n",
    "    param_grid = {'C': C, 'gamma' : gamma}\n",
    "    \n",
    "    grid_search = GridSearchCV(svm.SVC(kernel='linear'), param_grid, cv=nfolds)\n",
    "    grid_search.fit(X, y)\n",
    "    grid_search.best_params_\n",
    "    return grid_search.best_params_"
   ]
  },
  {
   "cell_type": "code",
   "execution_count": 99,
   "metadata": {},
   "outputs": [
    {
     "data": {
      "text/plain": [
       "{'C': 1, 'gamma': 0.001}"
      ]
     },
     "execution_count": 99,
     "metadata": {},
     "output_type": "execute_result"
    }
   ],
   "source": [
    "svc_param_selection(Train_X_Tfidf,Train_Y, 10) # optimized hyper parameters when kernel='linear'"
   ]
  },
  {
   "cell_type": "code",
   "execution_count": 166,
   "metadata": {},
   "outputs": [
    {
     "name": "stdout",
     "output_type": "stream",
     "text": [
      "SVM Accuracy Score ->  84.66666666666667\n"
     ]
    }
   ],
   "source": [
    "# Checking the accuracy of SVM model with optimized hyper parameters and kernel='linear'\n",
    "SVM = svm.SVC(C=1.0, kernel='linear', gamma=0.001)\n",
    "SVM.fit(Train_X_Tfidf,Train_Y)\n",
    "# predict the labels on validation dataset\n",
    "predictions_SVM = SVM.predict(Test_X_Tfidf)\n",
    "# Use accuracy_score function to get the accuracy\n",
    "print(\"SVM Accuracy Score -> \",accuracy_score(predictions_SVM, Test_Y)*100)"
   ]
  },
  {
   "cell_type": "code",
   "execution_count": 222,
   "metadata": {},
   "outputs": [],
   "source": [
    "# optimizing the min number of training data\n",
    "def create_model(train_size=2000):\n",
    "    train_sizes, train_scores, valid_scores = learning_curve(SVC(C=1.0, kernel='rbf', gamma=1.0), Train_X_Tfidf, Train_Y, train_sizes=train_size, cv=5)\n",
    "    return train_sizes, train_scores, valid_scores\n",
    "\n",
    "train_size=[2000,3000, 4000, 5000]\n",
    "\n",
    "history=create_model(train_size)"
   ]
  },
  {
   "cell_type": "code",
   "execution_count": 223,
   "metadata": {},
   "outputs": [
    {
     "data": {
      "text/plain": [
       "[<matplotlib.lines.Line2D at 0x11574d6b8d0>,\n",
       " <matplotlib.lines.Line2D at 0x11574d6ba20>,\n",
       " <matplotlib.lines.Line2D at 0x11574d6bb70>,\n",
       " <matplotlib.lines.Line2D at 0x11574d6bcc0>,\n",
       " <matplotlib.lines.Line2D at 0x11574d6be10>,\n",
       " <matplotlib.lines.Line2D at 0x11574d6bf60>,\n",
       " <matplotlib.lines.Line2D at 0x11574d780f0>,\n",
       " <matplotlib.lines.Line2D at 0x11574d78240>,\n",
       " <matplotlib.lines.Line2D at 0x11574d78390>,\n",
       " <matplotlib.lines.Line2D at 0x11574d784e0>]"
      ]
     },
     "execution_count": 223,
     "metadata": {},
     "output_type": "execute_result"
    },
    {
     "data": {
      "image/png": "[encoded data removed]",
      "text/plain": [
       "<Figure size 720x360 with 1 Axes>"
      ]
     },
     "metadata": {
      "needs_background": "light"
     },
     "output_type": "display_data"
    }
   ],
   "source": [
    "plt.figure(figsize=(10,5))\n",
    "plt.plot(train_sizes, train_scores,train_sizes, valid_scores)"
   ]
  },
  {
   "cell_type": "code",
   "execution_count": 224,
   "metadata": {},
   "outputs": [
    {
     "data": {
      "text/plain": [
       "array([[0.967     , 0.9635    , 0.9635    , 0.9635    , 0.9635    ],\n",
       "       [0.96233333, 0.954     , 0.95666667, 0.95666667, 0.95666667],\n",
       "       [0.9438    , 0.9412    , 0.947     , 0.9432    , 0.9438    ]])"
      ]
     },
     "execution_count": 224,
     "metadata": {},
     "output_type": "execute_result"
    }
   ],
   "source": [
    "train_scores"
   ]
  },
  {
   "cell_type": "code",
   "execution_count": 225,
   "metadata": {
    "scrolled": true
   },
   "outputs": [
    {
     "data": {
      "text/plain": [
       "array([[0.80714286, 0.80428571, 0.80642857, 0.805     , 0.81571429],\n",
       "       [0.81357143, 0.83142857, 0.81642857, 0.81642857, 0.84214286],\n",
       "       [0.83571429, 0.84142857, 0.82642857, 0.82571429, 0.85214286]])"
      ]
     },
     "execution_count": 225,
     "metadata": {},
     "output_type": "execute_result"
    }
   ],
   "source": [
    "valid_scores"
   ]
  },
  {
   "cell_type": "markdown",
   "metadata": {},
   "source": [
    "Based on the above graph and results, having more than 3000 training data helps us to improve validation score and decrease the overfitting. As we increase training data size, the validation score improve and training score decreases."
   ]
  },
  {
   "cell_type": "markdown",
   "metadata": {},
   "source": [
    "# 8. Fitting ANN Algorithm and optimization"
   ]
  },
  {
   "cell_type": "code",
   "execution_count": 260,
   "metadata": {},
   "outputs": [],
   "source": [
    "vocab_size = 5000\n",
    "embedding_dim = 16\n",
    "max_length = 120\n",
    "trunc_type='post'\n",
    "oov_tok='<OOV>'\n",
    "\n",
    "tokenizer = Tokenizer(num_words=vocab_size, oov_token=oov_tok)\n",
    "tokenizer.fit_on_texts(Train_X)\n",
    "word_index = tokenizer.word_index\n",
    "sequences = tokenizer.texts_to_sequences(Train_X)\n",
    "padded = pad_sequences(sequences, maxlen=max_length, truncating=trunc_type)\n",
    "\n",
    "testing_sequences = tokenizer.texts_to_sequences(Test_X)\n",
    "testing_padded = pad_sequences(testing_sequences, maxlen=max_length, truncating=trunc_type)"
   ]
  },
  {
   "cell_type": "code",
   "execution_count": 261,
   "metadata": {},
   "outputs": [
    {
     "name": "stdout",
     "output_type": "stream",
     "text": [
      "Model: \"sequential_20\"\n",
      "_________________________________________________________________\n",
      "Layer (type)                 Output Shape              Param #   \n",
      "=================================================================\n",
      "embedding_20 (Embedding)     (None, 120, 16)           80000     \n",
      "_________________________________________________________________\n",
      "global_average_pooling1d_20  (None, 16)                0         \n",
      "_________________________________________________________________\n",
      "dense_40 (Dense)             (None, 6)                 102       \n",
      "_________________________________________________________________\n",
      "dense_41 (Dense)             (None, 1)                 7         \n",
      "=================================================================\n",
      "Total params: 80,109\n",
      "Trainable params: 80,109\n",
      "Non-trainable params: 0\n",
      "_________________________________________________________________\n"
     ]
    }
   ],
   "source": [
    "model = tf.keras.Sequential([\n",
    "    tf.keras.layers.Embedding(vocab_size, embedding_dim, input_length=max_length),\n",
    "    tf.keras.layers.GlobalAveragePooling1D(),\n",
    "    tf.keras.layers.Dense(6, activation='relu'),\n",
    "    tf.keras.layers.Dense(1, activation='sigmoid')\n",
    "])\n",
    "\n",
    "model.compile(loss='binary_crossentropy', optimizer='adam', metrics=['accuracy'])\n",
    "model.summary()"
   ]
  },
  {
   "cell_type": "code",
   "execution_count": 262,
   "metadata": {
    "scrolled": true
   },
   "outputs": [
    {
     "name": "stdout",
     "output_type": "stream",
     "text": [
      "Train on 7000 samples, validate on 3000 samples\n",
      "Epoch 1/20\n",
      "7000/7000 [==============================] - 1s 169us/sample - loss: 0.6875 - accuracy: 0.6361 - val_loss: 0.6774 - val_accuracy: 0.7387\n",
      "Epoch 2/20\n",
      "7000/7000 [==============================] - 1s 103us/sample - loss: 0.6450 - accuracy: 0.7881 - val_loss: 0.6036 - val_accuracy: 0.7783\n",
      "Epoch 3/20\n",
      "7000/7000 [==============================] - 1s 98us/sample - loss: 0.5065 - accuracy: 0.8457 - val_loss: 0.4601 - val_accuracy: 0.8360\n",
      "Epoch 4/20\n",
      "7000/7000 [==============================] - 1s 107us/sample - loss: 0.3750 - accuracy: 0.8757 - val_loss: 0.3970 - val_accuracy: 0.8320\n",
      "Epoch 5/20\n",
      "7000/7000 [==============================] - 1s 103us/sample - loss: 0.3047 - accuracy: 0.8964 - val_loss: 0.3584 - val_accuracy: 0.8557\n",
      "Epoch 6/20\n",
      "7000/7000 [==============================] - 1s 99us/sample - loss: 0.2612 - accuracy: 0.9103 - val_loss: 0.3458 - val_accuracy: 0.8547\n",
      "Epoch 7/20\n",
      "7000/7000 [==============================] - 1s 110us/sample - loss: 0.2307 - accuracy: 0.9197 - val_loss: 0.3414 - val_accuracy: 0.8553\n",
      "Epoch 8/20\n",
      "7000/7000 [==============================] - 1s 123us/sample - loss: 0.2066 - accuracy: 0.9277 - val_loss: 0.3411 - val_accuracy: 0.8607\n",
      "Epoch 9/20\n",
      "7000/7000 [==============================] - 1s 110us/sample - loss: 0.1873 - accuracy: 0.9374 - val_loss: 0.3439 - val_accuracy: 0.8593\n",
      "Epoch 10/20\n",
      "7000/7000 [==============================] - 1s 102us/sample - loss: 0.1702 - accuracy: 0.9436 - val_loss: 0.3525 - val_accuracy: 0.8540\n",
      "Epoch 11/20\n",
      "7000/7000 [==============================] - 1s 103us/sample - loss: 0.1557 - accuracy: 0.9483 - val_loss: 0.3579 - val_accuracy: 0.8530\n",
      "Epoch 12/20\n",
      "7000/7000 [==============================] - 1s 104us/sample - loss: 0.1420 - accuracy: 0.9546 - val_loss: 0.3710 - val_accuracy: 0.8530\n",
      "Epoch 13/20\n",
      "7000/7000 [==============================] - 1s 100us/sample - loss: 0.1306 - accuracy: 0.9581 - val_loss: 0.3781 - val_accuracy: 0.8517\n",
      "Epoch 14/20\n",
      "7000/7000 [==============================] - 1s 119us/sample - loss: 0.1199 - accuracy: 0.9623 - val_loss: 0.3948 - val_accuracy: 0.8483\n",
      "Epoch 15/20\n",
      "7000/7000 [==============================] - 1s 120us/sample - loss: 0.1100 - accuracy: 0.9654 - val_loss: 0.4034 - val_accuracy: 0.8490\n",
      "Epoch 16/20\n",
      "7000/7000 [==============================] - 1s 123us/sample - loss: 0.1004 - accuracy: 0.9709 - val_loss: 0.4207 - val_accuracy: 0.8480\n",
      "Epoch 17/20\n",
      "7000/7000 [==============================] - 1s 109us/sample - loss: 0.0929 - accuracy: 0.9737 - val_loss: 0.4566 - val_accuracy: 0.8390\n",
      "Epoch 18/20\n",
      "7000/7000 [==============================] - 1s 125us/sample - loss: 0.0841 - accuracy: 0.9760 - val_loss: 0.4531 - val_accuracy: 0.8450\n",
      "Epoch 19/20\n",
      "7000/7000 [==============================] - 1s 133us/sample - loss: 0.0775 - accuracy: 0.9793 - val_loss: 0.4679 - val_accuracy: 0.8443\n",
      "Epoch 20/20\n",
      "7000/7000 [==============================] - 1s 106us/sample - loss: 0.0710 - accuracy: 0.9817 - val_loss: 0.4863 - val_accuracy: 0.8443\n"
     ]
    }
   ],
   "source": [
    "num_epochs = 20\n",
    "history = model.fit(padded, Train_Y, epochs=num_epochs, validation_data=(testing_padded, Test_Y))\n"
   ]
  },
  {
   "cell_type": "code",
   "execution_count": 263,
   "metadata": {
    "scrolled": true
   },
   "outputs": [
    {
     "data": {
      "image/png": "[encoded data removed]",
      "text/plain": [
       "<Figure size 576x360 with 1 Axes>"
      ]
     },
     "metadata": {
      "needs_background": "light"
     },
     "output_type": "display_data"
    }
   ],
   "source": [
    "#Plot loss and accuracy of model for each epoch\n",
    "pd.DataFrame(history.history).plot(figsize=(8, 5))\n",
    "plt.grid(True)\n",
    "plt.gca().set_ylim(0, 1) # set the vertical range to [0-1]\n",
    "plt.show()"
   ]
  },
  {
   "cell_type": "markdown",
   "metadata": {},
   "source": [
    "The graph above clearly shows that the model is overfitting the training data. There are several ways to avoid overfitting such as adding regualizers and decreasing the network size. Also adding more training data can help to have a higher accuracy for validation data. These parameters were changed several times and following is one of the good results."
   ]
  },
  {
   "cell_type": "code",
   "execution_count": 395,
   "metadata": {},
   "outputs": [],
   "source": [
    "# Increasing vocab size, max_length, and adding drop out layers in ANN\n",
    "vocab_size = 40000\n",
    "embedding_dim = 16\n",
    "max_length = 200\n",
    "trunc_type='post'\n",
    "oov_tok='<OOV>'\n",
    "\n",
    "tokenizer = Tokenizer(num_words=vocab_size, oov_token=oov_tok)\n",
    "tokenizer.fit_on_texts(Train_X)\n",
    "word_index = tokenizer.word_index\n",
    "sequences = tokenizer.texts_to_sequences(Train_X)\n",
    "padded = pad_sequences(sequences, maxlen=max_length, truncating=trunc_type)\n",
    "\n",
    "testing_sequences = tokenizer.texts_to_sequences(Test_X)\n",
    "testing_padded = pad_sequences(testing_sequences, maxlen=max_length, truncating=trunc_type)"
   ]
  },
  {
   "cell_type": "code",
   "execution_count": 396,
   "metadata": {},
   "outputs": [
    {
     "name": "stdout",
     "output_type": "stream",
     "text": [
      "Model: \"sequential_50\"\n",
      "_________________________________________________________________\n",
      "Layer (type)                 Output Shape              Param #   \n",
      "=================================================================\n",
      "embedding_53 (Embedding)     (None, 200, 16)           640000    \n",
      "_________________________________________________________________\n",
      "global_average_pooling1d_53  (None, 16)                0         \n",
      "_________________________________________________________________\n",
      "dropout_18 (Dropout)         (None, 16)                0         \n",
      "_________________________________________________________________\n",
      "dense_100 (Dense)            (None, 6)                 102       \n",
      "_________________________________________________________________\n",
      "dropout_19 (Dropout)         (None, 6)                 0         \n",
      "_________________________________________________________________\n",
      "dense_101 (Dense)            (None, 1)                 7         \n",
      "=================================================================\n",
      "Total params: 640,109\n",
      "Trainable params: 640,109\n",
      "Non-trainable params: 0\n",
      "_________________________________________________________________\n"
     ]
    }
   ],
   "source": [
    "model = tf.keras.Sequential([\n",
    "    tf.keras.layers.Embedding(vocab_size, embedding_dim, input_length=max_length),\n",
    "    tf.keras.layers.GlobalAveragePooling1D(),\n",
    "    tf.keras.layers.Dropout(0.7),\n",
    "    tf.keras.layers.Dense(6, activation='relu'),\n",
    "    tf.keras.layers.Dropout(0.4),\n",
    "    tf.keras.layers.Dense(1, activation='sigmoid')\n",
    "])\n",
    "\n",
    "model.compile(loss='binary_crossentropy', optimizer='adam', metrics=['accuracy'])\n",
    "model.summary()"
   ]
  },
  {
   "cell_type": "code",
   "execution_count": 397,
   "metadata": {
    "scrolled": true
   },
   "outputs": [
    {
     "name": "stdout",
     "output_type": "stream",
     "text": [
      "Train on 7000 samples, validate on 3000 samples\n",
      "Epoch 1/20\n",
      "7000/7000 [==============================] - 3s 473us/sample - loss: 0.6933 - accuracy: 0.5043 - val_loss: 0.6922 - val_accuracy: 0.6920\n",
      "Epoch 2/20\n",
      "7000/7000 [==============================] - 3s 374us/sample - loss: 0.6908 - accuracy: 0.5226 - val_loss: 0.6885 - val_accuracy: 0.5357\n",
      "Epoch 3/20\n",
      "7000/7000 [==============================] - 3s 377us/sample - loss: 0.6862 - accuracy: 0.5607 - val_loss: 0.6809 - val_accuracy: 0.5480\n",
      "Epoch 4/20\n",
      "7000/7000 [==============================] - 3s 380us/sample - loss: 0.6710 - accuracy: 0.6127 - val_loss: 0.6580 - val_accuracy: 0.5963\n",
      "Epoch 5/20\n",
      "7000/7000 [==============================] - 3s 379us/sample - loss: 0.6299 - accuracy: 0.6866 - val_loss: 0.6009 - val_accuracy: 0.7533\n",
      "Epoch 6/20\n",
      "7000/7000 [==============================] - 3s 380us/sample - loss: 0.5679 - accuracy: 0.7567 - val_loss: 0.5333 - val_accuracy: 0.7940\n",
      "Epoch 7/20\n",
      "7000/7000 [==============================] - 3s 414us/sample - loss: 0.5097 - accuracy: 0.7837 - val_loss: 0.4793 - val_accuracy: 0.8350\n",
      "Epoch 8/20\n",
      "7000/7000 [==============================] - 3s 408us/sample - loss: 0.4595 - accuracy: 0.8116 - val_loss: 0.4360 - val_accuracy: 0.8450\n",
      "Epoch 9/20\n",
      "7000/7000 [==============================] - 3s 436us/sample - loss: 0.4296 - accuracy: 0.8280 - val_loss: 0.4088 - val_accuracy: 0.8440\n",
      "Epoch 10/20\n",
      "7000/7000 [==============================] - 3s 428us/sample - loss: 0.3923 - accuracy: 0.8531 - val_loss: 0.3868 - val_accuracy: 0.8517\n",
      "Epoch 11/20\n",
      "7000/7000 [==============================] - 3s 440us/sample - loss: 0.3688 - accuracy: 0.8621 - val_loss: 0.3718 - val_accuracy: 0.8523\n",
      "Epoch 12/20\n",
      "7000/7000 [==============================] - 3s 444us/sample - loss: 0.3499 - accuracy: 0.8707 - val_loss: 0.3586 - val_accuracy: 0.8573\n",
      "Epoch 13/20\n",
      "7000/7000 [==============================] - 3s 446us/sample - loss: 0.3306 - accuracy: 0.8786 - val_loss: 0.3506 - val_accuracy: 0.8553\n",
      "Epoch 14/20\n",
      "7000/7000 [==============================] - 3s 437us/sample - loss: 0.3080 - accuracy: 0.8799 - val_loss: 0.3424 - val_accuracy: 0.8563\n",
      "Epoch 15/20\n",
      "7000/7000 [==============================] - 3s 429us/sample - loss: 0.2805 - accuracy: 0.8980 - val_loss: 0.3463 - val_accuracy: 0.8537\n",
      "Epoch 16/20\n",
      "7000/7000 [==============================] - 3s 432us/sample - loss: 0.2734 - accuracy: 0.8991 - val_loss: 0.3377 - val_accuracy: 0.8587\n",
      "Epoch 17/20\n",
      "7000/7000 [==============================] - 3s 424us/sample - loss: 0.2557 - accuracy: 0.9089 - val_loss: 0.3351 - val_accuracy: 0.8617\n",
      "Epoch 18/20\n",
      "7000/7000 [==============================] - 3s 432us/sample - loss: 0.2453 - accuracy: 0.9093 - val_loss: 0.3457 - val_accuracy: 0.8537\n",
      "Epoch 19/20\n",
      "7000/7000 [==============================] - 3s 439us/sample - loss: 0.2374 - accuracy: 0.9106 - val_loss: 0.3405 - val_accuracy: 0.8560\n",
      "Epoch 20/20\n",
      "7000/7000 [==============================] - 3s 426us/sample - loss: 0.2288 - accuracy: 0.9157 - val_loss: 0.3428 - val_accuracy: 0.8593\n"
     ]
    }
   ],
   "source": [
    "num_epochs = 20\n",
    "history = model.fit(padded, Train_Y, epochs=num_epochs, validation_data=(testing_padded, Test_Y))"
   ]
  },
  {
   "cell_type": "code",
   "execution_count": 398,
   "metadata": {},
   "outputs": [
    {
     "data": {
      "image/png": "[encoded data removed]",
      "text/plain": [
       "<Figure size 576x360 with 1 Axes>"
      ]
     },
     "metadata": {
      "needs_background": "light"
     },
     "output_type": "display_data"
    }
   ],
   "source": [
    "#Plot loss and accuracy of model for each epoch\n",
    "pd.DataFrame(history.history).plot(figsize=(8, 5))\n",
    "plt.grid(True)\n",
    "plt.gca().set_ylim(0, 1) # set the vertical range to [0-1]\n",
    "plt.show()"
   ]
  },
  {
   "cell_type": "markdown",
   "metadata": {},
   "source": [
    "We can see that the distance between accuracy and loss values of training and validation data have decreased which means that overfitting has been decreased. "
   ]
  },
  {
   "cell_type": "code",
   "execution_count": null,
   "metadata": {},
   "outputs": [],
   "source": []
  }
 ],
 "metadata": {
  "kernelspec": {
   "display_name": "Python 3",
   "language": "python",
   "name": "python3"
  },
  "language_info": {
   "codemirror_mode": {
    "name": "ipython",
    "version": 3
   },
   "file_extension": ".py",
   "mimetype": "text/x-python",
   "name": "python",
   "nbconvert_exporter": "python",
   "pygments_lexer": "ipython3",
   "version": "3.7.3"
  },
  "toc": {
   "base_numbering": 1,
   "nav_menu": {},
   "number_sections": true,
   "sideBar": true,
   "skip_h1_title": false,
   "title_cell": "Table of Contents",
   "title_sidebar": "Contents",
   "toc_cell": false,
   "toc_position": {},
   "toc_section_display": true,
   "toc_window_display": false
  },
  "varInspector": {
   "cols": {
    "lenName": 16,
    "lenType": 16,
    "lenVar": 40
   },
   "kernels_config": {
    "python": {
     "delete_cmd_postfix": "",
     "delete_cmd_prefix": "del ",
     "library": "var_list.py",
     "varRefreshCmd": "print(var_dic_list())"
    },
    "r": {
     "delete_cmd_postfix": ") ",
     "delete_cmd_prefix": "rm(",
     "library": "var_list.r",
     "varRefreshCmd": "cat(var_dic_list()) "
    }
   },
   "types_to_exclude": [
    "module",
    "function",
    "builtin_function_or_method",
    "instance",
    "_Feature"
   ],
   "window_display": false
  }
 },
 "nbformat": 4,
 "nbformat_minor": 2
}
